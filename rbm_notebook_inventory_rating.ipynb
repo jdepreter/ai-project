{
 "cells": [
  {
   "cell_type": "markdown",
   "metadata": {},
   "source": [
    "# Restricted Boltzmann Machine Defintion"
   ]
  },
  {
   "cell_type": "markdown",
   "metadata": {
    "collapsed": false
   },
   "source": [
    "### Import PyTorch library"
   ]
  },
  {
   "cell_type": "code",
   "execution_count": 1,
   "metadata": {
    "collapsed": false,
    "pycharm": {
     "name": "#%%\n",
     "is_executing": false
    }
   },
   "outputs": [],
   "source": [
    "import torch\n",
    "import torch.nn as nn\n",
    "\n",
    "device = torch.device('cpu')\n",
    "if torch.cuda.is_available():\n",
    "    device = torch.device('cuda')"
   ]
  },
  {
   "cell_type": "markdown",
   "metadata": {
    "collapsed": false
   },
   "source": [
    "### the Restricted Boltzmann Machine architecture"
   ]
  },
  {
   "cell_type": "code",
   "execution_count": 2,
   "metadata": {
    "pycharm": {
     "is_executing": false
    }
   },
   "outputs": [],
   "source": [
    "# https://github.com/khanhnamle1994/MetaRec/blob/b5e36cb579a88b32cdfb728f35f645d76b24ad95/Boltzmann-Machines-Experiments/RBM-CF-PyTorch/rbm.py#L23\n",
    "# \n",
    "class RBM(nn.Module):\n",
    "    def __init__(self, n_vis, n_hid, k, batch_size):\n",
    "        \"\"\"\n",
    "        Initialize the parameters (weights and biases) we optimize during the training process\n",
    "        :param n_vis: number of visible units\n",
    "        :param n_hid: number of hidden units\n",
    "        \"\"\"\n",
    "        self.i = 0\n",
    "        self.K = k\n",
    "        self.batch_size = batch_size\n",
    "\n",
    "        # Weights used for the probability of the visible units given the hidden units\n",
    "        super().__init__()\n",
    "        self.W = torch.randn(k, n_hid, n_vis)  # torch.rand: random normal distribution mean = 0, variance = 1\n",
    "\n",
    "        # Bias probability of the visible units is activated, given the value of the hidden units (p_v_given_h)\n",
    "        self.v_bias = torch.zeros(k, 1, n_vis)  # fake dimension for the batch = 1\n",
    "\n",
    "        # Bias probability of the hidden units is activated, given the value of the visible units (p_h_given_v)\n",
    "        self.h_bias = torch.zeros(1, n_hid)  # fake dimension for the batch = 1\n",
    "\n",
    "        if torch.cuda.is_available():\n",
    "            self.W = self.W.cuda()\n",
    "            self.v_bias = self.v_bias.cuda()\n",
    "            self.h_bias = self.h_bias.cuda()\n",
    "    \n",
    "    def lr(self):\n",
    "        \"\"\"\n",
    "        return the learning rate of the model, lr is based on batchsize\n",
    "        :return: constant/batch_size\n",
    "        \"\"\"\n",
    "        return 0.01 / self.batch_size\n",
    "\n",
    "    def sample_h(self, x):\n",
    "        \"\"\"\n",
    "        Sample the hidden units\n",
    "        :param x: the dataset\n",
    "        \"\"\"\n",
    "\n",
    "        # Probability h is activated given that the value v is sigmoid(Wx + a)\n",
    "        # torch.mm make the product of 2 tensors\n",
    "        # W.t() take the transpose because W is used for the p_v_given_h\n",
    "\n",
    "        temp = torch.transpose(self.W, 1, 2)\n",
    "\n",
    "        wxs = []\n",
    "        for i in range(self.K):\n",
    "            wxs.append(torch.mm(x[i], temp[i]))\n",
    "            \n",
    "        wx = torch.stack(wxs)\n",
    "        wx_sum = torch.sum(wx, 0)\n",
    "\n",
    "        # Expand the mini-batch\n",
    "        activation = wx_sum + self.h_bias.expand_as(wx_sum)\n",
    "\n",
    "        # Calculate the probability p_h_given_v\n",
    "        p_h_given_v = torch.sigmoid(activation)\n",
    "\n",
    "        # Construct a Bernoulli RBM to predict whether an user loves the movie or not (0 or 1)\n",
    "        # This corresponds to whether the n_hid is activated or not activated\n",
    "        return p_h_given_v, torch.bernoulli(p_h_given_v)\n",
    "\n",
    "    def sample_v(self, y):\n",
    "        \"\"\"\n",
    "        Sample the visible units\n",
    "        :param y: the dataset\n",
    "        \"\"\"\n",
    "\n",
    "        exponents = []\n",
    "        for k in range(self.K):\n",
    "            wy = torch.mm(y, self.W[k])\n",
    "            activation = wy + self.v_bias[k].expand_as(wy)\n",
    "            exponents.append(torch.exp(activation))\n",
    "\n",
    "        exponent_tensor = torch.stack(exponents)\n",
    "        exponent_sum = torch.sum(exponent_tensor, 0)\n",
    "        probs = []\n",
    "        for k in range(self.K):\n",
    "            p_v_k_given_h = exponent_tensor[k] / exponent_sum\n",
    "            probs.append(p_v_k_given_h)\n",
    "\n",
    "        p_v_given_h = torch.stack(probs)\n",
    "        # todo multinomial\n",
    "        bern = torch.bernoulli(p_v_given_h)\n",
    "        return p_v_given_h, bern\n",
    "\n",
    "\n",
    "    def train_model(self, v0, vk, ph0, phk):\n",
    "        \"\"\"\n",
    "        Perform contrastive divergence algorithm to optimize the weights that minimize the energy\n",
    "        This maximizes the log-likelihood of the model\n",
    "        \"\"\"\n",
    "\n",
    "        ph0_K = torch.stack([ph0 for _ in range(self.K)])\n",
    "        phk_K = torch.stack([phk for _ in range(self.K)])\n",
    "\n",
    "        poss = []\n",
    "        negs = []\n",
    "        for i in range(self.K):\n",
    "            poss.append(torch.mm(torch.transpose(v0, 1, 2)[i], ph0_K[i]))\n",
    "            negs.append(torch.mm(torch.transpose(vk, 1, 2)[i], phk_K[i]))\n",
    "\n",
    "        pos = torch.stack(poss)\n",
    "        neg = torch.stack(negs)\n",
    "\n",
    "        w_extra = torch.transpose(pos - neg, 1, 2)\n",
    "        v_extra = torch.sum((v0 - vk), 1)\n",
    "        h_extra = torch.sum((ph0 - phk), 0)\n",
    "\n",
    "        # Approximate the gradients with the CD algorithm\n",
    "        self.W -= self.lr() * w_extra\n",
    "\n",
    "        # Add (difference, 0) for the tensor of 2 dimensions\n",
    "        self.v_bias -= self.lr() * v_extra.unsqueeze(1)\n",
    "        self.h_bias -= self.lr() * h_extra\n",
    "        self.i += 1"
   ]
  },
  {
   "cell_type": "code",
   "execution_count": 3,
   "metadata": {
    "pycharm": {
     "is_executing": false
    }
   },
   "outputs": [],
   "source": [
    "cuda = torch.device('cuda')"
   ]
  },
  {
   "cell_type": "markdown",
   "metadata": {},
   "source": [
    "## General Imports"
   ]
  },
  {
   "cell_type": "code",
   "execution_count": 4,
   "metadata": {
    "pycharm": {
     "is_executing": false
    }
   },
   "outputs": [],
   "source": [
    "import numpy as np\n",
    "import pickle as pickle\n",
    "import pandas as pd\n",
    "import scipy\n",
    "import sklearn\n",
    "import gzip\n",
    "import json\n",
    "from tqdm import tqdm, trange\n",
    "import os\n",
    "from collections import Counter\n",
    "from datetime import datetime\n",
    "import math\n",
    "tqdm.pandas() #for progres_apply etc."
   ]
  },
  {
   "cell_type": "markdown",
   "metadata": {},
   "source": [
    "## Reading in steamdata"
   ]
  },
  {
   "cell_type": "code",
   "execution_count": 5,
   "metadata": {},
   "outputs": [],
   "source": [
    "def load_interactions(path, n_splits=5):\n",
    "    \"\"\"\n",
    "    load in the interactions_splits.pkl.gz file with our data for the various users\n",
    "    :param path: path location of the data\n",
    "    :param n_splits: split in n_split splits\n",
    "    :return: \n",
    "    \"\"\"\n",
    "    df = pd.read_pickle(os.path.join(os.getcwd(), path))\n",
    "    df[['interactions', 'train', 'val', 'test']] = df[['interactions', 'train', 'val', 'test']].applymap(lambda x: np.array(x, dtype=np.int32))\n",
    "    interactions_dict = {}\n",
    "    for split in trange(n_splits):\n",
    "        for column in ['train', 'val', 'test']:\n",
    "            interactions_dict[split, column] = pd.DataFrame({\n",
    "                'user_id': df['user_id'],\n",
    "                'steam_id': df['steam_id'],\n",
    "                'item_id': df[column].apply(lambda x: x[split, 0]),\n",
    "                'playtime_forever': df[column].apply(lambda x: x[split, 1]),\n",
    "                'playtime_2weeks': df[column].apply(lambda x: x[split, 2])})\n",
    "    return interactions_dict"
   ]
  },
  {
   "cell_type": "markdown",
   "metadata": {
    "collapsed": false
   },
   "source": [
    "### Reading and showning train data"
   ]
  },
  {
   "cell_type": "code",
   "execution_count": 6,
   "metadata": {},
   "outputs": [
    {
     "name": "stderr",
     "output_type": "stream",
     "text": [
      "100%|██████████| 5/5 [00:00<00:00,  8.39it/s]\n"
     ]
    },
    {
     "data": {
      "text/plain": "             user_id           steam_id  \\\n0  76561197981203305  76561197981203305   \n1          bosslucek  76561198029968002   \n2          icantwait  76561197971666535   \n3  76561198067911521  76561198067911521   \n4         kushziller  76561198021307778   \n\n                                             item_id  \\\n0  [1461, 1999, 1984, 761, 2820, 819, 187, 506, 3...   \n1  [4014, 1018, 3632, 2843, 2755, 219, 6245, 2621...   \n2  [886, 2010, 419, 2217, 1293, 2809, 802, 155, 2...   \n3  [1849, 1038, 229, 400, 1386, 1437, 1363, 515, ...   \n4  [2883, 401, 2243, 4408, 3966, 1487, 1888, 2708...   \n\n                                    playtime_forever  \\\n0  [0, 0, 0, 0, 0, 0, 0, 0, 0, 0, 0, 0, 0, 0, 0, ...   \n1  [0, 0, 0, 0, 0, 0, 0, 0, 0, 0, 0, 0, 0, 0, 0, ...   \n2  [0, 0, 0, 0, 0, 0, 0, 0, 0, 0, 0, 0, 0, 0, 0, ...   \n3  [0, 0, 0, 0, 0, 0, 0, 0, 0, 0, 0, 0, 0, 0, 0, ...   \n4  [0, 0, 0, 0, 0, 0, 0, 0, 0, 0, 0, 0, 0, 0, 0, ...   \n\n                                     playtime_2weeks  \n0  [0, 0, 0, 0, 0, 0, 0, 0, 0, 0, 0, 0, 0, 0, 0, ...  \n1  [0, 0, 0, 0, 0, 0, 0, 0, 0, 0, 0, 0, 0, 0, 0, ...  \n2  [0, 0, 0, 0, 0, 0, 0, 0, 0, 0, 0, 0, 0, 0, 0, ...  \n3  [0, 0, 0, 0, 0, 0, 0, 0, 0, 0, 0, 0, 0, 0, 0, ...  \n4  [0, 0, 0, 0, 0, 0, 0, 0, 0, 0, 0, 0, 0, 0, 0, ...  ",
      "text/html": "<div>\n<style scoped>\n    .dataframe tbody tr th:only-of-type {\n        vertical-align: middle;\n    }\n\n    .dataframe tbody tr th {\n        vertical-align: top;\n    }\n\n    .dataframe thead th {\n        text-align: right;\n    }\n</style>\n<table border=\"1\" class=\"dataframe\">\n  <thead>\n    <tr style=\"text-align: right;\">\n      <th></th>\n      <th>user_id</th>\n      <th>steam_id</th>\n      <th>item_id</th>\n      <th>playtime_forever</th>\n      <th>playtime_2weeks</th>\n    </tr>\n  </thead>\n  <tbody>\n    <tr>\n      <th>0</th>\n      <td>76561197981203305</td>\n      <td>76561197981203305</td>\n      <td>[1461, 1999, 1984, 761, 2820, 819, 187, 506, 3...</td>\n      <td>[0, 0, 0, 0, 0, 0, 0, 0, 0, 0, 0, 0, 0, 0, 0, ...</td>\n      <td>[0, 0, 0, 0, 0, 0, 0, 0, 0, 0, 0, 0, 0, 0, 0, ...</td>\n    </tr>\n    <tr>\n      <th>1</th>\n      <td>bosslucek</td>\n      <td>76561198029968002</td>\n      <td>[4014, 1018, 3632, 2843, 2755, 219, 6245, 2621...</td>\n      <td>[0, 0, 0, 0, 0, 0, 0, 0, 0, 0, 0, 0, 0, 0, 0, ...</td>\n      <td>[0, 0, 0, 0, 0, 0, 0, 0, 0, 0, 0, 0, 0, 0, 0, ...</td>\n    </tr>\n    <tr>\n      <th>2</th>\n      <td>icantwait</td>\n      <td>76561197971666535</td>\n      <td>[886, 2010, 419, 2217, 1293, 2809, 802, 155, 2...</td>\n      <td>[0, 0, 0, 0, 0, 0, 0, 0, 0, 0, 0, 0, 0, 0, 0, ...</td>\n      <td>[0, 0, 0, 0, 0, 0, 0, 0, 0, 0, 0, 0, 0, 0, 0, ...</td>\n    </tr>\n    <tr>\n      <th>3</th>\n      <td>76561198067911521</td>\n      <td>76561198067911521</td>\n      <td>[1849, 1038, 229, 400, 1386, 1437, 1363, 515, ...</td>\n      <td>[0, 0, 0, 0, 0, 0, 0, 0, 0, 0, 0, 0, 0, 0, 0, ...</td>\n      <td>[0, 0, 0, 0, 0, 0, 0, 0, 0, 0, 0, 0, 0, 0, 0, ...</td>\n    </tr>\n    <tr>\n      <th>4</th>\n      <td>kushziller</td>\n      <td>76561198021307778</td>\n      <td>[2883, 401, 2243, 4408, 3966, 1487, 1888, 2708...</td>\n      <td>[0, 0, 0, 0, 0, 0, 0, 0, 0, 0, 0, 0, 0, 0, 0, ...</td>\n      <td>[0, 0, 0, 0, 0, 0, 0, 0, 0, 0, 0, 0, 0, 0, 0, ...</td>\n    </tr>\n  </tbody>\n</table>\n</div>"
     },
     "execution_count": 6,
     "metadata": {},
     "output_type": "execute_result"
    }
   ],
   "source": [
    "interactions = load_interactions(\"./data-cleaned/interactions_splits.pkl.gz\")\n",
    "interactions[0, 'train'].head()"
   ]
  },
  {
   "cell_type": "markdown",
   "metadata": {
    "collapsed": false
   },
   "source": [
    "### Reading and showing list of games"
   ]
  },
  {
   "cell_type": "code",
   "execution_count": 7,
   "metadata": {},
   "outputs": [
    {
     "data": {
      "text/plain": "                      publisher  \\\n0                Rockstar Games   \n1                         Valve   \n2            Trion Worlds, Inc.   \n3           Bohemia Interactive   \n4  Unknown Worlds Entertainment   \n\n                                              genres  \\\n0                                           [Action]   \n1                                           [Action]   \n2  [Action, Free to Play, Massively Multiplayer, ...   \n3                     [Action, Simulation, Strategy]   \n4                          [Action, Indie, Strategy]   \n\n                                       app_name  \\\n0  Grand Theft Auto: Episodes from Liberty City   \n1                                     Half-Life   \n2                                      Defiance   \n3                                        Arma 3   \n4                           Natural Selection 2   \n\n                                          title  \\\n0  Grand Theft Auto: Episodes from Liberty City   \n1                                     Half-Life   \n2                                      Defiance   \n3                                        Arma 3   \n4                           Natural Selection 2   \n\n                                                 url release_date  \\\n0  http://store.steampowered.com/app/12220/Grand_...   2010-04-12   \n1     http://store.steampowered.com/app/70/HalfLife/   1998-11-08   \n2  http://store.steampowered.com/app/224600/Defia...   2014-06-04   \n3   http://store.steampowered.com/app/107410/Arma_3/   2013-09-12   \n4  http://store.steampowered.com/app/4920/Natural...   2012-10-30   \n\n                                                tags  discount_price  \\\n0  [Open World, Action, Third Person, Multiplayer...             NaN   \n1  [FPS, Classic, Action, Sci-fi, Singleplayer, S...             NaN   \n2  [Free to Play, Action, Open World, Massively M...             NaN   \n3  [Simulation, Military, Multiplayer, Realistic,...             NaN   \n4  [Multiplayer, Strategy, FPS, Team-Based, Actio...             NaN   \n\n                                         reviews_url  \\\n0  http://steamcommunity.com/app/12220/reviews/?b...   \n1  http://steamcommunity.com/app/70/reviews/?brow...   \n2  http://steamcommunity.com/app/224600/reviews/?...   \n3  http://steamcommunity.com/app/107410/reviews/?...   \n4  http://steamcommunity.com/app/4920/reviews/?br...   \n\n                                               specs         price  \\\n0                      [Single-player, Multi-player]         19.99   \n1  [Single-player, Multi-player, Valve Anti-Cheat...          9.99   \n2  [Multi-player, MMO, Co-op, Steam Trading Cards...  Free to Play   \n3  [Single-player, Multi-player, Online Multi-Pla...         39.99   \n4  [Multi-player, Online Multi-Player, Steam Achi...          9.99   \n\n   early_access      id                     developer  \\\n0         False   12220      Rockstar North / Toronto   \n1         False      70                         Valve   \n2         False  224600            Trion Worlds, Inc.   \n3         False  107410           Bohemia Interactive   \n4         False    4920  Unknown Worlds Entertainment   \n\n                 sentiment metascore  users_count  \n0          Mostly Positive       NaN         7597  \n1  Overwhelmingly Positive        96         7575  \n2          Mostly Positive        64         7539  \n3            Very Positive        74         7527  \n4            Very Positive        80         7502  ",
      "text/html": "<div>\n<style scoped>\n    .dataframe tbody tr th:only-of-type {\n        vertical-align: middle;\n    }\n\n    .dataframe tbody tr th {\n        vertical-align: top;\n    }\n\n    .dataframe thead th {\n        text-align: right;\n    }\n</style>\n<table border=\"1\" class=\"dataframe\">\n  <thead>\n    <tr style=\"text-align: right;\">\n      <th></th>\n      <th>publisher</th>\n      <th>genres</th>\n      <th>app_name</th>\n      <th>title</th>\n      <th>url</th>\n      <th>release_date</th>\n      <th>tags</th>\n      <th>discount_price</th>\n      <th>reviews_url</th>\n      <th>specs</th>\n      <th>price</th>\n      <th>early_access</th>\n      <th>id</th>\n      <th>developer</th>\n      <th>sentiment</th>\n      <th>metascore</th>\n      <th>users_count</th>\n    </tr>\n  </thead>\n  <tbody>\n    <tr>\n      <th>0</th>\n      <td>Rockstar Games</td>\n      <td>[Action]</td>\n      <td>Grand Theft Auto: Episodes from Liberty City</td>\n      <td>Grand Theft Auto: Episodes from Liberty City</td>\n      <td>http://store.steampowered.com/app/12220/Grand_...</td>\n      <td>2010-04-12</td>\n      <td>[Open World, Action, Third Person, Multiplayer...</td>\n      <td>NaN</td>\n      <td>http://steamcommunity.com/app/12220/reviews/?b...</td>\n      <td>[Single-player, Multi-player]</td>\n      <td>19.99</td>\n      <td>False</td>\n      <td>12220</td>\n      <td>Rockstar North / Toronto</td>\n      <td>Mostly Positive</td>\n      <td>NaN</td>\n      <td>7597</td>\n    </tr>\n    <tr>\n      <th>1</th>\n      <td>Valve</td>\n      <td>[Action]</td>\n      <td>Half-Life</td>\n      <td>Half-Life</td>\n      <td>http://store.steampowered.com/app/70/HalfLife/</td>\n      <td>1998-11-08</td>\n      <td>[FPS, Classic, Action, Sci-fi, Singleplayer, S...</td>\n      <td>NaN</td>\n      <td>http://steamcommunity.com/app/70/reviews/?brow...</td>\n      <td>[Single-player, Multi-player, Valve Anti-Cheat...</td>\n      <td>9.99</td>\n      <td>False</td>\n      <td>70</td>\n      <td>Valve</td>\n      <td>Overwhelmingly Positive</td>\n      <td>96</td>\n      <td>7575</td>\n    </tr>\n    <tr>\n      <th>2</th>\n      <td>Trion Worlds, Inc.</td>\n      <td>[Action, Free to Play, Massively Multiplayer, ...</td>\n      <td>Defiance</td>\n      <td>Defiance</td>\n      <td>http://store.steampowered.com/app/224600/Defia...</td>\n      <td>2014-06-04</td>\n      <td>[Free to Play, Action, Open World, Massively M...</td>\n      <td>NaN</td>\n      <td>http://steamcommunity.com/app/224600/reviews/?...</td>\n      <td>[Multi-player, MMO, Co-op, Steam Trading Cards...</td>\n      <td>Free to Play</td>\n      <td>False</td>\n      <td>224600</td>\n      <td>Trion Worlds, Inc.</td>\n      <td>Mostly Positive</td>\n      <td>64</td>\n      <td>7539</td>\n    </tr>\n    <tr>\n      <th>3</th>\n      <td>Bohemia Interactive</td>\n      <td>[Action, Simulation, Strategy]</td>\n      <td>Arma 3</td>\n      <td>Arma 3</td>\n      <td>http://store.steampowered.com/app/107410/Arma_3/</td>\n      <td>2013-09-12</td>\n      <td>[Simulation, Military, Multiplayer, Realistic,...</td>\n      <td>NaN</td>\n      <td>http://steamcommunity.com/app/107410/reviews/?...</td>\n      <td>[Single-player, Multi-player, Online Multi-Pla...</td>\n      <td>39.99</td>\n      <td>False</td>\n      <td>107410</td>\n      <td>Bohemia Interactive</td>\n      <td>Very Positive</td>\n      <td>74</td>\n      <td>7527</td>\n    </tr>\n    <tr>\n      <th>4</th>\n      <td>Unknown Worlds Entertainment</td>\n      <td>[Action, Indie, Strategy]</td>\n      <td>Natural Selection 2</td>\n      <td>Natural Selection 2</td>\n      <td>http://store.steampowered.com/app/4920/Natural...</td>\n      <td>2012-10-30</td>\n      <td>[Multiplayer, Strategy, FPS, Team-Based, Actio...</td>\n      <td>NaN</td>\n      <td>http://steamcommunity.com/app/4920/reviews/?br...</td>\n      <td>[Multi-player, Online Multi-Player, Steam Achi...</td>\n      <td>9.99</td>\n      <td>False</td>\n      <td>4920</td>\n      <td>Unknown Worlds Entertainment</td>\n      <td>Very Positive</td>\n      <td>80</td>\n      <td>7502</td>\n    </tr>\n  </tbody>\n</table>\n</div>"
     },
     "execution_count": 7,
     "metadata": {},
     "output_type": "execute_result"
    }
   ],
   "source": [
    "games = pd.read_pickle(os.path.join(os.getcwd(), \"./data-cleaned/games.pkl.gz\"))\n",
    "games.head()"
   ]
  },
  {
   "cell_type": "code",
   "execution_count": 8,
   "metadata": {},
   "outputs": [],
   "source": [
    "train0 = interactions[0, 'train']\n",
    "test0 = interactions[0, 'test']\n",
    "val0 = interactions[0, 'val']"
   ]
  },
  {
   "cell_type": "code",
   "execution_count": 9,
   "metadata": {},
   "outputs": [],
   "source": [
    "\n",
    "train1 = interactions[1, 'train']\n",
    "test1 = interactions[1, 'test']\n",
    "val1 = interactions[1, 'val']"
   ]
  },
  {
   "cell_type": "code",
   "execution_count": 10,
   "metadata": {},
   "outputs": [],
   "source": [
    "\n",
    "train2 = interactions[2, 'train']\n",
    "test2 = interactions[2, 'test']\n",
    "val2 = interactions[2, 'val']"
   ]
  },
  {
   "cell_type": "code",
   "execution_count": 11,
   "metadata": {
    "pycharm": {
     "is_executing": false
    }
   },
   "outputs": [],
   "source": []
  },
  {
   "cell_type": "markdown",
   "metadata": {},
   "source": [
    "# Sparse Matrix"
   ]
  },
  {
   "cell_type": "markdown",
   "metadata": {},
   "source": [
    "### Method to create Sparse Matrix"
   ]
  },
  {
   "cell_type": "code",
   "execution_count": 11,
   "metadata": {
    "pycharm": {
     "is_executing": false
    }
   },
   "outputs": [],
   "source": [
    "def score_playtime(playtime):\n",
    "    \"\"\"\n",
    "    give a game a raining score between 0 and 4 \n",
    "    :param playtime: the playtime to give a score by\n",
    "    :return: 0,1,2,3 or 4 based on playtime\n",
    "    \"\"\"\n",
    "    if playtime < 120:\n",
    "        # less than 2 hrs\n",
    "        return 0\n",
    "    elif playtime < 240:\n",
    "        # less than 4 hrs\n",
    "        return 1\n",
    "    elif playtime < 600:\n",
    "        # less than 10 hrs\n",
    "        return 2\n",
    "    elif playtime < 24*60:\n",
    "        # less than 24 hrs\n",
    "        return 3\n",
    "    else:\n",
    "        return 4\n",
    "\n",
    "from os import path\n",
    "if not path.isfile('index_random_ordering.pkl'):\n",
    "    import random\n",
    "    index_random_list =list(range(games.shape[0]))\n",
    "    random.shuffle(index_random_list)\n",
    "    # print(index_random_list)\n",
    "    file = open(\"index_random_ordering.pkl\", \"wb\")\n",
    "    pickle.dump(index_random_list, file)\n",
    "    file.close()\n",
    "else:\n",
    "    f = open(\"index_random_ordering.pkl\", \"rb\")\n",
    "    index_random_list = pickle.load(f)\n",
    "    f.close()\n",
    "\n",
    "def shuffle_item_index(items):\n",
    "    global index_random_list\n",
    "    return [index_random_list[item] for item in items]\n",
    "\n",
    "def invert_items(items, max_item: int):\n",
    "    return [max_item - item for item in items]\n",
    "\n",
    "#Create scipy csr matrix\n",
    "def get_sparse_matrix(df):\n",
    "    \"\"\"\n",
    "    generate a sparse matrix of user-game pairs based on our dataframe\n",
    "    :param df: the dataframe to base the sparse matrix upon\n",
    "    :return: a sparse matrix of user-game pairs with a score based on playtime\n",
    "    \"\"\"\n",
    "    shape = (df.shape[0], games.shape[0])\n",
    "    max_game = games.shape[0] - 1\n",
    "    \n",
    "    user_ids = []\n",
    "    item_ids = []\n",
    "    values = []\n",
    "    for idx, row in df.iterrows():\n",
    "        user = idx\n",
    "        items = row['item_id']\n",
    "        # items = invert_items(items, max_game)\n",
    "        items = shuffle_item_index(items)\n",
    "        score = row[\"playtime_forever\"] + 2* row[\"playtime_2weeks\"]\n",
    "        \n",
    "        user_ids.extend([user] * len(items))\n",
    "        item_ids.extend(items)\n",
    "        values.extend([score_playtime(score[i]) for i in range(len(items))])\n",
    "    # create csr matrix\n",
    "    matrix = scipy.sparse.csr_matrix((values, (user_ids, item_ids)), shape=shape, dtype=np.int32)\n",
    "    return matrix\n"
   ]
  },
  {
   "cell_type": "markdown",
   "metadata": {
    "collapsed": false
   },
   "source": [
    "### generate the Sparse Matrisces for train AND test"
   ]
  },
  {
   "cell_type": "code",
   "execution_count": 12,
   "metadata": {
    "pycharm": {
     "is_executing": false
    }
   },
   "outputs": [
    {
     "data": {
      "text/plain": "<54190x7276 sparse matrix of type '<class 'numpy.intc'>'\n\twith 1407708 stored elements in Compressed Sparse Row format>"
     },
     "execution_count": 12,
     "metadata": {},
     "output_type": "execute_result"
    }
   ],
   "source": [
    "train_matrix = get_sparse_matrix(train1)\n",
    "test_matrix = get_sparse_matrix(test1)\n",
    "val_matrix = get_sparse_matrix(val1)\n",
    "train_matrix"
   ]
  },
  {
   "cell_type": "markdown",
   "metadata": {
    "collapsed": false
   },
   "source": [
    "### Method to convert Sparse Matrix to pytorch tensor"
   ]
  },
  {
   "cell_type": "code",
   "execution_count": 13,
   "metadata": {
    "collapsed": false,
    "pycharm": {
     "name": "#%%\n",
     "is_executing": false
    }
   },
   "outputs": [],
   "source": [
    "\n",
    "# https://stackoverflow.com/questions/40896157/scipy-sparse-csr-matrix-to-tensorflow-sparsetensor-mini-batch-gradient-descent\n",
    "def convert_sparse_matrix_to_sparse_tensor(X, k=5):\n",
    "    \"\"\"\n",
    "    turn the Sparse scipy matrix into a sparse pytorch tensor\n",
    "    :param X: the Sparse scipy matrix\n",
    "    :param k: the amount of possible ratings we have given to our user-game pairs\n",
    "    :return: a sparse 3-D pytorch tensor of dimensions game-user-rating\n",
    "    \"\"\"\n",
    "    coo = X.tocoo()\n",
    "\n",
    "    values = coo.data\n",
    "    indices = np.vstack((coo.row, coo.col))\n",
    "    i = torch.LongTensor(indices)\n",
    "    v = torch.DoubleTensor(values)\n",
    "    tensor_list = []\n",
    "\n",
    "    for index in range(k):\n",
    "        value = index\n",
    "        yeet = torch.where(v == value, 2., 1.)\n",
    "        shape = coo.shape\n",
    "        tensor = torch.sparse.DoubleTensor(i, yeet, torch.Size(shape)) \n",
    "        if torch.cuda.is_available():\n",
    "            tensor = tensor.cuda()\n",
    "\n",
    "        tensor_list.append(tensor)\n",
    "\n",
    "    tensor = torch.stack(tensor_list) \n",
    "    return tensor"
   ]
  },
  {
   "cell_type": "markdown",
   "metadata": {},
   "source": [
    "# Train model"
   ]
  },
  {
   "cell_type": "code",
   "execution_count": 14,
   "metadata": {
    "pycharm": {
     "is_executing": false
    }
   },
   "outputs": [],
   "source": [
    "def score_model(rbm: RBM, batch_size, train_matrix, test_matrix):\n",
    "    \"\"\"\n",
    "    calculate an error for the output of our rbm for the unseen (and untrained upon) test-values\n",
    "    :param rbm: the model for which we test values\n",
    "    :param batch_size: the batchsize used for training/testing\n",
    "    :param train_matrix: the original input with which we try to get our test-values\n",
    "    :param test_matrix: the values we try for our model to acquire based on train_matrix\n",
    "    :return: the RMSE for our test-values\n",
    "    \"\"\"\n",
    "    test_recon_error = 0  # RMSE reconstruction error initialized to 0 at the beginning of training\n",
    "    s = 0  # a counter (float type) \n",
    "    # for loop - go through every single user\n",
    "    for id_user in range(0, train_matrix.shape[0] - batch_size, batch_size):\n",
    "        v = train_matrix[id_user:id_user + batch_size]  # training set inputs are used to activate neurons of my RBM\n",
    "        vt = test_matrix[id_user:id_user + batch_size]  # target\n",
    "        v = convert_sparse_matrix_to_sparse_tensor(v)\n",
    "        vt = convert_sparse_matrix_to_sparse_tensor(vt)\n",
    "\n",
    "        v = v.to_dense()\n",
    "        vt = vt.to_dense()\n",
    "        v = v.sub(1)\n",
    "        vt = vt.sub(1)\n",
    "        if torch.cuda.is_available():\n",
    "            v = v.cuda()\n",
    "            vt = vt.cuda()\n",
    "\n",
    "        if len(vt[vt > -1]) > 0:\n",
    "            _, h = rbm.sample_h(v)\n",
    "            _, v = rbm.sample_v(h)\n",
    "\n",
    "            # Update test RMSE reconstruction error\n",
    "            test_recon_error += torch.mean((vt[vt > -1] - v[vt > -1])**2) * len(vt > -1) \n",
    "            s += len(vt > -1)\n",
    "\n",
    "    return torch.sqrt(test_recon_error / s)\n",
    "\n",
    "\n",
    "def create_rbm(train_matrix, test_matrix, n_hidden, batch_size, epochs, rbm=None, k=5, train_errors=[], test_errors=[]) -> RBM:\n",
    "    \"\"\"\n",
    "    generate and train an RBM based on train_matrix as input\n",
    "    :param train_matrix: the input upon which our model is trained\n",
    "    :param test_matrix: the input upon which our model is validated\n",
    "    :param n_hidden: the amount of hidden features our model uses\n",
    "    :param batch_size: the batchsize we use\n",
    "    :param epochs: the amount of epochs we will be running\n",
    "    :param rbm: an optional variable that if not None trains a pre-generated model further instead of generating a new one\n",
    "    :param k: the amount of possible ratings we have given to our user-game pairs\n",
    "    :return: a trained RBM\n",
    "    \"\"\"\n",
    "    n_vis = train_matrix.shape[1]\n",
    "    if rbm is None:\n",
    "        rbm = RBM(n_vis, n_hidden, k, batch_size)\n",
    "    \n",
    "    oldhr, oldr, oldndcg = 0, 0, 0\n",
    "    # hr, r, ndcg = compute_hr(train_matrix, test_matrix, rbm)\n",
    "    # print(\"pre training\", np.average(hr), np.average(r), np.average(ndcg))\n",
    "\n",
    "    print(\"start training\")\n",
    "    for epoch in range(epochs):\n",
    "        rbm.train()\n",
    "        train_recon_error = 0  # RMSE reconstruction error initialized to 0 at the beginning of training\n",
    "        s = 0\n",
    "        \n",
    "        for user_id in range(0, train_matrix.shape[0] - batch_size, batch_size):\n",
    "            training_sample = train_matrix[user_id : user_id + batch_size]\n",
    "            v0 = convert_sparse_matrix_to_sparse_tensor(training_sample)\n",
    "\n",
    "            v0 = v0.to_dense()\n",
    "            v0 = v0.sub(1)\n",
    "            \n",
    "            vk = v0.detach().clone()\n",
    "\n",
    "            ph0, _ = rbm.sample_h(v0)\n",
    "            # todo cd = 3\n",
    "            _, hk = rbm.sample_h(vk)\n",
    "            _, vk = rbm.sample_v(hk)\n",
    "            vk[v0 < 0] = v0[v0 < 0]\n",
    "                \n",
    "            phk, _ = rbm.sample_h(vk)\n",
    "\n",
    "            rbm.train_model(v0, vk, ph0, phk)\n",
    "            \n",
    "            train_recon_error += torch.mean((v0[v0 > -1] - vk[v0 > -1])**2) * len(v0 > -1)\n",
    "            s += len(v0 > -1)\n",
    "            \n",
    "        train_errors.append(torch.sqrt(train_recon_error / s))\n",
    "\n",
    "        rbm.eval()\n",
    "        test_errors.append(score_model(rbm, batch_size, train_matrix, test_matrix))\n",
    "\n",
    "        # if epoch % 10 == 9:\n",
    "        #     hr, r, ndcg = compute_hr(train_matrix, test_matrix, rbm)\n",
    "        #     hr, r, ndcg = np.average(hr), np.average(r), np.average(ndcg)\n",
    "        #     print(epoch, hr, r, ndcg)\n",
    "        #     if ndcg < oldndcg:\n",
    "        #         print(\"Stopping training, ndcg decreasing\")\n",
    "        #         break\n",
    "        #     oldhr, oldr, oldndcg = hr, r, ndcg\n",
    "            \n",
    "\n",
    "    import matplotlib.pyplot as plt\n",
    "    # Plot the RMSE reconstruction error with respect to increasing number of epochs\n",
    "    plt.clf()\n",
    "    plt.plot(torch.Tensor(train_errors, device='cpu'), label=\"train\")\n",
    "    plt.plot(torch.Tensor(test_errors, device='cpu'), label=\"test\")\n",
    "    plt.ylabel('Error')\n",
    "    plt.xlabel('Epoch')\n",
    "    plt.legend()\n",
    "    plt.savefig(f'steam-cleaned-{n_hidden}-{batch_size}-{epochs}.jpg')\n",
    "\n",
    "    return rbm, train_errors, test_errors\n",
    "\n"
   ]
  },
  {
   "cell_type": "markdown",
   "metadata": {},
   "source": [
    "## HR / Recall / NDCG Function Definitions"
   ]
  },
  {
   "cell_type": "markdown",
   "metadata": {},
   "source": [
    "### Vanilla Recommendations"
   ]
  },
  {
   "cell_type": "code",
   "execution_count": 15,
   "metadata": {},
   "outputs": [],
   "source": [
    "def compute_hr(train_matrix, test_matrix, rbm, k=10, rating_cutoff=-1, p=False):\n",
    "    \"\"\"\n",
    "    compute the various metrics of our model, hr, recall and ndcg\n",
    "    :param train_matrix: the input wich our user already has\n",
    "    :param test_matrix: the games we are trying to recommend to each user\n",
    "    :param rbm: our model used to make recommendations\n",
    "    :param k: the amount of recommendations we are going to give\n",
    "    :param batch_size: UNUSED, uses rbm.batch_size instead\n",
    "    :return: hitrates, recall, nDCG as an array, use np.average to get value\n",
    "    \"\"\"\n",
    "    hitrates = []\n",
    "    recall = []\n",
    "    nDCG = []\n",
    "\n",
    "    recommended_games_set = set()\n",
    "    # for loop - go through every single user\n",
    "    # for id_user in tqdm(range(0, train_matrix.shape[0] - rbm.batch_size, rbm.batch_size)): # - batch_size, batch_size):\n",
    "    for id_user in range(0, train_matrix.shape[0] - rbm.batch_size, rbm.batch_size): # - batch_size, batch_size):\n",
    "        v = train_matrix[id_user:id_user + rbm.batch_size]  # training set inputs are used to activate neurons of my RBM\n",
    "        vt = test_matrix[id_user:id_user + rbm.batch_size]  # target\n",
    "        if vt.getnnz() == 0:\n",
    "            continue\n",
    "\n",
    "        v = convert_sparse_matrix_to_sparse_tensor(v)\n",
    "        vt = convert_sparse_matrix_to_sparse_tensor(vt)\n",
    "        v = v.to_dense()\n",
    "        vt = vt.to_dense()\n",
    "        v = v.sub(1)\n",
    "        vt = vt.sub(1)\n",
    "\n",
    "        if torch.cuda.is_available():\n",
    "            vt = vt.cuda()\n",
    "            v = v.cuda()\n",
    "\n",
    "        # ground truth\n",
    "        ratings, users, movies = (vt > 0).nonzero(as_tuple=True)\n",
    "\n",
    "        indices = torch.stack([users, movies])\n",
    "        shape = (rbm.batch_size, train_matrix.shape[1])\n",
    "        target = torch.sparse.LongTensor(indices, torch.add(ratings, 1), torch.Size(shape))\n",
    "        target_dense = target.to_dense()\n",
    "\n",
    "        target_recommended = torch.argsort(target_dense, 1, descending=True)\n",
    "        # target_rating, target_movie = torch.topk(target_dense, k, 1)\n",
    "        # target_movie[target_rating < rating_cutoff] = -1 # remove all bad movies from top k\n",
    "\n",
    "        # values, _ = torch.max(target_rating, dim=1)\n",
    "        # users_with_target = (values > rating_cutoff).nonzero(as_tuple=True)[0].cpu().tolist()\n",
    "\n",
    "        # predicted\n",
    "        _, h = rbm.sample_h(v)\n",
    "        recommended, _ = rbm.sample_v(h)\n",
    "\n",
    "        scaled_tensors = [recommended[0]]\n",
    "        for i in range(1, rbm.K):\n",
    "            scaled_tensors.append(recommended[i] * (i+1))\n",
    "        recommended_scaled = torch.stack(scaled_tensors)\n",
    "        recommended_summed = torch.sum(recommended_scaled, 0)\n",
    "        predicted_rating, predicted_movie = torch.topk(recommended_summed, k)\n",
    "\n",
    "\n",
    "        for user in range(rbm.batch_size):\n",
    "            # all recommendations\n",
    "            user_ratings = torch.index_select(target_dense[user], 0, target_recommended[user])\n",
    "            user_target = target_recommended[user][user_ratings > 0].cpu().tolist()\n",
    "\n",
    "            # user_target = target_recommended[user][target_rating[user] > rating_cutoff].cpu().tolist()\n",
    "            user_pred = predicted_movie[user].cpu().tolist()\n",
    "\n",
    "            recommended_games_set = recommended_games_set.union(set(user_pred))\n",
    "\n",
    "            counter = 0\n",
    "            total = min(k, len(user_target))\n",
    "            for target in user_target:\n",
    "                if target in user_pred:\n",
    "                    counter += 1\n",
    "            # counter = len(recommendations)\n",
    "\n",
    "            recall.append(counter / total)\n",
    "            hitrates.append(min(1, counter))\n",
    "\n",
    "            # nDCG\n",
    "            idcg = np.sum([1 / np.log2(i+2) for i in range(min(k, len(user_target)))])\n",
    "            dcg = 0\n",
    "            for i, r in enumerate(user_pred):\n",
    "                if r in user_target:\n",
    "                    dcg += 1 / np.log2(i+2)\n",
    "\n",
    "            nDCG.append(dcg / idcg) \n",
    "\n",
    "    if p:\n",
    "        print(recommended_games_set)\n",
    "        print(len(recommended_games_set))\n",
    "    return hitrates, recall, nDCG"
   ]
  },
  {
   "cell_type": "code",
   "execution_count": 16,
   "metadata": {},
   "outputs": [],
   "source": [
    "# rbm10 = create_rbm(train_matrix, test_matrix, 1000, 10000, 10)"
   ]
  },
  {
   "cell_type": "code",
   "execution_count": 17,
   "metadata": {},
   "outputs": [],
   "source": [
    "# rbm20 =create_rbm(train_matrix, test_matrix, 1000, 10000, 10, rbm10)"
   ]
  },
  {
   "cell_type": "markdown",
   "metadata": {},
   "source": [
    "### Popularity"
   ]
  },
  {
   "cell_type": "code",
   "execution_count": 18,
   "metadata": {
    "collapsed": false,
    "pycharm": {
     "is_executing": false,
     "name": "#%%\n"
    }
   },
   "outputs": [],
   "source": [
    "def get_pop(train_df):\n",
    "    popularity = train_df.explode('item_id')['item_id'].value_counts()\n",
    "    # print(list(popularity.index))\n",
    "    l = list(popularity.index)\n",
    "    global index_random_list\n",
    "    return [index_random_list[item] for item in l]\n",
    "    \n",
    "    # for i in range(user_reviews_df_exploded['item_id_int'].max() + 1):\n",
    "    #     if i not in popularity.index:\n",
    "    #         popularity[i]=0\n",
    "    #     value_list.append(popularity[i])\n",
    "    # # print(popularity.value.tolist())\n",
    "    # print(value_list)\n",
    "\n",
    "pop = get_pop(train0)"
   ]
  },
  {
   "cell_type": "code",
   "execution_count": 19,
   "metadata": {
    "collapsed": false,
    "pycharm": {
     "is_executing": false,
     "name": "#%%\n"
    }
   },
   "outputs": [],
   "source": [
    "def compute_hr2(train_matrix, test_matrix, pops, k=10, rating_cutoff=-1, p=False, batch_size = 2000):\n",
    "    hitrates = []\n",
    "    recall = []\n",
    "    nDCG = []\n",
    "    # for loop - go through every single user\n",
    "    for id_user in tqdm(range(0, train_matrix.shape[0] - batch_size, batch_size)): # - batch_size, batch_size):\n",
    "        v = train_matrix[id_user:id_user + batch_size]  # training set inputs are used to activate neurons of my RBM\n",
    "        vt = test_matrix[id_user:id_user + batch_size]  # target\n",
    "        if vt.getnnz() == 0:\n",
    "            continue\n",
    "\n",
    "        v = convert_sparse_matrix_to_sparse_tensor(v)\n",
    "        vt = convert_sparse_matrix_to_sparse_tensor(vt)\n",
    "        v = v.to_dense()\n",
    "        vt = vt.to_dense()\n",
    "        v = v.sub(1)\n",
    "        vt = vt.sub(1)\n",
    "\n",
    "        if torch.cuda.is_available():\n",
    "            vt = vt.cuda()\n",
    "            v = v.cuda()\n",
    "\n",
    "        # ground truth\n",
    "        ratings, users, movies = (vt > 0).nonzero(as_tuple=True)\n",
    "\n",
    "        indices = torch.stack([users, movies])\n",
    "        shape = (batch_size, train_matrix.shape[1])\n",
    "        target = torch.sparse.LongTensor(indices, torch.add(ratings, 1), torch.Size(shape))\n",
    "        target_dense = target.to_dense()\n",
    "        target_recommended = torch.argsort(target_dense, 1, descending=True)\n",
    "         # remove all bad movies from top k\n",
    "\n",
    "\n",
    "        # predicted\n",
    "        \n",
    "\n",
    "\n",
    "        for user in range(batch_size):\n",
    "\n",
    "            # all recommendations\n",
    "            user_ratings = torch.index_select(target_dense[user], 0, target_recommended[user])\n",
    "            user_target = target_recommended[user][user_ratings > 0].cpu().tolist()\n",
    "            user_pred = pops[:k]\n",
    "\n",
    "            counter = 0\n",
    "            total = min(k, len(user_target))\n",
    "            for target in user_target:\n",
    "                if target in user_pred:\n",
    "                    counter += 1\n",
    "            # counter = len(recommendations)\n",
    "\n",
    "            recall.append(counter / total)\n",
    "            hitrates.append(min(1, counter))\n",
    "\n",
    "            # nDCG\n",
    "            idcg = np.sum([1 / np.log2(i+2) for i in range(min(k, len(user_target)))])\n",
    "            dcg = 0\n",
    "            for i, r in enumerate(user_pred):\n",
    "                if r in user_target:\n",
    "                    dcg += 1 / np.log2(i+2)\n",
    "\n",
    "            nDCG.append(dcg / idcg) \n",
    "\n",
    "    return hitrates, recall, nDCG\n",
    "\n",
    "# hr, r, ndcg = compute_hr2(train_matrix, test_matrix, pop)\n",
    "# print(hr, r, ndcg)\n",
    "# print(\"hr\", np.average(hr))\n",
    "# print(\"recall\", np.average(r))\n",
    "# print(\"ndcg\", np.average(ndcg))\n"
   ]
  },
  {
   "cell_type": "markdown",
   "metadata": {},
   "source": [
    "### RBM + Popularity"
   ]
  },
  {
   "cell_type": "code",
   "execution_count": 20,
   "metadata": {
    "collapsed": false,
    "pycharm": {
     "name": "#%%\n"
    }
   },
   "outputs": [],
   "source": [
    "def compute_hr3(rbm, popularity_dict, k=10):\n",
    "    \"\"\"\n",
    "    \n",
    "    :param rbm: \n",
    "    :param popularity_dict: \n",
    "    :param k: \n",
    "    :return: \n",
    "    \"\"\"\n",
    "\n",
    "    # return hitrates, recall, nDCG\n",
    "    pass"
   ]
  },
  {
   "cell_type": "markdown",
   "metadata": {},
   "source": [
    "## calculate HR , Recall & NDCG for our RBM"
   ]
  },
  {
   "cell_type": "code",
   "execution_count": 21,
   "metadata": {},
   "outputs": [],
   "source": [
    "def evaluate_rbm(rbm):\n",
    "    print(\"Vanilla RBM\")\n",
    "    hr, r, ndcg = compute_hr(train_matrix, test_matrix, rbm, p=True)\n",
    "    # print(hr, r, ndcg)\n",
    "    print(\"hr\", np.average(hr))\n",
    "    print(\"recall\", np.average(r))\n",
    "    print(\"ndcg\", np.average(ndcg))\n"
   ]
  },
  {
   "cell_type": "code",
   "execution_count": 32,
   "metadata": {},
   "outputs": [
    {
     "name": "stdout",
     "output_type": "stream",
     "text": [
      "start training\n",
      "RBM 0\n",
      "Vanilla RBM\n",
      "{7232, 7233, 7239, 7245, 7252, 7260, 7197, 7262, 7267, 7076, 7269, 7275, 7211, 7221, 7158, 7231}\n",
      "16\n",
      "hr 0.1535\n",
      "recall 0.04784234273956497\n",
      "ndcg 0.030452696076352148\n",
      "start training\n",
      "RBM 1\n",
      "Vanilla RBM\n",
      "{7241, 7243, 7052, 7248, 7186, 7253, 7264, 7267, 7271, 7144, 7275, 7089, 7092, 7226, 7227, 7228}\n",
      "16\n",
      "hr 0.1517962962962963\n",
      "recall 0.04792487507348618\n",
      "ndcg 0.033200944783147134\n",
      "start training\n",
      "RBM 2\n",
      "Vanilla RBM\n",
      "{7232, 7235, 7238, 7245, 7246, 7187, 7188, 7189, 7127, 7064, 5852, 7134, 7074, 7205, 2149, 4776, 7147, 7085, 7087, 7157, 7039}\n",
      "21\n",
      "hr 0.11162962962962963\n",
      "recall 0.03207085537918871\n",
      "ndcg 0.021690048586075827\n",
      "start training\n",
      "RBM 3\n",
      "Vanilla RBM\n",
      "{7171, 7240, 7241, 7243, 7246, 7054, 7183, 7249, 7186, 7252, 7253, 7197, 7199, 7263, 7147, 7021, 7214, 6575, 7216, 7221, 7226, 7229}\n",
      "22\n",
      "hr 0.11775925925925926\n",
      "recall 0.031133913874191652\n",
      "ndcg 0.022882067383490974\n",
      "start training\n",
      "RBM 4\n",
      "Vanilla RBM\n",
      "{7178, 7179, 7181, 7248, 7249, 7060, 7194, 7259, 7200, 7265, 7266, 164, 7215, 6706, 6835, 7091, 7157, 7229}\n",
      "18\n",
      "hr 0.13587037037037036\n",
      "recall 0.03815038212815991\n",
      "ndcg 0.026850545811384782\n"
     ]
    },
    {
     "data": {
      "image/png": "[encoded data removed]",
      "text/plain": [
       "<Figure size 432x288 with 1 Axes>"
      ]
     },
     "metadata": {
      "needs_background": "light"
     },
     "output_type": "display_data"
    }
   ],
   "source": [
    "rbms = []\n",
    "for i in range(5):\n",
    "    rbm = create_rbm(train_matrix, test_matrix, 5, 2000, 100, train_errors=[], test_errors=[])[0]\n",
    "    print(f\"RBM {i}\")\n",
    "    evaluate_rbm(rbm)\n",
    "    with open(f\"./rbm5-5-100-nr{i}.pickle\", \"wb\") as f:\n",
    "        pickle.dump(rbm, f)\n",
    "    # torch.save(rbm.state_dict(), f\"./rbm5-run2-100-nr{i}.network\")\n",
    "    rbms.append(rbm)"
   ]
  },
  {
   "cell_type": "code",
   "execution_count": 22,
   "metadata": {},
   "outputs": [
    {
     "name": "stdout",
     "output_type": "stream",
     "text": [
      "{1027, 6147, 7185, 7187, 6163, 6165, 1053, 5150, 4131, 3113, 52, 57, 7225, 1086, 5184, 3138, 1091, 1096, 7251, 3159, 6231, 5208, 2138, 4186, 92, 97, 2145, 1121, 5223, 2153, 1132, 1133, 2160, 2161, 2162, 3189, 4215, 3200, 5249, 4231, 3208, 3212, 5263, 5266, 4243, 4251, 2209, 4259, 4260, 5284, 6317, 3247, 4274, 180, 5308, 6340, 5328, 4305, 6357, 2262, 6359, 2268, 3313, 4341, 246, 1277, 4350, 6398, 5376, 3328, 5382, 1286, 4358, 4364, 6415, 6420, 4374, 1305, 282, 3355, 1310, 3362, 3370, 4395, 6459, 5438, 331, 2382, 2383, 1375, 1379, 4453, 361, 6512, 377, 5498, 2428, 1407, 2432, 6538, 1420, 4493, 4505, 2458, 4510, 4517, 423, 430, 2480, 3508, 442, 6589, 4542, 4545, 6596, 454, 4550, 4552, 1483, 1497, 5598, 5618, 1526, 2551, 506, 2555, 6652, 1536, 5632, 3586, 3589, 2565, 2567, 3601, 6674, 2582, 3610, 5664, 6690, 1571, 5666, 549, 4644, 5673, 6697, 1587, 5688, 3646, 5696, 5702, 3655, 3664, 3668, 6740, 3671, 1624, 2649, 6745, 3675, 5724, 615, 5741, 622, 628, 1655, 638, 6785, 2697, 6797, 4784, 6836, 3769, 701, 2752, 3781, 4807, 5832, 1740, 4813, 1755, 5854, 1760, 6885, 2793, 2794, 4843, 1771, 745, 2799, 4848, 2805, 767, 1793, 1799, 2826, 4874, 6931, 789, 792, 3868, 2850, 4899, 5925, 5927, 1833, 6954, 6955, 5933, 6965, 4934, 1878, 857, 2906, 1883, 5979, 7005, 1896, 3954, 1907, 6013, 6016, 3969, 7046, 3977, 3979, 6031, 5009, 2963, 6036, 6035, 921, 5023, 6055, 4009, 2985, 3006, 7105, 964, 6087, 3019, 3022, 7124, 983, 3033, 2010, 3039, 2016, 4065, 6119, 6125, 2033, 5107, 4084, 4085, 1013, 6138, 6143}\n",
      "257\n",
      "pre training 0.002203703703703704 0.00025587889476778365 0.00021779830545478376\n",
      "start training\n",
      "{3200, 3969, 6016, 5376, 1536, 1027, 5382, 7046, 7176, 3977, 4231, 2826, 3208, 1286, 7185, 4243, 6165, 2582, 3991, 3608, 7198, 5664, 2209, 4259, 4899, 5927, 6055, 6955, 7216, 4784, 52, 6836, 3769, 6589, 3646, 1983, 2752, 964, 1096, 4552, 6987, 4813, 7251, 3411, 1878, 3159, 6359, 7257, 1883, 97, 6119, 2793, 4341, 246, 1013, 4085, 3189}\n",
      "57\n",
      "9 0.029166666666666667 0.006696435920047031 0.005778795225402055\n",
      "Vanilla RBM\n",
      "{3200, 3969, 6016, 5376, 1536, 5382, 7046, 7176, 3977, 4231, 2826, 3208, 1286, 7185, 4243, 6165, 3991, 3608, 7198, 5664, 2209, 4259, 4899, 5927, 6055, 6955, 7216, 4784, 52, 3769, 6589, 3646, 1983, 2752, 964, 1096, 4552, 6987, 4813, 7251, 3411, 1878, 3159, 6359, 1883, 97, 6119, 2793, 4341, 246, 1013, 4085}\n",
      "52\n",
      "hr 0.03777777777777778\n",
      "recall 0.008279982363315697\n",
      "ndcg 0.007224235259135444\n"
     ]
    },
    {
     "data": {
      "text/plain": [
       "<Figure size 432x288 with 0 Axes>"
      ]
     },
     "metadata": {},
     "output_type": "display_data"
    }
   ],
   "source": [
    "rbm10, train, test = create_rbm(train_matrix, test_matrix, 50, 2000, 10, train_errors=[], test_errors=[])\n",
    "evaluate_rbm(rbm10)"
   ]
  },
  {
   "cell_type": "code",
   "execution_count": 26,
   "metadata": {},
   "outputs": [
    {
     "name": "stdout",
     "output_type": "stream",
     "text": [
      "Vanilla RBM\n",
      "{7238, 7243, 7246, 7252, 7253, 7260, 7262, 7265, 7266, 7206, 7210, 7275, 7223, 7228}\n",
      "14\n",
      "hr 0.14925925925925926\n",
      "recall 0.03933201058201058\n",
      "ndcg 0.029185833082384934\n"
     ]
    }
   ],
   "source": [
    "evaluate_rbm(rbm100)"
   ]
  },
  {
   "cell_type": "code",
   "execution_count": 24,
   "metadata": {},
   "outputs": [
    {
     "name": "stdout",
     "output_type": "stream",
     "text": [
      "{4225, 2187, 3212, 5645, 3345, 1943, 4251, 669, 4131, 4516, 6437, 4390, 1575, 547, 4905, 1968, 1589, 55, 1209, 189, 4297, 3277, 7118, 4687, 5200, 3670, 3170, 4580, 1262, 2030, 5743, 3058}\n",
      "32\n",
      "pre training 0.008981481481481481 0.001534075543797766 0.0009717709400361243\n",
      "start training\n",
      "{4225, 2187, 3212, 5645, 3345, 1943, 4251, 669, 4131, 4516, 6437, 4390, 6566, 1575, 4905, 547, 1968, 1589, 5430, 1209, 189, 4297, 3277, 7118, 4687, 5200, 3670, 3170, 4580, 1262, 2030, 5743, 3058}\n",
      "33\n",
      "9 0.010703703703703703 0.002025411522633745 0.0013489809925652395\n",
      "{4225, 2187, 3212, 5645, 3345, 1943, 4251, 669, 6946, 4131, 4516, 6437, 4390, 6566, 1575, 4905, 547, 1968, 1589, 1209, 189, 7238, 4297, 3277, 7118, 4687, 5200, 3670, 7260, 3170, 4580, 1262, 2030, 3058}\n",
      "34\n",
      "19 0.010722222222222222 0.0020272633744855967 0.001548054127948632\n",
      "{4225, 7238, 4297, 2187, 7243, 3212, 7118, 4687, 1943, 4251, 7260, 669, 7265, 3170, 4131, 7139, 6437, 4390, 6566, 4516, 4905, 7210, 1262, 2030, 1968, 1589, 1209}\n",
      "27\n",
      "29 0.06305555555555556 0.014820737801293357 0.008860573916982157\n",
      "{7238, 4297, 7243, 2187, 3212, 7118, 7246, 7252, 1943, 7260, 669, 7265, 3170, 7266, 4131, 6437, 7139, 4516, 4390, 4905, 7210, 1262, 1968, 1589, 7228}\n",
      "25\n",
      "39 0.10651851851851851 0.0301374632569077 0.02105807449137059\n",
      "{7238, 7243, 3212, 7118, 7246, 7252, 1943, 7260, 669, 7265, 7266, 3170, 7139, 6437, 4516, 7210, 7275, 1262, 1589, 6650, 7228}\n",
      "21\n",
      "49 0.136 0.039968334803057025 0.02665587636773966\n",
      "{7238, 7243, 3212, 7118, 7246, 7252, 7253, 7260, 7265, 7266, 3170, 7139, 6437, 7210, 7275, 1262, 1589, 7228}\n",
      "18\n",
      "59 0.15285185185185185 0.04595256466784244 0.029454109766904456\n",
      "{7238, 7243, 7246, 7118, 7252, 7253, 7260, 7265, 7266, 7139, 7076, 7210, 7275, 7224, 7228}\n",
      "15\n",
      "69 0.15283333333333332 0.04595441651969429 0.029900931291842556\n",
      "{7238, 7243, 7246, 7118, 7252, 7253, 7260, 7265, 7266, 7210, 7275, 7223, 7224, 7228}\n",
      "14\n",
      "79 0.15283333333333332 0.04595626837154614 0.029948488435117354\n",
      "{7238, 7243, 7246, 7118, 7252, 7253, 7260, 7262, 7265, 7266, 7210, 7275, 7223, 7228}\n",
      "14\n",
      "89 0.16001851851851853 0.048446715167548504 0.031140471643928077\n",
      "{7238, 7243, 7246, 7118, 7252, 7253, 7260, 7262, 7265, 7266, 7210, 7275, 7228}\n",
      "13\n",
      "99 0.16003703703703703 0.048448567019400354 0.03094554496209609\n",
      "Vanilla RBM\n",
      "{7238, 7243, 7246, 7118, 7252, 7253, 7260, 7262, 7265, 7266, 7210, 7275, 7228}\n",
      "13\n",
      "hr 0.17407407407407408\n",
      "recall 0.04698765432098765\n",
      "ndcg 0.0318167422583848\n"
     ]
    },
    {
     "data": {
      "text/plain": [
       "<Figure size 432x288 with 0 Axes>"
      ]
     },
     "metadata": {},
     "output_type": "display_data"
    }
   ],
   "source": [
    "rbm100, train, test = create_rbm(train_matrix, test_matrix, 5, 2000, 100, train_errors=[], test_errors=[])\n",
    "evaluate_rbm(rbm100)"
   ]
  },
  {
   "cell_type": "code",
   "execution_count": null,
   "metadata": {},
   "outputs": [],
   "source": []
  },
  {
   "cell_type": "code",
   "execution_count": 25,
   "metadata": {},
   "outputs": [
    {
     "name": "stdout",
     "output_type": "stream",
     "text": [
      "{7238, 7243, 7246, 7118, 7252, 7253, 7260, 7262, 7265, 7266, 7210, 7275, 7228}\n",
      "13\n",
      "pre training 0.16003703703703703 0.048450418871252204 0.030947134245750307\n",
      "start training\n",
      "{7238, 7243, 7246, 7118, 7252, 7253, 7260, 7262, 7265, 7266, 7210, 7275, 7228}\n",
      "13\n",
      "9 0.16003703703703703 0.048450418871252204 0.03113761535379797\n",
      "{7238, 7243, 7246, 7118, 7252, 7253, 7260, 7262, 7265, 7266, 7210, 7275, 7228}\n",
      "13\n",
      "19 0.16003703703703703 0.048448567019400354 0.03145695481759718\n",
      "{7238, 7243, 7246, 7252, 7253, 7260, 7262, 7265, 7266, 7210, 7275, 7228}\n",
      "12\n",
      "29 0.16001851851851853 0.048450418871252204 0.03239701954880866\n",
      "{7238, 7243, 7246, 7252, 7253, 7260, 7262, 7265, 7266, 7210, 7275, 7223, 7228}\n",
      "13\n",
      "39 0.16003703703703703 0.04845227072310406 0.03236777133262166\n",
      "{7238, 7243, 7246, 7252, 7253, 7260, 7262, 7265, 7266, 7210, 7275, 7223, 7228}\n",
      "13\n",
      "49 0.1620925925925926 0.048364969135802474 0.03075059287078698\n",
      "{7238, 7243, 7246, 7252, 7253, 7260, 7262, 7265, 7266, 7210, 7275, 7223, 7228}\n",
      "13\n",
      "59 0.16003703703703703 0.048450418871252204 0.031021708516574754\n",
      "{7238, 7243, 7246, 7252, 7253, 7260, 7262, 7265, 7266, 7210, 7275, 7223, 7228}\n",
      "13\n",
      "69 0.1620925925925926 0.048366820987654324 0.031486997944178655\n",
      "{7238, 7243, 7246, 7252, 7253, 7260, 7262, 7265, 7266, 7210, 7275, 7223, 7228}\n",
      "13\n",
      "79 0.15281481481481482 0.04530989858906525 0.02912796401082298\n",
      "{7238, 7243, 7246, 7252, 7253, 7260, 7262, 7265, 7266, 7210, 7275, 7223, 7228}\n",
      "13\n",
      "89 0.15301851851851853 0.045068856554967666 0.0290910749733919\n",
      "{7238, 7243, 7246, 7252, 7253, 7260, 7262, 7265, 7266, 7206, 7210, 7275, 7223, 7228}\n",
      "14\n",
      "99 0.14142592592592593 0.04065883303938859 0.02814457867646129\n"
     ]
    },
    {
     "data": {
      "text/plain": [
       "<Figure size 432x288 with 0 Axes>"
      ]
     },
     "metadata": {},
     "output_type": "display_data"
    }
   ],
   "source": [
    "rbm200, train, test = create_rbm(train_matrix, test_matrix, 10, 2000, 100, rbm=rbm100, train_errors=train, test_errors=test)"
   ]
  },
  {
   "cell_type": "code",
   "execution_count": 26,
   "metadata": {},
   "outputs": [],
   "source": [
    "torch.save(rbm10.state_dict(), \"./deesismaf.network\")"
   ]
  },
  {
   "cell_type": "code",
   "execution_count": 30,
   "metadata": {},
   "outputs": [
    {
     "data": {
      "text/plain": [
       "(54190, 5)"
      ]
     },
     "execution_count": 30,
     "metadata": {},
     "output_type": "execute_result"
    }
   ],
   "source": [
    "train0.shape"
   ]
  },
  {
   "cell_type": "code",
   "execution_count": 37,
   "metadata": {},
   "outputs": [
    {
     "name": "stdout",
     "output_type": "stream",
     "text": [
      "{7238, 7243, 7246, 7252, 7253, 7260, 7262, 7265, 7266, 7206, 7210, 7275, 7223, 7228}\n",
      "14\n",
      "{7238, 7243, 7246, 7252, 7253, 7260, 7262, 7265, 7266, 7206, 7210, 7275, 7223, 7228}\n",
      "14\n",
      "0.14144444444444446\n",
      "0.14142592592592593\n"
     ]
    }
   ],
   "source": [
    "hr1, _, _ = compute_hr(train_matrix, test_matrix, rbm200)\n",
    "hr2, _, _ = compute_hr(train_matrix, test_matrix, rbm200)\n",
    "print(np.average(hr1))\n",
    "print(np.average(hr2))"
   ]
  },
  {
   "cell_type": "code",
   "execution_count": 34,
   "metadata": {},
   "outputs": [
    {
     "name": "stdout",
     "output_type": "stream",
     "text": [
      "{7238, 7243, 7246, 7252, 7253, 7260, 7262, 7265, 7266, 7206, 7210, 7275, 7223, 7228}\n",
      "14\n",
      "{7238, 7243, 7246, 7252, 7253, 7260, 7262, 7265, 7266, 7206, 7210, 7275, 7223, 7228}\n",
      "14\n",
      "0.14142592592592593\n",
      "0.1414074074074074\n"
     ]
    }
   ],
   "source": [
    "hr1, _, _ = compute_hr(train_matrix, test_matrix, rbm200, batch_size=100)\n",
    "hr2, _, _ = compute_hr(train_matrix, test_matrix, rbm200, batch_size=1000)\n",
    "print(np.average(hr1))\n",
    "print(np.average(hr2))"
   ]
  },
  {
   "cell_type": "code",
   "execution_count": 29,
   "metadata": {},
   "outputs": [
    {
     "ename": "ValueError",
     "evalue": "operands could not be broadcast together with shapes (2700,) (27000,) ",
     "output_type": "error",
     "traceback": [
      "\u001b[1;31m---------------------------------------------------------------------------\u001b[0m",
      "\u001b[1;31mValueError\u001b[0m                                Traceback (most recent call last)",
      "\u001b[1;32m~\\AppData\\Local\\Temp/ipykernel_28956/1589759969.py\u001b[0m in \u001b[0;36m<module>\u001b[1;34m\u001b[0m\n\u001b[1;32m----> 1\u001b[1;33m \u001b[0mhr_diff\u001b[0m \u001b[1;33m=\u001b[0m \u001b[0mnp\u001b[0m\u001b[1;33m.\u001b[0m\u001b[0marray\u001b[0m\u001b[1;33m(\u001b[0m\u001b[0mhr1\u001b[0m\u001b[1;33m)\u001b[0m \u001b[1;33m-\u001b[0m \u001b[0mnp\u001b[0m\u001b[1;33m.\u001b[0m\u001b[0marray\u001b[0m\u001b[1;33m(\u001b[0m\u001b[0mhr2\u001b[0m\u001b[1;33m)\u001b[0m\u001b[1;33m\u001b[0m\u001b[1;33m\u001b[0m\u001b[0m\n\u001b[0m\u001b[0;32m      2\u001b[0m \u001b[0mnp\u001b[0m\u001b[1;33m.\u001b[0m\u001b[0mwhere\u001b[0m\u001b[1;33m(\u001b[0m\u001b[0mhr_diff\u001b[0m \u001b[1;33m==\u001b[0m \u001b[1;36m0\u001b[0m\u001b[1;33m)\u001b[0m\u001b[1;33m\u001b[0m\u001b[1;33m\u001b[0m\u001b[0m\n",
      "\u001b[1;31mValueError\u001b[0m: operands could not be broadcast together with shapes (2700,) (27000,) "
     ]
    }
   ],
   "source": [
    "hr_diff = np.array(hr1) - np.array(hr2)\n",
    "np.where(hr_diff == 0)"
   ]
  },
  {
   "cell_type": "markdown",
   "metadata": {
    "collapsed": false,
    "pycharm": {
     "name": "#%% md\n"
    }
   },
   "source": [
    "# recommend for single user"
   ]
  },
  {
   "cell_type": "code",
   "execution_count": null,
   "metadata": {},
   "outputs": [],
   "source": [
    "def recommend(rbm, v, vt, k, p=True):\n",
    "    \"\"\"\n",
    "    use our model to get recommendations for a single user to reach qualitative metrics\n",
    "    :param rbm: our model\n",
    "    :param v: \n",
    "    :param vt: \n",
    "    :param k: \n",
    "    :param p: \n",
    "    :return: \n",
    "    \"\"\"\n",
    "    target_data = vt.data\n",
    "    target_index = vt.indices\n",
    "    target_recommendations = target_index[target_data == 1]\n",
    "    v = v.todense()\n",
    "    v = torch.Tensor(v)\n",
    "    if torch.cuda.is_available():\n",
    "        v = v.cuda()\n",
    "    \n",
    "    _, h = rbm.sample_h(v)\n",
    "    recommended, _ = rbm.sample_v(h)\n",
    "\n",
    "    # all recommendations\n",
    "    values, indices =  torch.topk(recommended[v < 1], k)\n",
    "    recommendations = indices.cpu().tolist()\n",
    "\n",
    "    if p:\n",
    "        print(\"average value\", torch.mean(recommended[0]))\n",
    "\n",
    "    found = True\n",
    "    for r in recommendations:\n",
    "        if r in target_recommendations:\n",
    "            if p:\n",
    "                print(\"HIT\")\n",
    "            found = True\n",
    "            break\n",
    "\n",
    "    if found and p:\n",
    "        print(\"values\", values)\n",
    "        print(\"recommended\", recommendations)\n",
    "        print(\"real\", target_recommendations)\n",
    "        print(\"len real\", len(target_recommendations))\n",
    "\n",
    "    \n",
    "    \n",
    "    return recommendations\n",
    "\n",
    "user = 100\n"
   ]
  },
  {
   "cell_type": "code",
   "execution_count": null,
   "metadata": {},
   "outputs": [],
   "source": [
    "\n",
    "print(\"EPOCHS 10\")\n",
    "recommend(rbm10, train_matrix[user], test_matrix[user], 10)\n",
    "print('---' * 10)\n",
    "print(\"EPOCHS 100\")\n",
    "recommend(rbm100, train_matrix[user], test_matrix[user], 10)"
   ]
  },
  {
   "cell_type": "code",
   "execution_count": 43,
   "metadata": {},
   "outputs": [],
   "source": [
    "import gc\n",
    "\n",
    "gc.collect()\n",
    "\n",
    "torch.cuda.empty_cache()"
   ]
  },
  {
   "cell_type": "code",
   "execution_count": null,
   "metadata": {},
   "outputs": [
    {
     "name": "stdout",
     "output_type": "stream",
     "text": [
      "start training\n"
     ]
    },
    {
     "name": "stderr",
     "output_type": "stream",
     "text": [
      "100%|██████████| 2000/2000 [2:13:47<00:00,  4.01s/it]\n"
     ]
    },
    {
     "data": {
      "image/png": "[encoded data removed]",
      "text/plain": [
       "<Figure size 432x288 with 1 Axes>"
      ]
     },
     "metadata": {
      "needs_background": "light"
     },
     "output_type": "display_data"
    }
   ],
   "source": [
    "rbm2000 = create_rbm(train_matrix, test_matrix, 100, 10000, 2000)"
   ]
  },
  {
   "cell_type": "code",
   "execution_count": null,
   "metadata": {},
   "outputs": [
    {
     "name": "stdout",
     "output_type": "stream",
     "text": [
      "average value tensor(0.0020, device='cuda:0')\n",
      "values tensor([1.0000, 1.0000, 1.0000, 1.0000, 0.9857, 0.7724, 0.7508, 0.7067, 0.6375,\n",
      "        0.6081], device='cuda:0')\n",
      "recommended [63, 1350, 204, 186, 271, 1277, 1906, 43, 1884, 19]\n",
      "real [  58  101  157  171  178  221  229  318  532  576 1698]\n",
      "len real 11\n"
     ]
    },
    {
     "data": {
      "text/plain": [
       "[63, 1350, 204, 186, 271, 1277, 1906, 43, 1884, 19]"
      ]
     },
     "execution_count": 22,
     "metadata": {},
     "output_type": "execute_result"
    }
   ],
   "source": [
    "\n",
    "recommend(rbm2000, train_matrix[user], test_matrix[user], 10)"
   ]
  },
  {
   "cell_type": "code",
   "execution_count": null,
   "metadata": {},
   "outputs": [
    {
     "name": "stdout",
     "output_type": "stream",
     "text": [
      "2000 epochs\n",
      "hr 0.26885435533705726\n",
      "recall 0.036593026174615496\n",
      "ndcg 0.03986529999302447\n"
     ]
    }
   ],
   "source": [
    "print(\"2000 epochs\")\n",
    "hr, r, ndcg = compute_hr(train_matrix, test_matrix, rbm2000)\n",
    "print(\"hr\", np.average(hr))\n",
    "print(\"recall\", np.average(r))\n",
    "print(\"ndcg\", np.average(ndcg))"
   ]
  },
  {
   "cell_type": "markdown",
   "metadata": {},
   "source": [
    "## Hyperparam searching"
   ]
  },
  {
   "cell_type": "code",
   "execution_count": null,
   "metadata": {},
   "outputs": [
    {
     "name": "stdout",
     "output_type": "stream",
     "text": [
      "start training\n"
     ]
    },
    {
     "name": "stderr",
     "output_type": "stream",
     "text": [
      "100%|██████████| 50/50 [04:52<00:00,  5.86s/it]\n",
      "100%|██████████| 31/31 [00:07<00:00,  4.09it/s]\n"
     ]
    },
    {
     "name": "stdout",
     "output_type": "stream",
     "text": [
      "start training\n"
     ]
    },
    {
     "name": "stderr",
     "output_type": "stream",
     "text": [
      "100%|██████████| 5/5 [00:28<00:00,  5.74s/it]\n",
      "100%|██████████| 31/31 [00:07<00:00,  4.15it/s]\n"
     ]
    },
    {
     "name": "stdout",
     "output_type": "stream",
     "text": [
      "start training\n"
     ]
    },
    {
     "name": "stderr",
     "output_type": "stream",
     "text": [
      "100%|██████████| 5/5 [00:29<00:00,  5.92s/it]\n",
      " 74%|███████▍  | 23/31 [00:06<00:02,  3.57it/s]\n"
     ]
    },
    {
     "ename": "KeyboardInterrupt",
     "evalue": "",
     "output_type": "error",
     "traceback": [
      "\u001b[1;31m---------------------------------------------------------------------------\u001b[0m",
      "\u001b[1;31mKeyboardInterrupt\u001b[0m                         Traceback (most recent call last)",
      "\u001b[1;32m~\\AppData\\Local\\Temp/ipykernel_26164/4117137640.py\u001b[0m in \u001b[0;36m<module>\u001b[1;34m\u001b[0m\n\u001b[0;32m     13\u001b[0m         \u001b[0mtorch\u001b[0m\u001b[1;33m.\u001b[0m\u001b[0msave\u001b[0m\u001b[1;33m(\u001b[0m\u001b[0mrbm\u001b[0m\u001b[1;33m.\u001b[0m\u001b[0mstate_dict\u001b[0m\u001b[1;33m(\u001b[0m\u001b[1;33m)\u001b[0m\u001b[1;33m,\u001b[0m \u001b[1;34mf\"./network-{n_hidden}-steam{epoch}-train0\"\u001b[0m\u001b[1;33m)\u001b[0m\u001b[1;33m\u001b[0m\u001b[1;33m\u001b[0m\u001b[0m\n\u001b[0;32m     14\u001b[0m \u001b[1;33m\u001b[0m\u001b[0m\n\u001b[1;32m---> 15\u001b[1;33m         \u001b[0mhr\u001b[0m\u001b[1;33m,\u001b[0m \u001b[0mr\u001b[0m\u001b[1;33m,\u001b[0m \u001b[0mndcg\u001b[0m \u001b[1;33m=\u001b[0m \u001b[0mcompute_hr\u001b[0m\u001b[1;33m(\u001b[0m\u001b[0mtrain_matrix\u001b[0m\u001b[1;33m,\u001b[0m \u001b[0mtest_matrix\u001b[0m\u001b[1;33m,\u001b[0m \u001b[0mrbm\u001b[0m\u001b[1;33m)\u001b[0m\u001b[1;33m\u001b[0m\u001b[1;33m\u001b[0m\u001b[0m\n\u001b[0m\u001b[0;32m     16\u001b[0m         \u001b[0mresults\u001b[0m\u001b[1;33m[\u001b[0m\u001b[1;34mf\"{epoch}-{n_hidden}\"\u001b[0m\u001b[1;33m]\u001b[0m \u001b[1;33m=\u001b[0m \u001b[1;33m(\u001b[0m\u001b[0mnp\u001b[0m\u001b[1;33m.\u001b[0m\u001b[0maverage\u001b[0m\u001b[1;33m(\u001b[0m\u001b[0mhr\u001b[0m\u001b[1;33m)\u001b[0m\u001b[1;33m,\u001b[0m \u001b[0mnp\u001b[0m\u001b[1;33m.\u001b[0m\u001b[0maverage\u001b[0m\u001b[1;33m(\u001b[0m\u001b[0mr\u001b[0m\u001b[1;33m)\u001b[0m\u001b[1;33m,\u001b[0m \u001b[0mnp\u001b[0m\u001b[1;33m.\u001b[0m\u001b[0maverage\u001b[0m\u001b[1;33m(\u001b[0m\u001b[0mndcg\u001b[0m\u001b[1;33m)\u001b[0m\u001b[1;33m)\u001b[0m\u001b[1;33m\u001b[0m\u001b[1;33m\u001b[0m\u001b[0m\n\u001b[0;32m     17\u001b[0m         \u001b[0mprev_epoch\u001b[0m \u001b[1;33m=\u001b[0m \u001b[0mepoch\u001b[0m\u001b[1;33m\u001b[0m\u001b[1;33m\u001b[0m\u001b[0m\n",
      "\u001b[1;32m~\\AppData\\Local\\Temp/ipykernel_26164/2455127381.py\u001b[0m in \u001b[0;36mcompute_hr\u001b[1;34m(train_matrix, test_matrix, rbm, k, batch_size)\u001b[0m\n\u001b[0;32m     55\u001b[0m \u001b[1;33m\u001b[0m\u001b[0m\n\u001b[0;32m     56\u001b[0m             \u001b[1;31m# all recommendations\u001b[0m\u001b[1;33m\u001b[0m\u001b[1;33m\u001b[0m\u001b[0m\n\u001b[1;32m---> 57\u001b[1;33m             \u001b[0muser_target\u001b[0m \u001b[1;33m=\u001b[0m \u001b[0mtarget_movie\u001b[0m\u001b[1;33m[\u001b[0m\u001b[0muser\u001b[0m\u001b[1;33m]\u001b[0m\u001b[1;33m.\u001b[0m\u001b[0mcpu\u001b[0m\u001b[1;33m(\u001b[0m\u001b[1;33m)\u001b[0m\u001b[1;33m.\u001b[0m\u001b[0mtolist\u001b[0m\u001b[1;33m(\u001b[0m\u001b[1;33m)\u001b[0m\u001b[1;33m\u001b[0m\u001b[1;33m\u001b[0m\u001b[0m\n\u001b[0m\u001b[0;32m     58\u001b[0m             \u001b[0muser_pred\u001b[0m \u001b[1;33m=\u001b[0m \u001b[0mpredicted_movie\u001b[0m\u001b[1;33m[\u001b[0m\u001b[0muser\u001b[0m\u001b[1;33m]\u001b[0m\u001b[1;33m.\u001b[0m\u001b[0mcpu\u001b[0m\u001b[1;33m(\u001b[0m\u001b[1;33m)\u001b[0m\u001b[1;33m.\u001b[0m\u001b[0mtolist\u001b[0m\u001b[1;33m(\u001b[0m\u001b[1;33m)\u001b[0m\u001b[1;33m\u001b[0m\u001b[1;33m\u001b[0m\u001b[0m\n\u001b[0;32m     59\u001b[0m \u001b[1;33m\u001b[0m\u001b[0m\n",
      "\u001b[1;31mKeyboardInterrupt\u001b[0m: "
     ]
    },
    {
     "data": {
      "text/plain": [
       "<Figure size 432x288 with 0 Axes>"
      ]
     },
     "metadata": {},
     "output_type": "display_data"
    }
   ],
   "source": [
    "epochs = [5, 10, 25, 50, 100]\n",
    "hidden = [10, 25, 50, 75, 100]\n",
    "rbms = []\n",
    "results = {}\n",
    "\n",
    "for n_hidden in hidden:\n",
    "    rbm = None\n",
    "    prev_epoch = 0\n",
    "    train = []\n",
    "    test = []\n",
    "    for epoch in epochs:\n",
    "        rbm, train, test = create_rbm(train_matrix, test_matrix, n_hidden, 2000, epoch - prev_epoch, rbm, train_errors=train, test_errors=test)\n",
    "        torch.save(rbm.state_dict(), f\"./network-{n_hidden}-steam{epoch}-train0\")\n",
    "\n",
    "        hr, r, ndcg = compute_hr(train_matrix, test_matrix, rbm)\n",
    "        results[f\"{epoch}-{n_hidden}\"] = (np.average(hr), np.average(r), np.average(ndcg))\n",
    "        prev_epoch = epoch\n",
    "    rbms.append(rbm)\n",
    "\n",
    "results"
   ]
  },
  {
   "cell_type": "code",
   "execution_count": 31,
   "metadata": {},
   "outputs": [
    {
     "data": {
      "text/plain": [
       "{'5-10': (0.4721990519398612, 0.05909100156653714, 0.07120696088053108),\n",
       " '10-10': (0.43171322198034706, 0.05335991699387626, 0.06565479366046802),\n",
       " '25-10': (0.43171322198034706, 0.05335991699387626, 0.06094485311186548),\n",
       " '50-10': (0.3867922608996399, 0.04605415742681016, 0.04719004218773954),\n",
       " '100-10': (0.34368197261611705, 0.03988566313348117, 0.04007417769328265),\n",
       " '5-25': (0.43171322198034706, 0.05335991699387626, 0.06537104644730532),\n",
       " '10-25': (0.43171322198034706, 0.05335991699387626, 0.06094485311186548),\n",
       " '25-25': (0.3867922608996399, 0.04605415742681016, 0.04702979551207349),\n",
       " '50-25': (0.3430105995564869, 0.03976766423209163, 0.039296668975174746),\n",
       " '100-25': (0.330010375765467, 0.03787154395459077, 0.037258968450636275),\n",
       " '5-50': (0.43171322198034706, 0.05335991699387626, 0.06094485311186548)}"
      ]
     },
     "execution_count": 31,
     "metadata": {},
     "output_type": "execute_result"
    }
   ],
   "source": [
    "results"
   ]
  },
  {
   "cell_type": "code",
   "execution_count": null,
   "metadata": {
    "pycharm": {
     "name": "#%%\n"
    }
   },
   "outputs": [
    {
     "name": "stdout",
     "output_type": "stream",
     "text": [
      "{'100-100': (0.03859691710159, 0.029321924181737263, 0.01330594743959745),\n",
      " '100-1000': (0.03422745478820245, 0.026054941942792405, 0.012561496199119393),\n",
      " '100-10000': (0.038232795242141036,\n",
      "               0.029048832787150546,\n",
      "               0.015129883968285325),\n",
      " '100-5000': (0.03799004733584173, 0.02899826030667152, 0.013694640578542241),\n",
      " '100-[100, 1000, 5000, 10000]': (0.038232795242141036,\n",
      "                                  0.029048832787150546,\n",
      "                                  0.015129883968285325)}\n"
     ]
    }
   ],
   "source": [
    "import pprint\n",
    "pprint.pprint(results)"
   ]
  },
  {
   "cell_type": "markdown",
   "metadata": {},
   "source": [
    "# Ensemble of ANTI-RBM"
   ]
  },
  {
   "cell_type": "code",
   "execution_count": 23,
   "metadata": {},
   "outputs": [],
   "source": [
    "def compute_ensemble_hr(train_matrix, test_matrix, rbms: list[RBM], k=10, rating_cutoff=-1, p=False):\n",
    "    \"\"\"\n",
    "    compute the various metrics of our model, hr, recall and ndcg\n",
    "    :param train_matrix: the input wich our user already has\n",
    "    :param test_matrix: the games we are trying to recommend to each user\n",
    "    :param rbm: our model used to make recommendations\n",
    "    :param k: the amount of recommendations we are going to give\n",
    "    :param batch_size: UNUSED, uses rbm.batch_size instead\n",
    "    :return: hitrates, recall, nDCG as an array, use np.average to get value\n",
    "    \"\"\"\n",
    "    hitrates = []\n",
    "    recall = []\n",
    "    nDCG = []\n",
    "    batch_size = rbms[0].batch_size\n",
    "\n",
    "    recommended_games_set = set()\n",
    "    # for loop - go through every single user\n",
    "    # for id_user in tqdm(range(0, train_matrix.shape[0] - rbm.batch_size, rbm.batch_size)): # - batch_size, batch_size):\n",
    "    for id_user in trange(0, train_matrix.shape[0] - batch_size, batch_size): # - batch_size, batch_size):\n",
    "        v = train_matrix[id_user:id_user + batch_size]  # training set inputs are used to activate neurons of my RBM\n",
    "        vt = test_matrix[id_user:id_user + batch_size]  # target\n",
    "        if vt.getnnz() == 0:\n",
    "            continue\n",
    "\n",
    "        v = convert_sparse_matrix_to_sparse_tensor(v)\n",
    "        vt = convert_sparse_matrix_to_sparse_tensor(vt)\n",
    "        v = v.to_dense()\n",
    "        vt = vt.to_dense()\n",
    "        v = v.sub(1)\n",
    "        vt = vt.sub(1)\n",
    "\n",
    "        if torch.cuda.is_available():\n",
    "            vt = vt.cuda()\n",
    "            v = v.cuda()\n",
    "\n",
    "        # ground truth\n",
    "        ratings, users, movies = (vt > 0).nonzero(as_tuple=True)\n",
    "\n",
    "        indices = torch.stack([users, movies])\n",
    "        shape = (batch_size, train_matrix.shape[1])\n",
    "        target = torch.sparse.LongTensor(indices, torch.add(ratings, 1), torch.Size(shape))\n",
    "        target_dense = target.to_dense()\n",
    "\n",
    "        target_recommended = torch.argsort(target_dense, 1, descending=True)\n",
    "\n",
    "        # predicted\n",
    "        pred_ratings = []\n",
    "        pred_movies = []\n",
    "        for rbm in rbms:\n",
    "            _, h = rbm.sample_h(v)\n",
    "            recommended, _ = rbm.sample_v(h)\n",
    "\n",
    "            scaled_tensors = [recommended[0]]\n",
    "            for i in range(1, rbm.K):\n",
    "                scaled_tensors.append(recommended[i] * (i+1))\n",
    "            recommended_scaled = torch.stack(scaled_tensors)\n",
    "            recommended_summed = torch.sum(recommended_scaled, 0)\n",
    "            pred_rating, pred_movie = torch.topk(recommended_summed, k)\n",
    "            pred_ratings.append(pred_rating)\n",
    "            pred_movies.append(pred_movie)\n",
    "\n",
    "        predicted_ratings = torch.cat(pred_ratings, dim=1)\n",
    "        predicted_movies = torch.cat(pred_movies, dim=1)\n",
    "        _, predicted_indices = torch.topk(predicted_ratings, k)\n",
    "\n",
    "\n",
    "        for user in range(batch_size):\n",
    "            # all recommendations\n",
    "            user_ratings = torch.index_select(target_dense[user], 0, target_recommended[user])\n",
    "            user_target = target_recommended[user][user_ratings > 0].cpu().tolist()\n",
    "\n",
    "            # user_target = target_recommended[user][target_rating[user] > rating_cutoff].cpu().tolist()\n",
    "            user_pred = torch.index_select(predicted_movies[user], 0, predicted_indices[0]).cpu().tolist()\n",
    "\n",
    "            recommended_games_set = recommended_games_set.union(set(user_pred))\n",
    "            counter = 0\n",
    "            total = min(k, len(user_target))\n",
    "            for target in user_target:\n",
    "                if target in user_pred:\n",
    "                    counter += 1\n",
    "            # counter = len(recommendations)\n",
    "\n",
    "            recall.append(counter / total)\n",
    "            hitrates.append(min(1, counter))\n",
    "\n",
    "            # nDCG\n",
    "            idcg = np.sum([1 / np.log2(i+2) for i in range(min(k, len(user_target)))])\n",
    "            dcg = 0\n",
    "            for i, r in enumerate(user_pred):\n",
    "                if r in user_target:\n",
    "                    dcg += 1 / np.log2(i+2)\n",
    "\n",
    "            nDCG.append(dcg / idcg) \n",
    "\n",
    "    if p:\n",
    "        print(recommended_games_set)\n",
    "        print(len(recommended_games_set))\n",
    "    return hitrates, recall, nDCG"
   ]
  },
  {
   "cell_type": "code",
   "execution_count": 24,
   "metadata": {},
   "outputs": [],
   "source": [
    "def compute_ensemble_hr2(train_matrix, test_matrix, rbms: list[RBM], k=10, rating_cutoff=-1, p=False):\n",
    "    \"\"\"\n",
    "    compute the various metrics of our model, hr, recall and ndcg\n",
    "    :param train_matrix: the input wich our user already has\n",
    "    :param test_matrix: the games we are trying to recommend to each user\n",
    "    :param rbm: our model used to make recommendations\n",
    "    :param k: the amount of recommendations we are going to give\n",
    "    :param batch_size: UNUSED, uses rbm.batch_size instead\n",
    "    :return: hitrates, recall, nDCG as an array, use np.average to get value\n",
    "    \"\"\"\n",
    "    hitrates = []\n",
    "    recall = []\n",
    "    nDCG = []\n",
    "    batch_size = rbms[0].batch_size\n",
    "\n",
    "    recommended_games_set = set()\n",
    "    # for loop - go through every single user\n",
    "    # for id_user in tqdm(range(0, train_matrix.shape[0] - rbm.batch_size, rbm.batch_size)): # - batch_size, batch_size):\n",
    "    for id_user in trange(0, train_matrix.shape[0] - batch_size, batch_size): # - batch_size, batch_size):\n",
    "        v = train_matrix[id_user:id_user + batch_size]  # training set inputs are used to activate neurons of my RBM\n",
    "        vt = test_matrix[id_user:id_user + batch_size]  # target\n",
    "        if vt.getnnz() == 0:\n",
    "            continue\n",
    "\n",
    "        v = convert_sparse_matrix_to_sparse_tensor(v)\n",
    "        vt = convert_sparse_matrix_to_sparse_tensor(vt)\n",
    "        v = v.to_dense()\n",
    "        vt = vt.to_dense()\n",
    "        v = v.sub(1)\n",
    "        vt = vt.sub(1)\n",
    "\n",
    "        if torch.cuda.is_available():\n",
    "            vt = vt.cuda()\n",
    "            v = v.cuda()\n",
    "\n",
    "        # ground truth\n",
    "        ratings, users, movies = (vt > 0).nonzero(as_tuple=True)\n",
    "\n",
    "        indices = torch.stack([users, movies])\n",
    "        shape = (batch_size, train_matrix.shape[1])\n",
    "        target = torch.sparse.LongTensor(indices, torch.add(ratings, 1), torch.Size(shape))\n",
    "        target_dense = target.to_dense()\n",
    "\n",
    "        target_recommended = torch.argsort(target_dense, 1, descending=True)\n",
    "\n",
    "        # predicted\n",
    "        pred_ratings = []\n",
    "        pred_movies = []\n",
    "        for rbm in rbms:\n",
    "            _, h = rbm.sample_h(v)\n",
    "            recommended, _ = rbm.sample_v(h)\n",
    "\n",
    "            scaled_tensors = [recommended[0]]\n",
    "            for i in range(1, rbm.K):\n",
    "                scaled_tensors.append(recommended[i] * (i+1))\n",
    "            recommended_scaled = torch.stack(scaled_tensors)\n",
    "            recommended_summed = torch.sum(recommended_scaled, 0)\n",
    "            pred_rating, pred_movie = torch.topk(recommended_summed, k // len(rbms))\n",
    "            pred_ratings.append(pred_rating)\n",
    "            pred_movies.append(pred_movie)\n",
    "\n",
    "        # predicted_ratings = torch.cat(pred_ratings, dim=1)\n",
    "        predicted_movies = torch.cat(pred_movies, dim=1)\n",
    "        # _, predicted_indices = torch.topk(predicted_ratings, k)\n",
    "\n",
    "\n",
    "        for user in range(batch_size):\n",
    "            # all recommendations\n",
    "            user_ratings = torch.index_select(target_dense[user], 0, target_recommended[user])\n",
    "            user_target = target_recommended[user][user_ratings > 0].cpu().tolist()\n",
    "\n",
    "            # user_target = target_recommended[user][target_rating[user] > rating_cutoff].cpu().tolist()\n",
    "            # user_pred = torch.index_select(predicted_movies[user], 0, predicted_indices[0]).cpu().tolist()\n",
    "            user_pred = predicted_movies[user].cpu().tolist()\n",
    "\n",
    "            recommended_games_set = recommended_games_set.union(set(user_pred))\n",
    "            counter = 0\n",
    "            total = min(k, len(user_target))\n",
    "            for target in user_target:\n",
    "                if target in user_pred:\n",
    "                    counter += 1\n",
    "            # counter = len(recommendations)\n",
    "\n",
    "            recall.append(counter / total)\n",
    "            hitrates.append(min(1, counter))\n",
    "\n",
    "            # nDCG\n",
    "            idcg = np.sum([1 / np.log2(i+2) for i in range(min(k, len(user_target)))])\n",
    "            dcg = 0\n",
    "            for i, r in enumerate(user_pred):\n",
    "                if r in user_target:\n",
    "                    dcg += 1 / np.log2(i+2)\n",
    "\n",
    "            nDCG.append(dcg / idcg) \n",
    "\n",
    "    if p:\n",
    "        print(recommended_games_set)\n",
    "        print(len(recommended_games_set))\n",
    "    return hitrates, recall, nDCG"
   ]
  },
  {
   "cell_type": "code",
   "execution_count": 22,
   "metadata": {},
   "outputs": [],
   "source": [
    "# rbms = [] \n",
    "# for i in range(5):\n",
    "#     rbm = RBM(train_matrix.shape[1], 5, 5, batch_size=2000)\n",
    "#     rbm.load_state_dict(torch.load(f\"./rbm5-100-nr{i}.network\"))\n",
    "#     rbm.eval()\n",
    "#     rbms.append(rbm)\n"
   ]
  },
  {
   "cell_type": "code",
   "execution_count": 26,
   "metadata": {},
   "outputs": [
    {
     "data": {
      "text/plain": [
       "0"
      ]
     },
     "execution_count": 26,
     "metadata": {},
     "output_type": "execute_result"
    }
   ],
   "source": [
    "len(rbms[0].state_dict())"
   ]
  },
  {
   "cell_type": "code",
   "execution_count": 27,
   "metadata": {},
   "outputs": [
    {
     "name": "stdout",
     "output_type": "stream",
     "text": [
      "Vanilla RBM\n",
      "{6149, 5770, 2319, 6288, 5010, 789, 2074, 3741, 6440, 4272, 690, 1843, 2994, 1715, 4278, 5690, 2619, 4158, 461, 5714, 5846, 5720, 2009, 5337, 1754, 4443, 2781, 6367, 7267, 3686, 2923, 3821, 4462, 2286, 3184, 5616, 5234, 6902, 2173}\n",
      "39\n",
      "hr 0.02624074074074074\n",
      "recall 0.007698949147560258\n",
      "ndcg 0.003972225849196765\n"
     ]
    }
   ],
   "source": [
    "evaluate_rbm(rbms[1])"
   ]
  },
  {
   "cell_type": "code",
   "execution_count": 33,
   "metadata": {},
   "outputs": [
    {
     "name": "stderr",
     "output_type": "stream",
     "text": [
      "100%|██████████| 27/27 [00:19<00:00,  1.38it/s]\n"
     ]
    },
    {
     "name": "stdout",
     "output_type": "stream",
     "text": [
      "k: 5\n",
      "0.09251851851851851 0.03574506172839506 0.027745742388268838\n"
     ]
    },
    {
     "name": "stderr",
     "output_type": "stream",
     "text": [
      "100%|██████████| 27/27 [00:19<00:00,  1.36it/s]\n"
     ]
    },
    {
     "name": "stdout",
     "output_type": "stream",
     "text": [
      "k: 10\n",
      "0.17127777777777778 0.05611930482069371 0.03599639508732087\n"
     ]
    },
    {
     "name": "stderr",
     "output_type": "stream",
     "text": [
      "100%|██████████| 27/27 [00:19<00:00,  1.36it/s]"
     ]
    },
    {
     "name": "stdout",
     "output_type": "stream",
     "text": [
      "k: 20\n",
      "0.261537037037037 0.08461618056412304 0.046195788826402594\n"
     ]
    },
    {
     "name": "stderr",
     "output_type": "stream",
     "text": [
      "\n"
     ]
    }
   ],
   "source": [
    "for k in [5, 10, 20]:\n",
    "    hr, r, ndcg = compute_ensemble_hr(train_matrix, test_matrix, rbms, k=k)\n",
    "    print(\"k:\", k)\n",
    "    print(np.average(hr), np.average(r), np.average(ndcg))"
   ]
  },
  {
   "cell_type": "code",
   "execution_count": 34,
   "metadata": {},
   "outputs": [
    {
     "name": "stderr",
     "output_type": "stream",
     "text": [
      "100%|██████████| 27/27 [00:18<00:00,  1.47it/s]\n"
     ]
    },
    {
     "name": "stdout",
     "output_type": "stream",
     "text": [
      "{7232, 7264, 7266, 7267, 7269, 7238, 7243, 7246, 7249, 7253, 7262, 7263}\n",
      "12\n",
      "k: 5\n",
      "0.08624074074074074 0.02912314814814815 0.023885336847783958\n"
     ]
    },
    {
     "name": "stderr",
     "output_type": "stream",
     "text": [
      "100%|██████████| 27/27 [00:18<00:00,  1.45it/s]\n"
     ]
    },
    {
     "name": "stdout",
     "output_type": "stream",
     "text": [
      "{7232, 7238, 7243, 7246, 7248, 7249, 7187, 7252, 7253, 7188, 7064, 7259, 7262, 7263, 7264, 7266, 7267, 7269, 7147, 7275, 7214, 7215}\n",
      "22\n",
      "k: 10\n",
      "0.15583333333333332 0.04781697530864198 0.03063405267299896\n"
     ]
    },
    {
     "name": "stderr",
     "output_type": "stream",
     "text": [
      "100%|██████████| 27/27 [00:18<00:00,  1.44it/s]"
     ]
    },
    {
     "name": "stdout",
     "output_type": "stream",
     "text": [
      "{7181, 7186, 7187, 7188, 7189, 7064, 7194, 7200, 7205, 7214, 7215, 7087, 7229, 7232, 7238, 7239, 7243, 7246, 7248, 7249, 7252, 7253, 7127, 7259, 7262, 7263, 7264, 7266, 7267, 7269, 7271, 7275, 7147, 7157}\n",
      "34\n",
      "k: 20\n",
      "0.25775925925925924 0.08396868491678217 0.045679587066913815\n"
     ]
    },
    {
     "name": "stderr",
     "output_type": "stream",
     "text": [
      "\n"
     ]
    }
   ],
   "source": [
    "for k in [5, 10, 20]:\n",
    "    hr, r, ndcg = compute_ensemble_hr2(train_matrix, test_matrix, rbms, p=True, k=k)\n",
    "    print(\"k:\", k)\n",
    "    print(np.average(hr), np.average(r), np.average(ndcg))"
   ]
  },
  {
   "cell_type": "code",
   "execution_count": 31,
   "metadata": {},
   "outputs": [
    {
     "name": "stdout",
     "output_type": "stream",
     "text": [
      "---------\n",
      "k: 5\n",
      "0.08688888888888889 0.02753672839506173 0.023904759517132248\n",
      "k: 10\n",
      "0.14424074074074075 0.03973492063492064 0.028513434040955115\n",
      "k: 20\n",
      "0.2106851851851852 0.057247883524698104 0.034364865850258504\n",
      "---------\n",
      "k: 5\n",
      "0.08353703703703703 0.029024691358024695 0.02365383650960054\n",
      "k: 10\n",
      "0.14814814814814814 0.04357220017636684 0.029547031604546643\n",
      "k: 20\n",
      "0.18977777777777777 0.05256487842931126 0.03246523193329953\n",
      "---------\n",
      "k: 5\n",
      "0.07131481481481482 0.023956481481481485 0.01993519374137369\n",
      "k: 10\n",
      "0.09085185185185185 0.025896406525573193 0.019986876787856562\n",
      "k: 20\n",
      "0.12446296296296297 0.031688919179248556 0.02201082889085025\n",
      "---------\n",
      "k: 5\n",
      "0.07381481481481482 0.027413888888888887 0.02234515576290691\n",
      "k: 10\n",
      "0.13805555555555554 0.04061432980599647 0.02803854739338123\n",
      "k: 20\n",
      "0.2262222222222222 0.0672837525164989 0.03722261681304209\n",
      "---------\n",
      "k: 5\n",
      "0.09124074074074075 0.034149074074074075 0.02571392197673796\n",
      "k: 10\n",
      "0.1435925925925926 0.04358506760728983 0.029485151059181307\n",
      "k: 20\n",
      "0.2299074074074074 0.06870509387930483 0.03810051503556214\n",
      "('hr', 5) 0.08135925925925927\n",
      "('r', 5) 0.028416172839506176\n",
      "('ndcg', 5) 0.02311057350155027\n",
      "('hr', 10) 0.1329777777777778\n",
      "('r', 10) 0.03868058495002939\n",
      "('ndcg', 10) 0.027114208177184167\n",
      "('hr', 20) 0.19621111111111111\n",
      "('r', 20) 0.055498105505812335\n",
      "('ndcg', 20) 0.0328328117046025\n"
     ]
    }
   ],
   "source": [
    "metrics_dict = {}\n",
    "for rbm in rbms:\n",
    "    print(\"---------\")\n",
    "    for k in [5, 10, 20]:\n",
    "        hr, r, ndcg = compute_hr(train_matrix, test_matrix, rbm, k=k)\n",
    "        print(\"k:\", k)\n",
    "        print(np.average(hr), np.average(r), np.average(ndcg))\n",
    "\n",
    "        if (\"hr\", k) not in metrics_dict:\n",
    "            metrics_dict[\"hr\", k] = [np.average(hr)]\n",
    "            metrics_dict[\"r\", k] = [np.average(r)]\n",
    "            metrics_dict[\"ndcg\", k] = [np.average(ndcg)]\n",
    "        else:\n",
    "            metrics_dict[\"hr\", k] += [np.average(hr)]\n",
    "            metrics_dict[\"r\", k] += [np.average(r)]\n",
    "            metrics_dict[\"ndcg\", k] += [np.average(ndcg)]\n",
    "\n",
    "for key, value in metrics_dict.items():\n",
    "    print(key, np.average(value))\n"
   ]
  },
  {
   "cell_type": "code",
   "execution_count": 40,
   "metadata": {},
   "outputs": [
    {
     "data": {
      "text/plain": [
       "5"
      ]
     },
     "execution_count": 40,
     "metadata": {},
     "output_type": "execute_result"
    }
   ],
   "source": [
    "len(rbms)"
   ]
  },
  {
   "cell_type": "code",
   "execution_count": 32,
   "metadata": {},
   "outputs": [],
   "source": [
    "import pickle\n",
    "with open(\"test.pickle\", \"wb\") as f:\n",
    "    pickle.dump(rbms[0], f)"
   ]
  },
  {
   "cell_type": "code",
   "execution_count": 41,
   "metadata": {},
   "outputs": [
    {
     "ename": "KeyboardInterrupt",
     "evalue": "",
     "output_type": "error",
     "traceback": [
      "\u001b[1;31m---------------------------------------------------------------------------\u001b[0m",
      "\u001b[1;31mKeyboardInterrupt\u001b[0m                         Traceback (most recent call last)",
      "\u001b[1;32m~\\AppData\\Local\\Temp/ipykernel_11816/2009140557.py\u001b[0m in \u001b[0;36m<module>\u001b[1;34m\u001b[0m\n\u001b[0;32m      3\u001b[0m \u001b[1;33m\u001b[0m\u001b[0m\n\u001b[0;32m      4\u001b[0m \u001b[1;33m\u001b[0m\u001b[0m\n\u001b[1;32m----> 5\u001b[1;33m \u001b[0mh\u001b[0m\u001b[1;33m,\u001b[0m \u001b[0mr\u001b[0m\u001b[1;33m,\u001b[0m \u001b[0mndcg\u001b[0m \u001b[1;33m=\u001b[0m \u001b[0mcompute_hr\u001b[0m\u001b[1;33m(\u001b[0m\u001b[0mtrain_matrix\u001b[0m\u001b[1;33m,\u001b[0m \u001b[0mtest_matrix\u001b[0m\u001b[1;33m,\u001b[0m \u001b[0mrbmtest\u001b[0m\u001b[1;33m,\u001b[0m \u001b[0mp\u001b[0m\u001b[1;33m=\u001b[0m\u001b[1;32mTrue\u001b[0m\u001b[1;33m)\u001b[0m\u001b[1;33m\u001b[0m\u001b[1;33m\u001b[0m\u001b[0m\n\u001b[0m\u001b[0;32m      6\u001b[0m \u001b[0mprint\u001b[0m\u001b[1;33m(\u001b[0m\u001b[0mnp\u001b[0m\u001b[1;33m.\u001b[0m\u001b[0maverage\u001b[0m\u001b[1;33m(\u001b[0m\u001b[0mh\u001b[0m\u001b[1;33m)\u001b[0m\u001b[1;33m)\u001b[0m\u001b[1;33m\u001b[0m\u001b[1;33m\u001b[0m\u001b[0m\n",
      "\u001b[1;32m~\\AppData\\Local\\Temp/ipykernel_11816/3633960666.py\u001b[0m in \u001b[0;36mcompute_hr\u001b[1;34m(train_matrix, test_matrix, rbm, k, rating_cutoff, p)\u001b[0m\n\u001b[0;32m     63\u001b[0m             \u001b[1;31m# all recommendations\u001b[0m\u001b[1;33m\u001b[0m\u001b[1;33m\u001b[0m\u001b[0m\n\u001b[0;32m     64\u001b[0m             \u001b[0muser_ratings\u001b[0m \u001b[1;33m=\u001b[0m \u001b[0mtorch\u001b[0m\u001b[1;33m.\u001b[0m\u001b[0mindex_select\u001b[0m\u001b[1;33m(\u001b[0m\u001b[0mtarget_dense\u001b[0m\u001b[1;33m[\u001b[0m\u001b[0muser\u001b[0m\u001b[1;33m]\u001b[0m\u001b[1;33m,\u001b[0m \u001b[1;36m0\u001b[0m\u001b[1;33m,\u001b[0m \u001b[0mtarget_recommended\u001b[0m\u001b[1;33m[\u001b[0m\u001b[0muser\u001b[0m\u001b[1;33m]\u001b[0m\u001b[1;33m)\u001b[0m\u001b[1;33m\u001b[0m\u001b[1;33m\u001b[0m\u001b[0m\n\u001b[1;32m---> 65\u001b[1;33m             \u001b[0muser_target\u001b[0m \u001b[1;33m=\u001b[0m \u001b[0mtarget_recommended\u001b[0m\u001b[1;33m[\u001b[0m\u001b[0muser\u001b[0m\u001b[1;33m]\u001b[0m\u001b[1;33m[\u001b[0m\u001b[0muser_ratings\u001b[0m \u001b[1;33m>\u001b[0m \u001b[1;36m0\u001b[0m\u001b[1;33m]\u001b[0m\u001b[1;33m.\u001b[0m\u001b[0mcpu\u001b[0m\u001b[1;33m(\u001b[0m\u001b[1;33m)\u001b[0m\u001b[1;33m.\u001b[0m\u001b[0mtolist\u001b[0m\u001b[1;33m(\u001b[0m\u001b[1;33m)\u001b[0m\u001b[1;33m\u001b[0m\u001b[1;33m\u001b[0m\u001b[0m\n\u001b[0m\u001b[0;32m     66\u001b[0m \u001b[1;33m\u001b[0m\u001b[0m\n\u001b[0;32m     67\u001b[0m             \u001b[1;31m# user_target = target_recommended[user][target_rating[user] > rating_cutoff].cpu().tolist()\u001b[0m\u001b[1;33m\u001b[0m\u001b[1;33m\u001b[0m\u001b[0m\n",
      "\u001b[1;31mKeyboardInterrupt\u001b[0m: "
     ]
    }
   ],
   "source": [
    "with open(\"test.pickle\", \"rb\") as f:\n",
    "    rbmtest = pickle.load(f)\n",
    "\n",
    "\n",
    "h, r, ndcg = compute_hr(train_matrix, test_matrix, rbmtest, p=True)\n",
    "print(np.average(h))"
   ]
  }
 ],
 "metadata": {
  "interpreter": {
   "hash": "ac59ebe37160ed0dfa835113d9b8498d9f09ceb179beaac4002f036b9467c963"
  },
  "kernelspec": {
   "display_name": "PyCharm (ai-project)",
   "language": "python",
   "name": "python3"
  },
  "language_info": {
   "codemirror_mode": {
    "name": "ipython",
    "version": 3
   },
   "file_extension": ".py",
   "mimetype": "text/x-python",
   "name": "python",
   "nbconvert_exporter": "python",
   "pygments_lexer": "ipython3",
   "version": "3.9.7"
  },
  "orig_nbformat": 4,
  "pycharm": {
   "stem_cell": {
    "cell_type": "raw",
    "source": [],
    "metadata": {
     "collapsed": false
    }
   }
  }
 },
 "nbformat": 4,
 "nbformat_minor": 2
}