{
 "cells": [
  {
   "cell_type": "code",
   "execution_count": 1,
   "metadata": {
    "collapsed": true,
    "pycharm": {
     "is_executing": false
    }
   },
   "outputs": [],
   "source": [
    "import numpy as np\n",
    "import pandas as pd\n",
    "import scipy\n",
    "import sklearn\n",
    "import gzip\n",
    "import json\n",
    "from tqdm import tqdm\n",
    "import os\n",
    "from collections import Counter\n",
    "from datetime import datetime\n",
    "import math\n",
    "tqdm.pandas() #for progres_apply etc."
   ]
  },
  {
   "cell_type": "markdown",
   "source": [
    "# load game libraries\n",
    "\n",
    "\n"
   ],
   "metadata": {
    "collapsed": false
   }
  },
  {
   "cell_type": "code",
   "execution_count": 2,
   "outputs": [],
   "source": [
    "filename = './data/gamesAll.json.gz'\n",
    "f = gzip.open(filename,'r')\n",
    "d = json.load(f)\n"
   ],
   "metadata": {
    "collapsed": false,
    "pycharm": {
     "name": "#%%\n",
     "is_executing": false
    }
   }
  },
  {
   "cell_type": "code",
   "execution_count": 11,
   "outputs": [
    {
     "data": {
      "text/plain": "             user_id  game_id\n0     id/42622422424      440\n0     id/42622422424     4000\n0     id/42622422424    48700\n0     id/42622422424      240\n0     id/42622422424   252490\n...              ...      ...\n8658  id/iveinsomnia   220823\n8658  id/iveinsomnia   220825\n8658  id/iveinsomnia   220824\n8658  id/iveinsomnia    33130\n8658  id/iveinsomnia    33180\n\n[2856214 rows x 2 columns]",
      "text/html": "<div>\n<style scoped>\n    .dataframe tbody tr th:only-of-type {\n        vertical-align: middle;\n    }\n\n    .dataframe tbody tr th {\n        vertical-align: top;\n    }\n\n    .dataframe thead th {\n        text-align: right;\n    }\n</style>\n<table border=\"1\" class=\"dataframe\">\n  <thead>\n    <tr style=\"text-align: right;\">\n      <th></th>\n      <th>user_id</th>\n      <th>game_id</th>\n    </tr>\n  </thead>\n  <tbody>\n    <tr>\n      <th>0</th>\n      <td>id/42622422424</td>\n      <td>440</td>\n    </tr>\n    <tr>\n      <th>0</th>\n      <td>id/42622422424</td>\n      <td>4000</td>\n    </tr>\n    <tr>\n      <th>0</th>\n      <td>id/42622422424</td>\n      <td>48700</td>\n    </tr>\n    <tr>\n      <th>0</th>\n      <td>id/42622422424</td>\n      <td>240</td>\n    </tr>\n    <tr>\n      <th>0</th>\n      <td>id/42622422424</td>\n      <td>252490</td>\n    </tr>\n    <tr>\n      <th>...</th>\n      <td>...</td>\n      <td>...</td>\n    </tr>\n    <tr>\n      <th>8658</th>\n      <td>id/iveinsomnia</td>\n      <td>220823</td>\n    </tr>\n    <tr>\n      <th>8658</th>\n      <td>id/iveinsomnia</td>\n      <td>220825</td>\n    </tr>\n    <tr>\n      <th>8658</th>\n      <td>id/iveinsomnia</td>\n      <td>220824</td>\n    </tr>\n    <tr>\n      <th>8658</th>\n      <td>id/iveinsomnia</td>\n      <td>33130</td>\n    </tr>\n    <tr>\n      <th>8658</th>\n      <td>id/iveinsomnia</td>\n      <td>33180</td>\n    </tr>\n  </tbody>\n</table>\n<p>2856214 rows × 2 columns</p>\n</div>"
     },
     "metadata": {},
     "output_type": "execute_result",
     "execution_count": 11
    }
   ],
   "source": [
    "\n",
    "\n",
    "df = pd.DataFrame(d.items(), columns=['user_id', 'game_list'])\n",
    "\n",
    "df = df.explode(\"game_list\")\n",
    "df.dropna(inplace=True)\n",
    "df[\"game_id\"] = df[\"game_list\"].apply(lambda x: x['appid'])\n",
    "\n",
    "df = df[[\"user_id\", \"game_id\"]]\n",
    "df"
   ],
   "metadata": {
    "collapsed": false,
    "pycharm": {
     "name": "#%%\n",
     "is_executing": false
    }
   }
  }
 ],
 "metadata": {
  "kernelspec": {
   "display_name": "Python 3",
   "language": "python",
   "name": "python3"
  },
  "language_info": {
   "codemirror_mode": {
    "name": "ipython",
    "version": 2
   },
   "file_extension": ".py",
   "mimetype": "text/x-python",
   "name": "python",
   "nbconvert_exporter": "python",
   "pygments_lexer": "ipython2",
   "version": "2.7.6"
  },
  "pycharm": {
   "stem_cell": {
    "cell_type": "raw",
    "source": [],
    "metadata": {
     "collapsed": false
    }
   }
  }
 },
 "nbformat": 4,
 "nbformat_minor": 0
}