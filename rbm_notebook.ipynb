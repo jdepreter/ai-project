{
 "cells": [
  {
   "cell_type": "code",
   "execution_count": 5,
   "metadata": {
    "pycharm": {
     "is_executing": false
    }
   },
   "outputs": [],
   "source": [
    "# https://github.com/khanhnamle1994/MetaRec/blob/b5e36cb579a88b32cdfb728f35f645d76b24ad95/Boltzmann-Machines-Experiments/RBM-CF-PyTorch/rbm.py#L23\n",
    "# Import PyTorch library\n",
    "import torch\n",
    "import torch.nn as nn\n",
    "\n",
    "# Create the Restricted Boltzmann Machine architecture\n",
    "class RBM(nn.Module):\n",
    "    def __init__(self, n_vis, n_hid):\n",
    "        \"\"\"\n",
    "        Initialize the parameters (weights and biases) we optimize during the training process\n",
    "        :param n_vis: number of visible units\n",
    "        :param n_hid: number of hidden units\n",
    "        \"\"\"\n",
    "\n",
    "        # Weights used for the probability of the visible units given the hidden units\n",
    "        self.W = torch.randn(n_hid, n_vis)  # torch.rand: random normal distribution mean = 0, variance = 1\n",
    "\n",
    "        # Bias probability of the visible units is activated, given the value of the hidden units (p_v_given_h)\n",
    "        self.v_bias = torch.randn(1, n_vis)  # fake dimension for the batch = 1\n",
    "\n",
    "        # Bias probability of the hidden units is activated, given the value of the visible units (p_h_given_v)\n",
    "        self.h_bias = torch.randn(1, n_hid)  # fake dimension for the batch = 1\n",
    "\n",
    "    def sample_h(self, x):\n",
    "        \"\"\"\n",
    "        Sample the hidden units\n",
    "        :param x: the dataset\n",
    "        \"\"\"\n",
    "\n",
    "        # Probability h is activated given that the value v is sigmoid(Wx + a)\n",
    "        # torch.mm make the product of 2 tensors\n",
    "        # W.t() take the transpose because W is used for the p_v_given_h\n",
    "        wx = torch.mm(x, self.W.t())\n",
    "        # print(wx.shape)\n",
    "\n",
    "        # Expand the mini-batch\n",
    "        activation = wx + self.h_bias.expand_as(wx)\n",
    "        # print(activation.shape)\n",
    "\n",
    "        # Calculate the probability p_h_given_v\n",
    "        p_h_given_v = torch.sigmoid(activation)\n",
    "\n",
    "        print(\"h sparse\", p_h_given_v.is_sparse, torch.bernoulli(p_h_given_v).is_sparse)\n",
    "\n",
    "        # Construct a Bernoulli RBM to predict whether an user loves the movie or not (0 or 1)\n",
    "        # This corresponds to whether the n_hid is activated or not activated\n",
    "        return p_h_given_v, torch.bernoulli(p_h_given_v)\n",
    "\n",
    "    def sample_v(self, y):\n",
    "        \"\"\"\n",
    "        Sample the visible units\n",
    "        :param y: the dataset\n",
    "        \"\"\"\n",
    "\n",
    "        # Probability v is activated given that the value h is sigmoid(Wx + a)\n",
    "        wy = torch.mm(y, self.W)\n",
    "\n",
    "        # Expand the mini-batch\n",
    "        activation = wy + self.v_bias.expand_as(wy)\n",
    "\n",
    "        # Calculate the probability p_v_given_h\n",
    "        p_v_given_h = torch.sigmoid(activation)\n",
    "\n",
    "        print(\"v sparse\", p_v_given_h.is_sparse, torch.bernoulli(p_v_given_h).is_sparse)\n",
    "\n",
    "        # Construct a Bernoulli RBM to predict whether an user loves the movie or not (0 or 1)\n",
    "        # This corresponds to whether the n_vis is activated or not activated\n",
    "        return p_v_given_h, torch.bernoulli(p_v_given_h)\n",
    "\n",
    "    def train(self, v0, vk, ph0, phk):\n",
    "        \"\"\"\n",
    "        Perform contrastive divergence algorithm to optimize the weights that minimize the energy\n",
    "        This maximizes the log-likelihood of the model\n",
    "        \"\"\"\n",
    "\n",
    "        # Approximate the gradients with the CD algorithm\n",
    "        self.W += (torch.mm(v0.t(), ph0) - torch.mm(vk.t(), phk)).t()\n",
    "\n",
    "        # Add (difference, 0) for the tensor of 2 dimensions\n",
    "        self.v_bias = torch.sum((v0 - vk), 0)\n",
    "        self.h_bias = torch.sum((ph0 - phk), 0)"
   ]
  },
  {
   "cell_type": "code",
   "execution_count": 6,
   "metadata": {
    "pycharm": {
     "is_executing": false
    }
   },
   "outputs": [],
   "source": [
    "import numpy as np\n",
    "import pandas as pd\n",
    "import scipy\n",
    "import sklearn\n",
    "import gzip\n",
    "import json\n",
    "from tqdm import tqdm\n",
    "import os\n",
    "from collections import Counter\n",
    "from datetime import datetime\n",
    "import math\n",
    "tqdm.pandas() #for progres_apply etc."
   ]
  },
  {
   "cell_type": "code",
   "execution_count": 7,
   "metadata": {
    "pycharm": {
     "is_executing": false
    }
   },
   "outputs": [],
   "source": [
    "#read file line-by-line and parse json, returns dataframe\n",
    "def parse_json(filename_gzipped_python_json, read_max=-1):\n",
    "  #read gzipped content\n",
    "  f=gzip.open(filename_gzipped_python_json,'r')\n",
    "  \n",
    "  #parse json\n",
    "  parse_data = []\n",
    "  for line in tqdm(f): #tqdm is for showing progress bar, always good when processing large amounts of data\n",
    "    line = line.decode('utf-8')\n",
    "    line = line.replace('true','True') #difference json/python\n",
    "    line = line.replace('false','False')\n",
    "    parsed_result = eval(line) #load python nested datastructure\n",
    "    parse_data.append(parsed_result)\n",
    "    if read_max !=-1 and len(parse_data) > read_max:\n",
    "      print(f'Break reading after {read_max} records')\n",
    "      break\n",
    "  print(f\"Reading {len(parse_data)} rows.\")\n",
    "\n",
    "  #create dataframe\n",
    "  df= pd.DataFrame.from_dict(parse_data)\n",
    "  return df"
   ]
  },
  {
   "cell_type": "code",
   "execution_count": 8,
   "metadata": {
    "pycharm": {
     "is_executing": false
    }
   },
   "outputs": [
    {
     "name": "stderr",
     "text": [
      "\r0it [00:00, ?it/s]",
      "\r118it [00:00, 1171.48it/s]",
      "\r197it [00:00, 1020.33it/s]",
      "\r246it [00:00, 760.47it/s] ",
      "\r323it [00:00, 762.70it/s]",
      "\r420it [00:00, 814.39it/s]",
      "\r495it [00:00, 792.09it/s]",
      "\r588it [00:00, 827.36it/s]",
      "\r715it [00:00, 923.44it/s]",
      "\r843it [00:00, 1006.95it/s]",
      "\r953it [00:01, 1032.41it/s]",
      "\r1058it [00:01, 1014.42it/s]",
      "\r1171it [00:01, 1041.54it/s]",
      "\r1277it [00:01, 759.94it/s] ",
      "\r1371it [00:01, 805.45it/s]",
      "\r1498it [00:01, 903.30it/s]",
      "\r1599it [00:01, 861.49it/s]",
      "\r1726it [00:01, 952.29it/s]",
      "\r1855it [00:01, 1033.42it/s]",
      "\r1976it [00:02, 1077.89it/s]",
      "\r2122it [00:02, 1168.35it/s]",
      "\r2331it [00:02, 1344.46it/s]",
      "\r2618it [00:02, 1597.41it/s]",
      "\r2808it [00:02, 1597.74it/s]",
      "\r2989it [00:02, 1475.90it/s]",
      "\r3153it [00:02, 1377.29it/s]",
      "\r3304it [00:02, 1238.90it/s]",
      "\r3449it [00:03, 1289.95it/s]",
      "\r3617it [00:03, 1384.28it/s]",
      "\r3853it [00:03, 1579.89it/s]",
      "\r4074it [00:03, 1723.29it/s]",
      "\r4261it [00:03, 1742.78it/s]",
      "\r4446it [00:03, 1733.92it/s]",
      "\r4632it [00:03, 1766.15it/s]",
      "\r4814it [00:03, 1747.52it/s]",
      "\r4993it [00:03, 1422.26it/s]",
      "\r5148it [00:04, 1014.77it/s]",
      "\r5275it [00:04, 854.08it/s] ",
      "\r5402it [00:04, 945.05it/s]",
      "\r5597it [00:04, 1116.58it/s]",
      "\r5913it [00:04, 1385.30it/s]",
      "\r6357it [00:04, 1745.41it/s]",
      "\r6829it [00:04, 2151.88it/s]",
      "\r7157it [00:05, 2117.93it/s]",
      "\r7448it [00:05, 1218.52it/s]",
      "\r7670it [00:05, 1166.73it/s]",
      "\r7858it [00:05, 1298.20it/s]",
      "\r8042it [00:05, 1270.25it/s]",
      "\r8208it [00:06, 1325.35it/s]",
      "\r8397it [00:06, 1455.65it/s]",
      "\r8566it [00:06, 1418.66it/s]",
      "\r8725it [00:06, 1286.06it/s]",
      "\r8868it [00:06, 1247.41it/s]",
      "\r9003it [00:06, 1141.72it/s]",
      "\r9126it [00:06, 1135.46it/s]",
      "\r9278it [00:06, 1227.89it/s]",
      "\r9557it [00:07, 1473.57it/s]",
      "\r9966it [00:07, 1821.13it/s]",
      "\r10498it [00:07, 2267.51it/s]",
      "\r10827it [00:07, 2298.85it/s]",
      "\r11129it [00:07, 2429.90it/s]",
      "\r11425it [00:07, 1949.34it/s]",
      "\r11672it [00:07, 1891.55it/s]",
      "\r11930it [00:07, 2052.57it/s]",
      "\r12165it [00:08, 1754.51it/s]",
      "\r12369it [00:08, 1794.15it/s]",
      "\r12569it [00:08, 1839.74it/s]",
      "\r12768it [00:08, 1528.79it/s]",
      "\r12940it [00:08, 1107.14it/s]",
      "\r13081it [00:08, 1108.98it/s]",
      "\r13221it [00:09, 1180.57it/s]",
      "\r13355it [00:09, 1221.80it/s]",
      "\r13543it [00:09, 1363.02it/s]",
      "\r13693it [00:09, 1148.63it/s]",
      "\r13862it [00:09, 1268.66it/s]",
      "\r14082it [00:09, 1452.42it/s]",
      "\r14331it [00:09, 1659.67it/s]",
      "\r14642it [00:09, 1928.04it/s]",
      "\r14868it [00:09, 1721.36it/s]",
      "\r15068it [00:10, 1719.14it/s]",
      "\r15259it [00:10, 1744.50it/s]",
      "\r15447it [00:10, 1590.22it/s]",
      "\r15619it [00:10, 1362.08it/s]",
      "\r15770it [00:10, 1392.74it/s]",
      "\r15920it [00:10, 1362.42it/s]",
      "\r16064it [00:10, 1275.67it/s]",
      "\r16198it [00:11, 1002.45it/s]",
      "\r16312it [00:11, 593.17it/s] ",
      "\r16401it [00:11, 606.42it/s]",
      "\r16483it [00:11, 608.98it/s]",
      "\r16559it [00:11, 644.25it/s]",
      "\r16643it [00:11, 691.01it/s]",
      "\r16721it [00:12, 670.01it/s]",
      "\r16918it [00:12, 834.62it/s]",
      "\r17086it [00:12, 981.75it/s]",
      "\r17213it [00:12, 1043.83it/s]",
      "\r17339it [00:12, 1098.36it/s]",
      "\r17527it [00:12, 1250.55it/s]",
      "\r17671it [00:12, 1220.68it/s]",
      "\r17806it [00:12, 1088.75it/s]",
      "\r18043it [00:12, 1297.80it/s]",
      "\r18266it [00:13, 1482.35it/s]",
      "\r18441it [00:13, 1447.01it/s]",
      "\r18640it [00:13, 1573.64it/s]",
      "\r18900it [00:13, 1782.38it/s]",
      "\r19122it [00:13, 1891.09it/s]",
      "\r19382it [00:13, 2057.95it/s]",
      "\r19663it [00:13, 2233.62it/s]",
      "\r19902it [00:13, 1923.19it/s]",
      "\r20113it [00:13, 1842.88it/s]",
      "\r20315it [00:14, 1888.75it/s]",
      "\r20514it [00:14, 1636.22it/s]",
      "\r20691it [00:14, 1280.22it/s]",
      "\r20868it [00:14, 1393.70it/s]",
      "\r21026it [00:14, 1306.30it/s]",
      "\r21171it [00:14, 1215.62it/s]",
      "\r21351it [00:14, 1335.63it/s]",
      "\r21564it [00:14, 1501.57it/s]",
      "\r21821it [00:15, 1713.01it/s]",
      "\r22060it [00:15, 1870.87it/s]",
      "\r22305it [00:15, 2010.07it/s]",
      "\r22523it [00:15, 1800.21it/s]",
      "\r22753it [00:15, 1922.17it/s]",
      "\r23057it [00:15, 2159.35it/s]",
      "\r23382it [00:15, 2396.96it/s]",
      "\r23643it [00:15, 2187.90it/s]",
      "\r23957it [00:15, 2402.78it/s]",
      "\r24381it [00:16, 2757.64it/s]",
      "\r24845it [00:16, 3135.36it/s]",
      "\r25199it [00:16, 2261.59it/s]",
      "\r25488it [00:16, 1975.39it/s]",
      "\r25736it [00:16, 1907.33it/s]",
      "\r25799it [00:16, 1534.23it/s]",
      "\n"
     ],
     "output_type": "stream"
    },
    {
     "name": "stdout",
     "text": [
      "----- australian_user_reviews.json.gz-----\nSize of file is 6.940139MB\n",
      "Reading 25799 rows.\n"
     ],
     "output_type": "stream"
    },
    {
     "data": {
      "text/plain": "             user_id                                              user_url  \\\n0  76561197970982479  http://steamcommunity.com/profiles/76561197970982479   \n1            js41637                  http://steamcommunity.com/id/js41637   \n2          evcentric                http://steamcommunity.com/id/evcentric   \n3              doctr                    http://steamcommunity.com/id/doctr   \n4          maplemage                http://steamcommunity.com/id/maplemage   \n\n                                                                                                                                                                                                                                                                                                                                                                                                                                                                                                                                                                                                                                                                                                                                                                                                                                                                                                                                                                                                                                                                                                                                                                                                                                                                                                                                                                                                                                                                                                                                                                                                                                                                                                                                                                                                                                                                                                                                                                                                                                                                                                                                                                                                                                                                                                                                                                                                                                                                                                                                                                                                                                                                                                                                                                                                                                                                                                    reviews  \n0                                                                                                                                                                                                                                                                                                                                                                                                                                                                                                                                                                                                                                                                                                                                                                                                                                                                                                                                                                                                                                                                                                                                                                                                                                                                                                                                                                                                                                                                                                                                                                                                                                                                                                                                                                                                                                                                                                                                               [{'funny': '', 'posted': 'Posted November 5, 2011.', 'last_edited': '', 'item_id': '1250', 'helpful': 'No ratings yet', 'recommend': True, 'review': 'Simple yet with great replayability. In my opinion does \"zombie\" hordes and team work better than left 4 dead plus has a global leveling system. Alot of down to earth \"zombie\" splattering fun for the whole family. Amazed this sort of FPS is so rare.'}, {'funny': '', 'posted': 'Posted July 15, 2011.', 'last_edited': '', 'item_id': '22200', 'helpful': 'No ratings yet', 'recommend': True, 'review': 'It's unique and worth a playthrough.'}, {'funny': '', 'posted': 'Posted April 21, 2011.', 'last_edited': '', 'item_id': '43110', 'helpful': 'No ratings yet', 'recommend': True, 'review': 'Great atmosphere. The gunplay can be a bit chunky at times but at the end of the day this game is definitely worth it and I hope they do a sequel...so buy the game so I get a sequel!'}]  \n1                                                                                                                                                                                                                                                                                                                                                                                                                                                                                                                                                                                                                                                                                                                                                                                                                                                                                                                                                                                                                       [{'funny': '', 'posted': 'Posted June 24, 2014.', 'last_edited': '', 'item_id': '251610', 'helpful': '15 of 20 people (75%) found this review helpful', 'recommend': True, 'review': 'I know what you think when you see this title \"Barbie Dreamhouse Party\" but do not be intimidated by it's title, this is easily one of my GOTYs. You don't get any of that cliche game mechanics that all the latest games have, this is simply good core gameplay. Yes, you can't 360 noscope your friends, but what you can do is show them up with your bad ♥♥♥ dance moves and put them to shame as you show them what True fashion and color combinations are.I know this game says for kids but, this is easily for any age range and any age will have a blast playing this.8/8'}, {'funny': '', 'posted': 'Posted September 8, 2013.', 'last_edited': '', 'item_id': '227300', 'helpful': '0 of 1 people (0%) found this review helpful', 'recommend': True, 'review': 'For a simple (it's actually not all that simple but it can be!) truck driving Simulator, it is quite a fun and relaxing game. Playing on simple (or easy?) its just the basic WASD keys for driving but (if you want) the game can be much harder and realistic with having to manually change gears, much harder turning, etc. And reversing in this game is a ♥♥♥♥♥, as I imagine it would be with an actual truck. Luckily, you don't have to reverse park it but you get extra points if you do cause it is bloody hard. But this is suprisingly a nice truck driving game and I had a bit of fun with it.'}, {'funny': '', 'posted': 'Posted November 29, 2013.', 'last_edited': '', 'item_id': '239030', 'helpful': '1 of 4 people (25%) found this review helpful', 'recommend': True, 'review': 'Very fun little game to play when your bored or as a time passer. Very gud. Do Recommend. pls buy'}]  \n2                                                                                                                                                                                                                                                                                                                                                                                                                                                                                                                                                                                                                                                                                                                                                                                                                                                                                                                                                                                                                                                                                                                                                                                                         [{'funny': '', 'posted': 'Posted February 3.', 'last_edited': '', 'item_id': '248820', 'helpful': 'No ratings yet', 'recommend': True, 'review': 'A suitably punishing roguelike platformer.  Winning feels good.  Progressive unlocks mean a good slog ending in failure doesn't feel like a waste.'}, {'funny': '', 'posted': 'Posted December 4, 2015.', 'last_edited': 'Last edited December 5, 2015.', 'item_id': '370360', 'helpful': 'No ratings yet', 'recommend': True, 'review': '\"Run for fun? What the hell kind of fun is that?\"'}, {'funny': '', 'posted': 'Posted November 3, 2014.', 'last_edited': '', 'item_id': '237930', 'helpful': 'No ratings yet', 'recommend': True, 'review': 'Elegant integration of gameplay, story, world development and aesthetic.'}, {'funny': '', 'posted': 'Posted October 15, 2014.', 'last_edited': '', 'item_id': '263360', 'helpful': 'No ratings yet', 'recommend': True, 'review': 'Random drops and random quests, with stat points.  Animation style reminiscent of the era before the Voodoo card.'}, {'funny': '', 'posted': 'Posted October 15, 2014.', 'last_edited': '', 'item_id': '107200', 'helpful': 'No ratings yet', 'recommend': True, 'review': 'Fun balance of tactics and strategy.  Potential for very rewarding battles on smaller maps.  Can become a bit of a grind on larger maps (>200 stars).'}, {'funny': '', 'posted': 'Posted October 15, 2014.', 'last_edited': '', 'item_id': '224500', 'helpful': 'No ratings yet', 'recommend': True, 'review': 'Fun world builder, with plenty of option of how you want challenge served to you.  Gnome pathing sometimes frustrating if you expand very very quickly.'}]  \n3  [{'funny': '', 'posted': 'Posted October 14, 2013.', 'last_edited': '', 'item_id': '250320', 'helpful': '2 of 2 people (100%) found this review helpful', 'recommend': True, 'review': 'This game... is so fun. The fight sequences have been improved from walking dead. It also includes more of a Sam and Max puzzle solving (some of it in the first episode) and walking dead. The game also gets even more better if you have read the Fables comic books, which are without a doubt, very good. The music is also superb and fit the scenarios very well.'}, {'funny': '', 'posted': 'Posted July 28, 2012.', 'last_edited': '', 'item_id': '20920', 'helpful': '1 of 1 people (100%) found this review helpful', 'recommend': True, 'review': 'Really Really Really Great Game, very good story, im in chapter 1 atm and i think its great. You get a really early link with characters. No need to play the first game, its nicely wrapped up for you in a five minute video. FYI beware of the sex scenes :P, nudity does happen in the game and it shows you actually having sex, so try not to play with your parents around if your near a point in the story. Also you will need a good rig/comp to play on high. Don't even try running the game on Ultra unless you have mulitiple GPU's (Graphics card) and ram and a good processor. All in all good game :D'}, {'funny': '', 'posted': 'Posted June 2, 2012.', 'last_edited': '', 'item_id': '204100', 'helpful': '1 of 1 people (100%) found this review helpful', 'recommend': True, 'review': 'Just buy it already. Great Story, Great Multiplayer and good fan service. Just awesome game. Just using shootdodge and bullet time makes you feel like a badass. Also, its better if you get the max payne story recapped or replay the first two but its not necessary.'}, {'funny': '', 'posted': 'Posted June 29, 2014.', 'last_edited': '', 'item_id': '224600', 'helpful': '1 of 2 people (50%) found this review helpful', 'recommend': True, 'review': 'It was a great game from what I played, right now I need to find the actual download.'}, {'funny': '', 'posted': 'Posted November 22, 2012.', 'last_edited': '', 'item_id': '207610', 'helpful': 'No ratings yet', 'recommend': True, 'review': 'The ending to this game is.... ♥♥♥♥♥♥♥.... Just buy it, you'll be invested, im automatically preordering season two of the walking dead game.'}, {'funny': '', 'posted': 'Posted February 23, 2012.', 'last_edited': '', 'item_id': '108710', 'helpful': 'No ratings yet', 'recommend': True, 'review': 'Alan wake is a really good game, the light effects are pretty awesome and this game is so good, it paid back remedy their promotion and conversion fees in the first two days on steam. Its awesome :D. Remedy can still make video games, even if its not Max Payne. It is also very character driven.'}]  \n4                                                                                                                                                                                                                                                                                                                                                                                                                                                                                                                                                                                                                                                                                                                                                                                                                                                                                                                                                                                                                                                                                                                                                                                                                                                                                                                                                                                                                                                                                                                                                                                                                        [{'funny': '3 people found this review funny', 'posted': 'Posted April 15, 2014.', 'last_edited': '', 'item_id': '211420', 'helpful': '35 of 43 people (81%) found this review helpful', 'recommend': True, 'review': 'Git gud'}, {'funny': '1 person found this review funny', 'posted': 'Posted December 23, 2013.', 'last_edited': '', 'item_id': '211820', 'helpful': '12 of 16 people (75%) found this review helpful', 'recommend': True, 'review': 'It's like Terraria, you play for 9 hours straight, get endgame armour then stop playing until the next update.'}, {'funny': '2 people found this review funny', 'posted': 'Posted March 14, 2014.', 'last_edited': '', 'item_id': '730', 'helpful': '5 of 5 people (100%) found this review helpful', 'recommend': True, 'review': 'Hold shift to win, Hold CTRL to lose.'}, {'funny': '', 'posted': 'Posted July 11, 2013.', 'last_edited': '', 'item_id': '204300', 'helpful': 'No ratings yet', 'recommend': True, 'review': 'OH YES, THIS GAME IS THE BEST, THEY ADD STUFF LIKE NEW CHARACTERS, AND LIKE A NEW MAP ONCE A YEAR, IT'S SO AWESOME, OH YES, IT'S SO AWESOMENAUTS, YES, YES, I'M GOOD AT THIS, YES, YES, GOOD, I'M GOOD, YES, GOOD, YOU ARE BAD, IM GOOD, YES, TOO GOOD, YES, IM NOT BAD, YES, GOOD.'}]  ",
      "text/html": "<div>\n<style scoped>\n    .dataframe tbody tr th:only-of-type {\n        vertical-align: middle;\n    }\n\n    .dataframe tbody tr th {\n        vertical-align: top;\n    }\n\n    .dataframe thead th {\n        text-align: right;\n    }\n</style>\n<table border=\"1\" class=\"dataframe\">\n  <thead>\n    <tr style=\"text-align: right;\">\n      <th></th>\n      <th>user_id</th>\n      <th>user_url</th>\n      <th>reviews</th>\n    </tr>\n  </thead>\n  <tbody>\n    <tr>\n      <th>0</th>\n      <td>76561197970982479</td>\n      <td>http://steamcommunity.com/profiles/76561197970982479</td>\n      <td>[{'funny': '', 'posted': 'Posted November 5, 2011.', 'last_edited': '', 'item_id': '1250', 'helpful': 'No ratings yet', 'recommend': True, 'review': 'Simple yet with great replayability. In my opinion does \"zombie\" hordes and team work better than left 4 dead plus has a global leveling system. Alot of down to earth \"zombie\" splattering fun for the whole family. Amazed this sort of FPS is so rare.'}, {'funny': '', 'posted': 'Posted July 15, 2011.', 'last_edited': '', 'item_id': '22200', 'helpful': 'No ratings yet', 'recommend': True, 'review': 'It's unique and worth a playthrough.'}, {'funny': '', 'posted': 'Posted April 21, 2011.', 'last_edited': '', 'item_id': '43110', 'helpful': 'No ratings yet', 'recommend': True, 'review': 'Great atmosphere. The gunplay can be a bit chunky at times but at the end of the day this game is definitely worth it and I hope they do a sequel...so buy the game so I get a sequel!'}]</td>\n    </tr>\n    <tr>\n      <th>1</th>\n      <td>js41637</td>\n      <td>http://steamcommunity.com/id/js41637</td>\n      <td>[{'funny': '', 'posted': 'Posted June 24, 2014.', 'last_edited': '', 'item_id': '251610', 'helpful': '15 of 20 people (75%) found this review helpful', 'recommend': True, 'review': 'I know what you think when you see this title \"Barbie Dreamhouse Party\" but do not be intimidated by it's title, this is easily one of my GOTYs. You don't get any of that cliche game mechanics that all the latest games have, this is simply good core gameplay. Yes, you can't 360 noscope your friends, but what you can do is show them up with your bad ♥♥♥ dance moves and put them to shame as you show them what True fashion and color combinations are.I know this game says for kids but, this is easily for any age range and any age will have a blast playing this.8/8'}, {'funny': '', 'posted': 'Posted September 8, 2013.', 'last_edited': '', 'item_id': '227300', 'helpful': '0 of 1 people (0%) found this review helpful', 'recommend': True, 'review': 'For a simple (it's actually not all that simple but it can be!) truck driving Simulator, it is quite a fun and relaxing game. Playing on simple (or easy?) its just the basic WASD keys for driving but (if you want) the game can be much harder and realistic with having to manually change gears, much harder turning, etc. And reversing in this game is a ♥♥♥♥♥, as I imagine it would be with an actual truck. Luckily, you don't have to reverse park it but you get extra points if you do cause it is bloody hard. But this is suprisingly a nice truck driving game and I had a bit of fun with it.'}, {'funny': '', 'posted': 'Posted November 29, 2013.', 'last_edited': '', 'item_id': '239030', 'helpful': '1 of 4 people (25%) found this review helpful', 'recommend': True, 'review': 'Very fun little game to play when your bored or as a time passer. Very gud. Do Recommend. pls buy'}]</td>\n    </tr>\n    <tr>\n      <th>2</th>\n      <td>evcentric</td>\n      <td>http://steamcommunity.com/id/evcentric</td>\n      <td>[{'funny': '', 'posted': 'Posted February 3.', 'last_edited': '', 'item_id': '248820', 'helpful': 'No ratings yet', 'recommend': True, 'review': 'A suitably punishing roguelike platformer.  Winning feels good.  Progressive unlocks mean a good slog ending in failure doesn't feel like a waste.'}, {'funny': '', 'posted': 'Posted December 4, 2015.', 'last_edited': 'Last edited December 5, 2015.', 'item_id': '370360', 'helpful': 'No ratings yet', 'recommend': True, 'review': '\"Run for fun? What the hell kind of fun is that?\"'}, {'funny': '', 'posted': 'Posted November 3, 2014.', 'last_edited': '', 'item_id': '237930', 'helpful': 'No ratings yet', 'recommend': True, 'review': 'Elegant integration of gameplay, story, world development and aesthetic.'}, {'funny': '', 'posted': 'Posted October 15, 2014.', 'last_edited': '', 'item_id': '263360', 'helpful': 'No ratings yet', 'recommend': True, 'review': 'Random drops and random quests, with stat points.  Animation style reminiscent of the era before the Voodoo card.'}, {'funny': '', 'posted': 'Posted October 15, 2014.', 'last_edited': '', 'item_id': '107200', 'helpful': 'No ratings yet', 'recommend': True, 'review': 'Fun balance of tactics and strategy.  Potential for very rewarding battles on smaller maps.  Can become a bit of a grind on larger maps (&gt;200 stars).'}, {'funny': '', 'posted': 'Posted October 15, 2014.', 'last_edited': '', 'item_id': '224500', 'helpful': 'No ratings yet', 'recommend': True, 'review': 'Fun world builder, with plenty of option of how you want challenge served to you.  Gnome pathing sometimes frustrating if you expand very very quickly.'}]</td>\n    </tr>\n    <tr>\n      <th>3</th>\n      <td>doctr</td>\n      <td>http://steamcommunity.com/id/doctr</td>\n      <td>[{'funny': '', 'posted': 'Posted October 14, 2013.', 'last_edited': '', 'item_id': '250320', 'helpful': '2 of 2 people (100%) found this review helpful', 'recommend': True, 'review': 'This game... is so fun. The fight sequences have been improved from walking dead. It also includes more of a Sam and Max puzzle solving (some of it in the first episode) and walking dead. The game also gets even more better if you have read the Fables comic books, which are without a doubt, very good. The music is also superb and fit the scenarios very well.'}, {'funny': '', 'posted': 'Posted July 28, 2012.', 'last_edited': '', 'item_id': '20920', 'helpful': '1 of 1 people (100%) found this review helpful', 'recommend': True, 'review': 'Really Really Really Great Game, very good story, im in chapter 1 atm and i think its great. You get a really early link with characters. No need to play the first game, its nicely wrapped up for you in a five minute video. FYI beware of the sex scenes :P, nudity does happen in the game and it shows you actually having sex, so try not to play with your parents around if your near a point in the story. Also you will need a good rig/comp to play on high. Don't even try running the game on Ultra unless you have mulitiple GPU's (Graphics card) and ram and a good processor. All in all good game :D'}, {'funny': '', 'posted': 'Posted June 2, 2012.', 'last_edited': '', 'item_id': '204100', 'helpful': '1 of 1 people (100%) found this review helpful', 'recommend': True, 'review': 'Just buy it already. Great Story, Great Multiplayer and good fan service. Just awesome game. Just using shootdodge and bullet time makes you feel like a badass. Also, its better if you get the max payne story recapped or replay the first two but its not necessary.'}, {'funny': '', 'posted': 'Posted June 29, 2014.', 'last_edited': '', 'item_id': '224600', 'helpful': '1 of 2 people (50%) found this review helpful', 'recommend': True, 'review': 'It was a great game from what I played, right now I need to find the actual download.'}, {'funny': '', 'posted': 'Posted November 22, 2012.', 'last_edited': '', 'item_id': '207610', 'helpful': 'No ratings yet', 'recommend': True, 'review': 'The ending to this game is.... ♥♥♥♥♥♥♥.... Just buy it, you'll be invested, im automatically preordering season two of the walking dead game.'}, {'funny': '', 'posted': 'Posted February 23, 2012.', 'last_edited': '', 'item_id': '108710', 'helpful': 'No ratings yet', 'recommend': True, 'review': 'Alan wake is a really good game, the light effects are pretty awesome and this game is so good, it paid back remedy their promotion and conversion fees in the first two days on steam. Its awesome :D. Remedy can still make video games, even if its not Max Payne. It is also very character driven.'}]</td>\n    </tr>\n    <tr>\n      <th>4</th>\n      <td>maplemage</td>\n      <td>http://steamcommunity.com/id/maplemage</td>\n      <td>[{'funny': '3 people found this review funny', 'posted': 'Posted April 15, 2014.', 'last_edited': '', 'item_id': '211420', 'helpful': '35 of 43 people (81%) found this review helpful', 'recommend': True, 'review': 'Git gud'}, {'funny': '1 person found this review funny', 'posted': 'Posted December 23, 2013.', 'last_edited': '', 'item_id': '211820', 'helpful': '12 of 16 people (75%) found this review helpful', 'recommend': True, 'review': 'It's like Terraria, you play for 9 hours straight, get endgame armour then stop playing until the next update.'}, {'funny': '2 people found this review funny', 'posted': 'Posted March 14, 2014.', 'last_edited': '', 'item_id': '730', 'helpful': '5 of 5 people (100%) found this review helpful', 'recommend': True, 'review': 'Hold shift to win, Hold CTRL to lose.'}, {'funny': '', 'posted': 'Posted July 11, 2013.', 'last_edited': '', 'item_id': '204300', 'helpful': 'No ratings yet', 'recommend': True, 'review': 'OH YES, THIS GAME IS THE BEST, THEY ADD STUFF LIKE NEW CHARACTERS, AND LIKE A NEW MAP ONCE A YEAR, IT'S SO AWESOME, OH YES, IT'S SO AWESOMENAUTS, YES, YES, I'M GOOD AT THIS, YES, YES, GOOD, I'M GOOD, YES, GOOD, YOU ARE BAD, IM GOOD, YES, TOO GOOD, YES, IM NOT BAD, YES, GOOD.'}]</td>\n    </tr>\n  </tbody>\n</table>\n</div>"
     },
     "metadata": {},
     "output_type": "display_data"
    }
   ],
   "source": [
    "steam_path = './data/'\n",
    "metadata_games = 'steam_games.json.gz' \n",
    "user_items = 'australian_users_items.json.gz'\n",
    "user_reviews = 'australian_user_reviews.json.gz'\n",
    "game_bundles = 'bundle_data.json.gz'\n",
    "steam_reviews= 'steam_reviews.json.gz'\n",
    "\n",
    "# for dataset in [metadata_games, user_items, user_reviews, game_bundles, steam_reviews]:\n",
    "for dataset in [user_reviews]:\n",
    "  print(f\"----- {dataset}-----\")\n",
    "  size = os.path.getsize(steam_path + dataset) \n",
    "  print(f'Size of file is {size / 1000000}MB')\n",
    "  df_metadata = parse_json(steam_path + dataset)\n",
    "  pd.set_option('display.max_colwidth', None)\n",
    "  display(df_metadata.head(5))\n",
    "#   display(df_metadata.describe(include='all'))"
   ]
  },
  {
   "cell_type": "code",
   "execution_count": 9,
   "metadata": {
    "pycharm": {
     "is_executing": false
    }
   },
   "outputs": [
    {
     "name": "stderr",
     "text": [
      "\r0it [00:00, ?it/s]",
      "\r247it [00:00, 2359.64it/s]",
      "\r497it [00:00, 2398.29it/s]",
      "\r818it [00:00, 2590.58it/s]",
      "\r1202it [00:00, 2866.09it/s]",
      "\r1460it [00:00, 2681.25it/s]",
      "\r1758it [00:00, 2758.79it/s]",
      "\r2087it [00:00, 2893.60it/s]",
      "\r2441it [00:00, 3055.18it/s]",
      "\r2741it [00:00, 2623.34it/s]",
      "\r3010it [00:01, 2640.94it/s]",
      "\r3279it [00:01, 2104.05it/s]",
      "\r3510it [00:01, 2032.50it/s]",
      "\r3774it [00:01, 2177.96it/s]",
      "\r4064it [00:01, 2349.62it/s]",
      "\r4313it [00:01, 2196.18it/s]",
      "\r4603it [00:01, 2364.40it/s]",
      "\r4858it [00:01, 2412.18it/s]",
      "\r5142it [00:02, 2521.46it/s]",
      "\r5472it [00:02, 2708.63it/s]",
      "\r5784it [00:02, 2814.61it/s]",
      "\r6073it [00:02, 2450.13it/s]",
      "\r6332it [00:02, 2392.29it/s]",
      "\r6582it [00:02, 2324.30it/s]",
      "\r6822it [00:02, 2130.09it/s]",
      "\r7125it [00:02, 2337.29it/s]",
      "\r7374it [00:02, 2376.19it/s]",
      "\r7621it [00:03, 2347.13it/s]",
      "\r7925it [00:03, 2514.78it/s]",
      "\r8185it [00:03, 2263.70it/s]",
      "\r8426it [00:03, 2300.85it/s]",
      "\r8688it [00:03, 2383.28it/s]",
      "\r9016it [00:03, 2591.75it/s]",
      "\r9285it [00:03, 2282.95it/s]",
      "\r9527it [00:03, 2317.55it/s]",
      "\r9769it [00:03, 2342.36it/s]",
      "\r10068it [00:04, 2500.58it/s]",
      "\r10326it [00:04, 2475.12it/s]",
      "\r10616it [00:04, 2583.85it/s]",
      "\r10934it [00:04, 2732.68it/s]",
      "\r11214it [00:04, 2364.33it/s]",
      "\r11538it [00:04, 2571.67it/s]",
      "\r11904it [00:04, 2818.71it/s]",
      "\r12275it [00:04, 3031.92it/s]",
      "\r12687it [00:04, 3286.88it/s]",
      "\r13101it [00:05, 3497.50it/s]",
      "\r13600it [00:05, 3835.80it/s]",
      "\r14005it [00:05, 3383.82it/s]",
      "\r14368it [00:05, 3342.48it/s]",
      "\r14722it [00:05, 3397.13it/s]",
      "\r15075it [00:05, 3341.23it/s]",
      "\r15418it [00:05, 3027.04it/s]",
      "\r15765it [00:05, 3140.86it/s]",
      "\r16189it [00:05, 3399.07it/s]",
      "\r16628it [00:06, 3639.66it/s]",
      "\r17006it [00:06, 3012.50it/s]",
      "\r17337it [00:06, 3089.63it/s]",
      "\r17666it [00:06, 2804.18it/s]",
      "\r17966it [00:06, 2625.99it/s]",
      "\r18245it [00:06, 2626.00it/s]",
      "\r18640it [00:06, 2914.62it/s]",
      "\r18950it [00:06, 2928.48it/s]",
      "\r19264it [00:06, 2982.66it/s]",
      "\r19572it [00:07, 2700.88it/s]",
      "\r19854it [00:07, 2099.00it/s]",
      "\r20000it [00:07, 2650.86it/s]",
      "\n"
     ],
     "output_type": "stream"
    },
    {
     "name": "stdout",
     "text": [
      "Break reading after 20000 records\nReading 20001 rows.\n"
     ],
     "output_type": "stream"
    }
   ],
   "source": [
    "steam_reviews_df = parse_json(steam_path + steam_reviews, read_max=20000)\n",
    "steam_reviews_df = steam_reviews_df[['user_id', 'product_id', 'recommended']]"
   ]
  },
  {
   "cell_type": "code",
   "execution_count": 10,
   "metadata": {
    "pycharm": {
     "is_executing": false
    }
   },
   "outputs": [],
   "source": [
    "steam_reviews_df_cleaned = steam_reviews_df.dropna(axis=0, subset=['user_id'])"
   ]
  },
  {
   "cell_type": "code",
   "execution_count": 11,
   "metadata": {
    "pycharm": {
     "is_executing": false
    }
   },
   "outputs": [
    {
     "name": "stderr",
     "text": [
      "\r0it [00:00, ?it/s]",
      "\r120it [00:00, 1191.43it/s]",
      "\r265it [00:00, 1256.38it/s]",
      "\r355it [00:00, 984.31it/s] ",
      "\r495it [00:00, 1076.26it/s]",
      "\r624it [00:00, 1130.37it/s]",
      "\r765it [00:00, 1200.32it/s]",
      "\r878it [00:00, 1020.23it/s]",
      "\r980it [00:00, 1002.94it/s]",
      "\r1109it [00:00, 1072.72it/s]",
      "\r1239it [00:01, 1129.95it/s]",
      "\r1434it [00:01, 1291.21it/s]",
      "\r1580it [00:01, 1320.41it/s]",
      "\r1727it [00:01, 1359.30it/s]",
      "\r1937it [00:01, 1517.75it/s]",
      "\r2182it [00:01, 1710.71it/s]",
      "\r2368it [00:01, 1369.52it/s]",
      "\r2527it [00:01, 1400.26it/s]",
      "\r2716it [00:02, 1515.65it/s]",
      "\r2895it [00:02, 1585.47it/s]",
      "\r3064it [00:02, 1216.41it/s]",
      "\r3206it [00:02, 990.58it/s] ",
      "\r3326it [00:02, 893.33it/s]",
      "\r3432it [00:02, 857.45it/s]",
      "\r3530it [00:02, 834.71it/s]",
      "\r3622it [00:03, 852.09it/s]",
      "\r3714it [00:03, 834.17it/s]",
      "\r3802it [00:03, 817.45it/s]",
      "\r3917it [00:03, 893.51it/s]",
      "\r4031it [00:03, 953.74it/s]",
      "\r4133it [00:03, 970.67it/s]",
      "\r4234it [00:03, 858.52it/s]",
      "\r4337it [00:03, 903.58it/s]",
      "\r4485it [00:03, 1021.93it/s]",
      "\r4688it [00:04, 1198.92it/s]",
      "\r5094it [00:04, 1520.07it/s]",
      "\r5420it [00:04, 1779.26it/s]",
      "\r5706it [00:04, 2003.66it/s]",
      "\r6006it [00:04, 2221.77it/s]",
      "\r6305it [00:04, 2402.89it/s]",
      "\r6581it [00:04, 2114.45it/s]",
      "\r6838it [00:04, 2228.72it/s]",
      "\r7101it [00:04, 2333.77it/s]",
      "\r7382it [00:05, 2456.31it/s]",
      "\r7642it [00:05, 2066.09it/s]",
      "\r7870it [00:05, 2086.75it/s]",
      "\r8150it [00:05, 2255.19it/s]",
      "\r8437it [00:05, 2405.88it/s]",
      "\r8691it [00:05, 1969.83it/s]",
      "\r8910it [00:05, 1953.81it/s]",
      "\r9121it [00:05, 1934.10it/s]",
      "\r9326it [00:06, 1857.00it/s]",
      "\r9520it [00:06, 1276.78it/s]",
      "\r9719it [00:06, 1428.35it/s]",
      "\r9889it [00:06, 1354.59it/s]",
      "\r10055it [00:06, 1427.26it/s]",
      "\r10247it [00:06, 1543.58it/s]",
      "\r10456it [00:06, 1672.04it/s]",
      "\r10653it [00:06, 1748.07it/s]",
      "\r10898it [00:07, 1909.21it/s]",
      "\r11101it [00:07, 1939.81it/s]",
      "\r11303it [00:07, 1672.66it/s]",
      "\r11483it [00:07, 1707.90it/s]",
      "\r11719it [00:07, 1861.12it/s]",
      "\r11971it [00:07, 2015.79it/s]",
      "\r12184it [00:07, 1848.27it/s]",
      "\r12422it [00:07, 1977.43it/s]",
      "\r12639it [00:07, 2027.29it/s]",
      "\r12849it [00:08, 2044.19it/s]",
      "\r13059it [00:08, 1859.99it/s]",
      "\r13282it [00:08, 1953.65it/s]",
      "\r13493it [00:08, 1988.30it/s]",
      "\r13725it [00:08, 2073.39it/s]",
      "\r13966it [00:08, 2160.19it/s]",
      "\r14224it [00:08, 2266.43it/s]",
      "\r14455it [00:08, 1983.87it/s]",
      "\r14773it [00:08, 2236.04it/s]",
      "\r15081it [00:09, 2431.70it/s]",
      "\r15374it [00:09, 2560.52it/s]",
      "\r15644it [00:09, 2260.38it/s]",
      "\r15887it [00:09, 2287.54it/s]",
      "\r16177it [00:09, 2437.77it/s]",
      "\r16432it [00:09, 2409.41it/s]",
      "\r16681it [00:09, 2372.48it/s]",
      "\r16924it [00:09, 2349.71it/s]",
      "\r17212it [00:09, 2482.47it/s]",
      "\r17465it [00:10, 2307.61it/s]",
      "\r17702it [00:10, 2204.67it/s]",
      "\r17928it [00:10, 1812.15it/s]",
      "\r18125it [00:10, 1731.16it/s]",
      "\r18384it [00:10, 1919.22it/s]",
      "\r18591it [00:10, 1783.73it/s]",
      "\r18829it [00:10, 1927.98it/s]",
      "\r19090it [00:10, 2090.68it/s]",
      "\r19312it [00:11, 2033.05it/s]",
      "\r19548it [00:11, 2119.74it/s]",
      "\r19769it [00:11, 2141.38it/s]",
      "\r20040it [00:11, 2281.00it/s]",
      "\r20275it [00:11, 2218.51it/s]",
      "\r20502it [00:11, 1796.18it/s]",
      "\r20704it [00:11, 1854.18it/s]",
      "\r20902it [00:11, 1700.90it/s]",
      "\r21083it [00:11, 1692.21it/s]",
      "\r21417it [00:12, 1983.36it/s]",
      "\r21710it [00:12, 2192.62it/s]",
      "\r21954it [00:12, 2031.89it/s]",
      "\r22277it [00:12, 2284.84it/s]",
      "\r22624it [00:12, 2541.60it/s]",
      "\r22904it [00:12, 2283.94it/s]",
      "\r23156it [00:12, 2104.88it/s]",
      "\r23435it [00:12, 2268.16it/s]",
      "\r23732it [00:13, 2413.15it/s]",
      "\r23988it [00:13, 1934.83it/s]",
      "\r24207it [00:13, 1982.55it/s]",
      "\r24435it [00:13, 2061.23it/s]",
      "\r24750it [00:13, 2296.73it/s]",
      "\r25327it [00:13, 2802.81it/s]",
      "\r25799it [00:13, 1887.35it/s]",
      "\n"
     ],
     "output_type": "stream"
    },
    {
     "name": "stdout",
     "text": [
      "Reading 25799 rows.\n"
     ],
     "output_type": "stream"
    }
   ],
   "source": [
    "user_reviews_df = parse_json(steam_path + user_reviews)\n",
    "user_reviews_df = user_reviews_df.drop_duplicates(subset='user_id')"
   ]
  },
  {
   "cell_type": "code",
   "execution_count": 12,
   "metadata": {
    "pycharm": {
     "is_executing": false
    }
   },
   "outputs": [],
   "source": [
    "user_reviews_df_exploded = user_reviews_df.explode('reviews')\n",
    "user_reviews_df_exploded = user_reviews_df_exploded.dropna()"
   ]
  },
  {
   "cell_type": "code",
   "execution_count": 13,
   "metadata": {
    "pycharm": {
     "is_executing": false
    }
   },
   "outputs": [],
   "source": [
    "def func(x):\n",
    "    return x['recommend'], x[\"item_id\"]\n",
    "\n",
    "user_reviews_df_exploded['recommended'], user_reviews_df_exploded[\"item_id\"] = zip(\n",
    "    *user_reviews_df_exploded['reviews'].map(func)\n",
    ")"
   ]
  },
  {
   "cell_type": "code",
   "execution_count": 14,
   "metadata": {
    "pycharm": {
     "is_executing": false
    }
   },
   "outputs": [],
   "source": [
    "user_reviews_df_exploded.reset_index()\n",
    "\n",
    "\n",
    "user_reviews_df_exploded = user_reviews_df_exploded[['user_id', 'item_id', 'recommended']]"
   ]
  },
  {
   "cell_type": "code",
   "execution_count": 15,
   "metadata": {
    "pycharm": {
     "is_executing": false
    }
   },
   "outputs": [
    {
     "data": {
      "text/plain": "24                         [False, True]\n26       [True, True, True, False, True]\n36                         [True, False]\n60             [False, True, True, True]\n71                         [False, True]\n                      ...               \n25758    [True, True, True, False, True]\n25761                      [False, True]\n25764                [True, True, False]\n25768    [True, True, False, True, True]\n25785                [True, True, False]\nLength: 3684, dtype: object"
     },
     "metadata": {},
     "output_type": "execute_result",
     "execution_count": 15
    }
   ],
   "source": [
    "enkeltrue = user_reviews_df[['reviews']].apply(lambda x: [elem['recommend'] for elem in x['reviews']], axis=1)\n",
    "enkeltrue.loc[enkeltrue.map(set).map(len) > 1]"
   ]
  },
  {
   "cell_type": "code",
   "execution_count": 16,
   "metadata": {
    "pycharm": {
     "is_executing": false
    }
   },
   "outputs": [
    {
     "name": "stderr",
     "text": [
      "\r  0%|          | 0/58430 [00:00<?, ?it/s]",
      "\r 15%|█▌        | 8998/58430 [00:00<00:00, 89326.69it/s]",
      "\r 31%|███       | 18203/58430 [00:00<00:00, 90119.00it/s]",
      "\r 41%|████▏     | 24214/58430 [00:00<00:00, 78285.40it/s]",
      "\r 53%|█████▎    | 31111/58430 [00:00<00:00, 75057.14it/s]",
      "\r 65%|██████▌   | 38111/58430 [00:00<00:00, 73294.86it/s]",
      "\r 82%|████████▏ | 47836/58430 [00:00<00:00, 79005.42it/s]",
      "\r100%|██████████| 58430/58430 [00:00<00:00, 73849.72it/s]",
      "\n"
     ],
     "output_type": "stream"
    },
    {
     "data": {
      "text/plain": "user_id        object\nitem_id        object\nrecommended      bool\nitem_id_int     int64\ndtype: object"
     },
     "metadata": {},
     "output_type": "execute_result",
     "execution_count": 16
    }
   ],
   "source": [
    "dct = {}\n",
    "def map_to_consecutive_id(uuid):\n",
    "  if uuid in dct:\n",
    "    return dct[uuid]\n",
    "  else:\n",
    "    id = len(dct)\n",
    "    dct[uuid] = id\n",
    "    return id\n",
    "user_reviews_df_exploded['item_id_int'] = user_reviews_df_exploded['item_id'].progress_apply(map_to_consecutive_id)\n",
    "user_reviews_df_exploded.dtypes"
   ]
  },
  {
   "cell_type": "code",
   "execution_count": 31,
   "metadata": {
    "pycharm": {
     "is_executing": false
    }
   },
   "outputs": [
    {
     "name": "stderr",
     "text": [
      "\r  0%|          | 0/58430 [00:00<?, ?it/s]",
      "\r 41%|████      | 23837/58430 [00:00<00:00, 236713.80it/s]",
      "\r 96%|█████████▌| 55899/58430 [00:00<00:00, 256697.44it/s]",
      "\r100%|██████████| 58430/58430 [00:00<00:00, 246148.11it/s]",
      "\n"
     ],
     "output_type": "stream"
    }
   ],
   "source": [
    "dct = {}\n",
    "user_reviews_df_exploded['user_id_int'] = user_reviews_df_exploded['user_id'].progress_apply(map_to_consecutive_id)\n",
    "from sklearn.model_selection import train_test_split\n",
    "train_df, test_df = train_test_split(user_reviews_df_exploded, test_size=0.2)\n",
    "\n",
    "\n",
    "\n",
    "test_df_grouped = test_df.groupby('user_id_int').agg(list)\n",
    "test_df_grouped = test_df_grouped.reset_index()\n",
    "\n",
    "train_df_grouped = train_df.groupby('user_id_int').agg(list)\n",
    "train_df_grouped = train_df_grouped.reset_index()\n"
   ]
  },
  {
   "cell_type": "code",
   "execution_count": 32,
   "metadata": {
    "pycharm": {
     "is_executing": false
    }
   },
   "outputs": [
    {
     "name": "stdout",
     "text": [
      "11686\n",
      "46744\n"
     ],
     "output_type": "stream"
    },
    {
     "data": {
      "text/plain": "<25457x3682 sparse matrix of type '<class 'numpy.intc'>'\n\twith 46744 stored elements in Compressed Sparse Row format>"
     },
     "metadata": {},
     "output_type": "execute_result",
     "execution_count": 32
    }
   ],
   "source": [
    "#Create scipy csr matrix\n",
    "def get_sparse_matrix(df):\n",
    "    shape = (user_reviews_df_exploded['user_id_int'].max() + 1, user_reviews_df_exploded['item_id_int'].max() + 1)\n",
    "    \n",
    "    user_ids = []\n",
    "    item_ids = []\n",
    "    values = []\n",
    "    for idx, row in df.iterrows():\n",
    "        items = row['item_id_int']\n",
    "        user = row['user_id_int']\n",
    "    \n",
    "        recommended = row['recommended']\n",
    "        user_ids.extend([user] * len(items))\n",
    "        item_ids.extend(items)\n",
    "        values.extend([2 if recommended[i] else 1 for i in range(len(items))])\n",
    "    #create csr matrix\n",
    "    # values = np.ones(len(user_ids))\n",
    "    matrix = scipy.sparse.csr_matrix((values, (user_ids, item_ids)), shape=shape, dtype=np.int32)\n",
    "    return matrix\n",
    "\n",
    "\n"
   ]
  },
  {
   "cell_type": "code",
   "execution_count": null,
   "metadata": {
    "pycharm": {
     "is_executing": false
    }
   },
   "outputs": [],
   "source": [
    "test_matrix = get_sparse_matrix(test_df_grouped)\n",
    "\n",
    "train_matrix = get_sparse_matrix(train_df_grouped)\n",
    "train_matrix\n"
   ]
  },
  {
   "cell_type": "code",
   "execution_count": null,
   "metadata": {
    "pycharm": {
     "is_executing": false
    }
   },
   "outputs": [],
   "source": [
    "print('-------')\n",
    "n_vis = shape[1]\n",
    "n_hidden = 12\n",
    "batch_size = 128\n",
    "\n",
    "rbm = RBM(n_vis, n_hidden)\n",
    "\n",
    "# https://stackoverflow.com/questions/40896157/scipy-sparse-csr-matrix-to-tensorflow-sparsetensor-mini-batch-gradient-descent\n",
    "def convert_sparse_matrix_to_sparse_tensor(X):\n",
    "    # for userid in range(len(X.indptr) - 1):\n",
    "    #     row = X[userid]\n",
    "    #     for i in range(len(row.data)):\n",
    "    #         value = row.data[i]\n",
    "    #         item = row.indices[i]\n",
    "    #         if value > 1:\n",
    "    #             print(value, item, userid)\n",
    "\n",
    "    coo = X.tocoo()\n",
    "\n",
    "    values = coo.data\n",
    "    indices = np.vstack((coo.row, coo.col))\n",
    "\n",
    "    i = torch.LongTensor(indices)\n",
    "    v = torch.FloatTensor(values)\n",
    "    # print(values)\n",
    "    # print(\"values\", v)\n",
    "    shape = coo.shape\n",
    "\n",
    "    return torch.sparse.FloatTensor(i, v, torch.Size(shape))\n",
    "\n",
    "for epoch in range(5):\n",
    "    for user_id in range(0, shape[0] - batch_size, batch_size):\n",
    "        training_sample = train_matrix[user_id : user_id + batch_size]\n",
    "        training_sample2 = train_matrix[user_id : user_id + batch_size]\n",
    "        # print(training_sample)\n",
    "        v0 = convert_sparse_matrix_to_sparse_tensor(training_sample)\n",
    "        # print(v0.coalesce().indices())\n",
    "        vk = convert_sparse_matrix_to_sparse_tensor(training_sample2)\n",
    "\n",
    "        v0 = v0.to_dense()\n",
    "        vk = vk.to_dense()\n",
    "        v0 = v0.sub(1)\n",
    "        vk = vk.sub(1)\n",
    "        # for row, sublist in enumerate(v0list):\n",
    "        #     for col, elem in enumerate(sublist):\n",
    "        #         if elem > 1:\n",
    "        #             print(row, col, elem)\n",
    "        ph0, _ = rbm.sample_h(v0)   \n",
    "\n",
    "        # Third for loop - perform contrastive divergence\n",
    "        for k in range(10):\n",
    "            _, hk = rbm.sample_h(vk)\n",
    "            _, vk = rbm.sample_v(hk)\n",
    "\n",
    "            # Convert vk to sparse tensor\n",
    "            # vk_sparse = vk.to_sparse()\n",
    "            # print(\"vk\", vk)\n",
    "            # print(\"vk sparse\", vk_sparse)\n",
    "            # print(\"vk sparse values\", vk_sparse.numpy())\n",
    "\n",
    "            # print('v0 sparse', v0)\n",
    "            # print(\"iteration\", k)\n",
    "            # print(vk.shape)\n",
    "            # print(vk.numpy()[0])\n",
    "\n",
    "            for row, sublist in enumerate(vk.tolist()):\n",
    "                for col, elem in enumerate(sublist):\n",
    "                    if elem > 1:\n",
    "                        print(row, col, elem)\n",
    "\n",
    "            # We don't want to learn when there is no rating by the user, and there is no update when rating = -1\n",
    "            # Remove indices from vk vector that are not in the v0 vector => get sparse tensor again\n",
    "            vk[v0 < 0] = v0[v0 < 0]\n",
    "            vksparse = vk.to_sparse()\n",
    "            # print(\"v0\", v0)\n",
    "            print(\"v0\", v0.add(1).to_sparse())\n",
    "            print(\"vk\", vk.add(1).to_sparse())\n",
    "            break\n",
    "            # print(k)\n",
    "\n",
    "        phk, _ = rbm.sample_h(vk)\n",
    "\n",
    "        # print((torch.mm(v0.t(), ph0) - torch.mm(vk.t(), phk)).t().shape)\n",
    "        # print(torch.sum((-vk + v0), 0).shape)\n",
    "        # print(torch.sum((ph0 - phk), 0).shape)\n",
    "        break\n",
    "    break"
   ]
  }
 ],
 "metadata": {
  "interpreter": {
   "hash": "217547bed935db835ab8ee75368a6e3b4fa2f4141d63447ea52f48769f3995fc"
  },
  "kernelspec": {
   "name": "pycharm-dea5454d",
   "language": "python",
   "display_name": "PyCharm (ai-project)"
  },
  "language_info": {
   "codemirror_mode": {
    "name": "ipython",
    "version": 3
   },
   "file_extension": ".py",
   "mimetype": "text/x-python",
   "name": "python",
   "nbconvert_exporter": "python",
   "pygments_lexer": "ipython3",
   "version": "3.8.10"
  },
  "orig_nbformat": 4,
  "pycharm": {
   "stem_cell": {
    "cell_type": "raw",
    "source": [],
    "metadata": {
     "collapsed": false
    }
   }
  }
 },
 "nbformat": 4,
 "nbformat_minor": 2
}