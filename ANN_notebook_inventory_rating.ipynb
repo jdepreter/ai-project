{
 "cells": [
  {
   "cell_type": "markdown",
   "metadata": {},
   "source": [
    "# Restricted Boltzmann Machine Defintion"
   ]
  },
  {
   "cell_type": "code",
   "execution_count": 1,
   "metadata": {
    "pycharm": {
     "is_executing": false
    }
   },
   "outputs": [],
   "source": [
    "# TODO g = 1 + ap of g = ap"
   ]
  },
  {
   "cell_type": "code",
   "execution_count": 2,
   "metadata": {
    "pycharm": {
     "is_executing": false
    }
   },
   "outputs": [],
   "source": [
    "# Import PyTorch library\n",
    "import torch\n",
    "import torch.nn as nn\n",
    "import torch.nn.functional as F\n",
    "from torch import nn, flatten, device\n",
    "from tqdm import tqdm, trange"
   ]
  },
  {
   "cell_type": "code",
   "execution_count": 3,
   "metadata": {},
   "outputs": [],
   "source": [
    "import gc\n",
    "\n",
    "gc.collect()\n",
    "\n",
    "torch.cuda.empty_cache()"
   ]
  },
  {
   "cell_type": "code",
   "execution_count": 4,
   "metadata": {
    "pycharm": {
     "is_executing": false
    }
   },
   "outputs": [],
   "source": [
    "# https://github.com/khanhnamle1994/MetaRec/blob/b5e36cb579a88b32cdfb728f35f645d76b24ad95/Boltzmann-Machines-Experiments/RBM-CF-PyTorch/rbm.py#L23\n",
    "# Create the Restricted Boltzmann Machine architecture\n",
    "class network(nn.Module):\n",
    "    def __init__(self, x ):\n",
    "        super().__init__()\n",
    "        \n",
    "    #use 4 layers and fc layer\n",
    "\n",
    "        self.dropout = nn.Dropout(0.25)\n",
    "        if torch.cuda.is_available():\n",
    "            self.device = device(\"cuda\")\n",
    "\n",
    "        self.conv1 = nn.Linear(x, 20).to(self.device)\n",
    "        self.conv2 = nn.Linear(20, 50).to(self.device)\n",
    "        self.conv3 = nn.Linear(50, 20).to(self.device)\n",
    "        self.fc = nn.Linear(20, x).to(self.device)\n",
    "\n",
    "    def forward(self, x):\n",
    "        if torch.cuda.is_available():\n",
    "            x = x.to(self.device)\n",
    "\n",
    "        x = F.relu(self.conv1(x))\n",
    "\n",
    "        # x = F.max_pool1d(x, 2)\n",
    "        x = F.relu(self.conv2(x))\n",
    "        x = F.relu(self.conv3(x))\n",
    "        # x = flatten(x, 1)\n",
    "\n",
    "        x = self.dropout(x)\n",
    "        output = self.fc(x)\n",
    "        # output = F.softmax(x, dim=1)\n",
    "        return output\n",
    "    "
   ]
  },
  {
   "cell_type": "code",
   "execution_count": 5,
   "metadata": {
    "pycharm": {
     "is_executing": false
    }
   },
   "outputs": [],
   "source": [
    "cuda = torch.device('cuda')"
   ]
  },
  {
   "cell_type": "markdown",
   "metadata": {},
   "source": [
    "# General Imports"
   ]
  },
  {
   "cell_type": "code",
   "execution_count": 6,
   "metadata": {
    "pycharm": {
     "is_executing": false
    }
   },
   "outputs": [],
   "source": [
    "import numpy as np\n",
    "import pickle as pickle\n",
    "import pandas as pd\n",
    "import scipy\n",
    "import sklearn\n",
    "import gzip\n",
    "import json\n",
    "from tqdm import tqdm\n",
    "import os\n",
    "from collections import Counter\n",
    "from datetime import datetime\n",
    "import math\n",
    "tqdm.pandas() #for progres_apply etc."
   ]
  },
  {
   "cell_type": "markdown",
   "metadata": {},
   "source": [
    "# Reading"
   ]
  },
  {
   "cell_type": "code",
   "execution_count": 7,
   "metadata": {},
   "outputs": [],
   "source": [
    "def load_interactions(path, n_splits=5):\n",
    "    df = pd.read_pickle(os.path.join(os.getcwd(), path))\n",
    "    df[['interactions', 'train', 'val', 'test']] = df[['interactions', 'train', 'val', 'test']].applymap(lambda x: np.array(x, dtype=np.int32))\n",
    "    interactions_dict = {}\n",
    "    for split in trange(n_splits):\n",
    "        for column in ['train', 'val', 'test']:\n",
    "            interactions_dict[split, column] = pd.DataFrame({\n",
    "                'user_id': df['user_id'],\n",
    "                'steam_id': df['steam_id'],\n",
    "                'item_id': df[column].apply(lambda x: x[split, 0]),\n",
    "                'playtime_forever': df[column].apply(lambda x: x[split, 1]),\n",
    "                'playtime_2weeks': df[column].apply(lambda x: x[split, 2])})\n",
    "    return interactions_dict"
   ]
  },
  {
   "cell_type": "code",
   "execution_count": 8,
   "metadata": {},
   "outputs": [
    {
     "name": "stderr",
     "output_type": "stream",
     "text": [
      "100%|██████████| 5/5 [00:00<00:00,  7.10it/s]\n"
     ]
    },
    {
     "data": {
      "text/html": [
       "<div>\n",
       "<style scoped>\n",
       "    .dataframe tbody tr th:only-of-type {\n",
       "        vertical-align: middle;\n",
       "    }\n",
       "\n",
       "    .dataframe tbody tr th {\n",
       "        vertical-align: top;\n",
       "    }\n",
       "\n",
       "    .dataframe thead th {\n",
       "        text-align: right;\n",
       "    }\n",
       "</style>\n",
       "<table border=\"1\" class=\"dataframe\">\n",
       "  <thead>\n",
       "    <tr style=\"text-align: right;\">\n",
       "      <th></th>\n",
       "      <th>publisher</th>\n",
       "      <th>genres</th>\n",
       "      <th>app_name</th>\n",
       "      <th>title</th>\n",
       "      <th>url</th>\n",
       "      <th>release_date</th>\n",
       "      <th>tags</th>\n",
       "      <th>discount_price</th>\n",
       "      <th>reviews_url</th>\n",
       "      <th>specs</th>\n",
       "      <th>price</th>\n",
       "      <th>early_access</th>\n",
       "      <th>id</th>\n",
       "      <th>developer</th>\n",
       "      <th>sentiment</th>\n",
       "      <th>metascore</th>\n",
       "      <th>users_count</th>\n",
       "    </tr>\n",
       "  </thead>\n",
       "  <tbody>\n",
       "    <tr>\n",
       "      <th>0</th>\n",
       "      <td>Valve</td>\n",
       "      <td>[Action]</td>\n",
       "      <td>Counter-Strike: Global Offensive</td>\n",
       "      <td>Counter-Strike: Global Offensive</td>\n",
       "      <td>http://store.steampowered.com/app/730/CounterS...</td>\n",
       "      <td>2012-08-21</td>\n",
       "      <td>[FPS, Multiplayer, Shooter, Action, Team-Based...</td>\n",
       "      <td>NaN</td>\n",
       "      <td>http://steamcommunity.com/app/730/reviews/?bro...</td>\n",
       "      <td>[Multi-player, Steam Achievements, Full contro...</td>\n",
       "      <td>14.99</td>\n",
       "      <td>False</td>\n",
       "      <td>730</td>\n",
       "      <td>Valve</td>\n",
       "      <td>Very Positive</td>\n",
       "      <td>83</td>\n",
       "      <td>42618</td>\n",
       "    </tr>\n",
       "    <tr>\n",
       "      <th>1</th>\n",
       "      <td>Valve</td>\n",
       "      <td>[Indie, Simulation]</td>\n",
       "      <td>Garry's Mod</td>\n",
       "      <td>Garry's Mod</td>\n",
       "      <td>http://store.steampowered.com/app/4000/Garrys_...</td>\n",
       "      <td>2006-11-29</td>\n",
       "      <td>[Sandbox, Multiplayer, Funny, Moddable, Buildi...</td>\n",
       "      <td>NaN</td>\n",
       "      <td>http://steamcommunity.com/app/4000/reviews/?br...</td>\n",
       "      <td>[Single-player, Multi-player, Co-op, Cross-Pla...</td>\n",
       "      <td>9.99</td>\n",
       "      <td>False</td>\n",
       "      <td>4000</td>\n",
       "      <td>Facepunch Studios</td>\n",
       "      <td>Overwhelmingly Positive</td>\n",
       "      <td>NA</td>\n",
       "      <td>42156</td>\n",
       "    </tr>\n",
       "    <tr>\n",
       "      <th>2</th>\n",
       "      <td>Smartly Dressed Games</td>\n",
       "      <td>[Action, Adventure, Casual, Free to Play, Indie]</td>\n",
       "      <td>Unturned</td>\n",
       "      <td>Unturned</td>\n",
       "      <td>http://store.steampowered.com/app/304930/Untur...</td>\n",
       "      <td>2017-07-07</td>\n",
       "      <td>[Free to Play, Survival, Zombies, Multiplayer,...</td>\n",
       "      <td>NaN</td>\n",
       "      <td>http://steamcommunity.com/app/304930/reviews/?...</td>\n",
       "      <td>[Single-player, Online Multi-Player, Online Co...</td>\n",
       "      <td>Free to Play</td>\n",
       "      <td>False</td>\n",
       "      <td>304930</td>\n",
       "      <td>Smartly Dressed Games</td>\n",
       "      <td>Very Positive</td>\n",
       "      <td>NaN</td>\n",
       "      <td>37654</td>\n",
       "    </tr>\n",
       "    <tr>\n",
       "      <th>3</th>\n",
       "      <td>Valve</td>\n",
       "      <td>[Action]</td>\n",
       "      <td>Left 4 Dead 2</td>\n",
       "      <td>Left 4 Dead 2</td>\n",
       "      <td>http://store.steampowered.com/app/550/Left_4_D...</td>\n",
       "      <td>2009-11-16</td>\n",
       "      <td>[Zombies, Co-op, FPS, Multiplayer, Action, Onl...</td>\n",
       "      <td>NaN</td>\n",
       "      <td>http://steamcommunity.com/app/550/reviews/?bro...</td>\n",
       "      <td>[Single-player, Multi-player, Co-op, Steam Ach...</td>\n",
       "      <td>19.99</td>\n",
       "      <td>False</td>\n",
       "      <td>550</td>\n",
       "      <td>Valve</td>\n",
       "      <td>Overwhelmingly Positive</td>\n",
       "      <td>89</td>\n",
       "      <td>35986</td>\n",
       "    </tr>\n",
       "    <tr>\n",
       "      <th>4</th>\n",
       "      <td>Re-Logic</td>\n",
       "      <td>[Action, Adventure, Indie, RPG]</td>\n",
       "      <td>Terraria</td>\n",
       "      <td>Terraria</td>\n",
       "      <td>http://store.steampowered.com/app/105600/Terra...</td>\n",
       "      <td>2011-05-16</td>\n",
       "      <td>[Sandbox, Adventure, Survival, 2D, Multiplayer...</td>\n",
       "      <td>NaN</td>\n",
       "      <td>http://steamcommunity.com/app/105600/reviews/?...</td>\n",
       "      <td>[Single-player, Multi-player, Online Multi-Pla...</td>\n",
       "      <td>9.99</td>\n",
       "      <td>False</td>\n",
       "      <td>105600</td>\n",
       "      <td>Re-Logic</td>\n",
       "      <td>Overwhelmingly Positive</td>\n",
       "      <td>83</td>\n",
       "      <td>28551</td>\n",
       "    </tr>\n",
       "  </tbody>\n",
       "</table>\n",
       "</div>"
      ],
      "text/plain": [
       "               publisher                                            genres  \\\n",
       "0                  Valve                                          [Action]   \n",
       "1                  Valve                               [Indie, Simulation]   \n",
       "2  Smartly Dressed Games  [Action, Adventure, Casual, Free to Play, Indie]   \n",
       "3                  Valve                                          [Action]   \n",
       "4               Re-Logic                   [Action, Adventure, Indie, RPG]   \n",
       "\n",
       "                           app_name                             title  \\\n",
       "0  Counter-Strike: Global Offensive  Counter-Strike: Global Offensive   \n",
       "1                       Garry's Mod                       Garry's Mod   \n",
       "2                          Unturned                          Unturned   \n",
       "3                     Left 4 Dead 2                     Left 4 Dead 2   \n",
       "4                          Terraria                          Terraria   \n",
       "\n",
       "                                                 url release_date  \\\n",
       "0  http://store.steampowered.com/app/730/CounterS...   2012-08-21   \n",
       "1  http://store.steampowered.com/app/4000/Garrys_...   2006-11-29   \n",
       "2  http://store.steampowered.com/app/304930/Untur...   2017-07-07   \n",
       "3  http://store.steampowered.com/app/550/Left_4_D...   2009-11-16   \n",
       "4  http://store.steampowered.com/app/105600/Terra...   2011-05-16   \n",
       "\n",
       "                                                tags  discount_price  \\\n",
       "0  [FPS, Multiplayer, Shooter, Action, Team-Based...             NaN   \n",
       "1  [Sandbox, Multiplayer, Funny, Moddable, Buildi...             NaN   \n",
       "2  [Free to Play, Survival, Zombies, Multiplayer,...             NaN   \n",
       "3  [Zombies, Co-op, FPS, Multiplayer, Action, Onl...             NaN   \n",
       "4  [Sandbox, Adventure, Survival, 2D, Multiplayer...             NaN   \n",
       "\n",
       "                                         reviews_url  \\\n",
       "0  http://steamcommunity.com/app/730/reviews/?bro...   \n",
       "1  http://steamcommunity.com/app/4000/reviews/?br...   \n",
       "2  http://steamcommunity.com/app/304930/reviews/?...   \n",
       "3  http://steamcommunity.com/app/550/reviews/?bro...   \n",
       "4  http://steamcommunity.com/app/105600/reviews/?...   \n",
       "\n",
       "                                               specs         price  \\\n",
       "0  [Multi-player, Steam Achievements, Full contro...         14.99   \n",
       "1  [Single-player, Multi-player, Co-op, Cross-Pla...          9.99   \n",
       "2  [Single-player, Online Multi-Player, Online Co...  Free to Play   \n",
       "3  [Single-player, Multi-player, Co-op, Steam Ach...         19.99   \n",
       "4  [Single-player, Multi-player, Online Multi-Pla...          9.99   \n",
       "\n",
       "   early_access      id              developer                sentiment  \\\n",
       "0         False     730                  Valve            Very Positive   \n",
       "1         False    4000      Facepunch Studios  Overwhelmingly Positive   \n",
       "2         False  304930  Smartly Dressed Games            Very Positive   \n",
       "3         False     550                  Valve  Overwhelmingly Positive   \n",
       "4         False  105600               Re-Logic  Overwhelmingly Positive   \n",
       "\n",
       "  metascore  users_count  \n",
       "0        83        42618  \n",
       "1        NA        42156  \n",
       "2       NaN        37654  \n",
       "3        89        35986  \n",
       "4        83        28551  "
      ]
     },
     "execution_count": 8,
     "metadata": {},
     "output_type": "execute_result"
    }
   ],
   "source": [
    "interactions = load_interactions(\"./data-cleaned/interactions_splits.pkl.gz\")\n",
    "interactions[0, 'train'].head()\n",
    "games = pd.read_pickle(os.path.join(os.getcwd(), \"./data-cleaned/games.pkl.gz\"))\n",
    "games.head()"
   ]
  },
  {
   "cell_type": "code",
   "execution_count": 9,
   "metadata": {},
   "outputs": [],
   "source": [
    "train0 = interactions[0, 'train']\n",
    "test0 = interactions[0, 'test']"
   ]
  },
  {
   "cell_type": "code",
   "execution_count": 10,
   "metadata": {
    "pycharm": {
     "is_executing": false
    }
   },
   "outputs": [
    {
     "data": {
      "text/plain": [
       "count    62970.000000\n",
       "mean        34.222106\n",
       "std         45.688536\n",
       "min          1.000000\n",
       "25%          9.000000\n",
       "50%         21.000000\n",
       "75%         42.000000\n",
       "max        713.000000\n",
       "Name: item_id, dtype: float64"
      ]
     },
     "execution_count": 10,
     "metadata": {},
     "output_type": "execute_result"
    }
   ],
   "source": [
    "train0[\"item_id\"].map(len).describe()"
   ]
  },
  {
   "cell_type": "code",
   "execution_count": 11,
   "metadata": {
    "pycharm": {
     "is_executing": false
    }
   },
   "outputs": [
    {
     "data": {
      "text/plain": [
       "user_id                                                        fobbsy\n",
       "steam_id                                            76561198014263581\n",
       "item_id             [398, 1403, 1738, 1530, 238, 878, 37, 944, 428...\n",
       "playtime_forever    [0, 0, 0, 0, 0, 0, 0, 0, 0, 0, 0, 0, 0, 0, 0, ...\n",
       "playtime_2weeks     [0, 0, 0, 0, 0, 0, 0, 0, 0, 0, 0, 0, 0, 0, 0, ...\n",
       "Name: 100, dtype: object"
      ]
     },
     "execution_count": 11,
     "metadata": {},
     "output_type": "execute_result"
    }
   ],
   "source": [
    "train0.iloc[100,:]"
   ]
  },
  {
   "cell_type": "markdown",
   "metadata": {},
   "source": [
    "# Sparse Matrix"
   ]
  },
  {
   "cell_type": "markdown",
   "metadata": {},
   "source": [
    "Create Sparse Matrix"
   ]
  },
  {
   "cell_type": "code",
   "execution_count": 12,
   "metadata": {
    "pycharm": {
     "is_executing": false
    }
   },
   "outputs": [],
   "source": [
    "def score_playtime(playtime):\n",
    "    \n",
    "    if playtime < 120:\n",
    "        # less than 2 hrs\n",
    "        return 1\n",
    "    elif playtime < 240:\n",
    "        # less than 4 hrs\n",
    "        return 2\n",
    "    elif playtime < 600:\n",
    "        # less than 10 hrs\n",
    "        return 3\n",
    "    elif playtime < 24*60:\n",
    "        # less than 24 hrs\n",
    "        return 4\n",
    "    else:\n",
    "        return 5\n",
    "\n",
    "#Create scipy csr matrix\n",
    "def get_sparse_matrix(df):\n",
    "    shape = (df.shape[0], games.shape[0])\n",
    "    \n",
    "    user_ids = []\n",
    "    item_ids = []\n",
    "    values = []\n",
    "    for idx, row in df.iterrows():\n",
    "        items = row['item_id']\n",
    "        user = idx\n",
    "        score = row[\"playtime_forever\"] + 2* row[\"playtime_2weeks\"]\n",
    "        \n",
    "        # recommended = row['recommended']\n",
    "        user_ids.extend([user] * len(items))\n",
    "        item_ids.extend(items)\n",
    "        values.extend([score_playtime(score[i]) for i in range(len(items))])\n",
    "    # create csr matrix\n",
    "    # values = np.ones(len(user_ids))\n",
    "    matrix = scipy.sparse.csr_matrix((values, (user_ids, item_ids)), shape=shape, dtype=np.int32)\n",
    "    return matrix\n"
   ]
  },
  {
   "cell_type": "code",
   "execution_count": 13,
   "metadata": {
    "pycharm": {
     "is_executing": false
    }
   },
   "outputs": [
    {
     "name": "stdout",
     "output_type": "stream",
     "text": [
      "hey\n"
     ]
    },
    {
     "data": {
      "text/plain": [
       "<62970x7350 sparse matrix of type '<class 'numpy.intc'>'\n",
       "\twith 2154966 stored elements in Compressed Sparse Row format>"
      ]
     },
     "execution_count": 13,
     "metadata": {},
     "output_type": "execute_result"
    }
   ],
   "source": [
    "print('hey')\n",
    "test_matrix = get_sparse_matrix(test0)\n",
    "\n",
    "train_matrix = get_sparse_matrix(train0)\n",
    "train_matrix\n"
   ]
  },
  {
   "cell_type": "markdown",
   "metadata": {},
   "source": [
    "# Train model"
   ]
  },
  {
   "cell_type": "code",
   "execution_count": 14,
   "metadata": {
    "pycharm": {
     "is_executing": false
    }
   },
   "outputs": [],
   "source": [
    "def score_model(rbm, batch_size, train_matrix, test_matrix):\n",
    "    test_recon_error = 0  # RMSE reconstruction error initialized to 0 at the beginning of training\n",
    "    s = 0  # a counter (float type) \n",
    "    # for loop - go through every single user\n",
    "    for id_user in range(0, train_matrix.shape[0] - batch_size, batch_size):\n",
    "        v = train_matrix[id_user:id_user + batch_size]  # training set inputs are used to activate neurons of my RBM\n",
    "        vt = test_matrix[id_user:id_user + batch_size]  # target\n",
    "        v = convert_sparse_matrix_to_sparse_tensor(v)\n",
    "        vt = convert_sparse_matrix_to_sparse_tensor(vt)\n",
    "\n",
    "        v = v.to_dense()\n",
    "        vt = vt.to_dense()\n",
    "        v = v.sub(1)\n",
    "        vt = vt.sub(1)\n",
    "        \n",
    "        if torch.cuda.is_available():\n",
    "            v = v.cuda()\n",
    "            vt = vt.cuda()\n",
    "\n",
    "        if len(vt[vt > -1]) > 0:\n",
    "            vk = rbm(v)\n",
    "            \n",
    "            # Update test RMSE reconstruction error\n",
    "            loss = torch.sqrt(torch.mean((vt[vt > -1] - vk[vt > -1])**2))\n",
    "            loss.backward()\n",
    "            test_recon_error += loss\n",
    "            s += 1\n",
    "\n",
    "        del v\n",
    "        del vt\n",
    "        del vk\n",
    "\n",
    "    return test_recon_error / s \n",
    "\n",
    "\n",
    "# https://stackoverflow.com/questions/40896157/scipy-sparse-csr-matrix-to-tensorflow-sparsetensor-mini-batch-gradient-descent\n",
    "def convert_sparse_matrix_to_sparse_tensor(X, k=5):\n",
    "    coo = X.tocoo()\n",
    "\n",
    "    values = coo.data\n",
    "    indices = np.vstack((coo.row, coo.col))\n",
    "\n",
    "    i = torch.LongTensor(indices)\n",
    "    v = torch.FloatTensor(values)\n",
    "    # print(values)\n",
    "    # print(\"values\", v)\n",
    "    shape = coo.shape\n",
    "    tensor = torch.sparse.FloatTensor(i, v, torch.Size(shape)) \n",
    "    if torch.cuda.is_available():\n",
    "        tensor = tensor.cuda()\n",
    "\n",
    "    return tensor \n",
    "    \n",
    "def create_rbm(train_matrix, test_matrix, n_hidden, batch_size, epochs, rbm=None, k=5):\n",
    "    n_vis = train_matrix.shape[1]\n",
    "    train_errors = []\n",
    "    test_errors = []\n",
    "    if rbm is None:\n",
    "        rbm = network(n_vis)\n",
    "    optim = torch.optim.SGD(rbm.parameters(), lr=0.02, momentum=0.9)\n",
    "    print(\"start training\")\n",
    "    for epoch in tqdm(range(epochs)):\n",
    "        rbm.train()\n",
    "        train_recon_error = 0  # RMSE reconstruction error initialized to 0 at the beginning of training\n",
    "        s = 0\n",
    "        \n",
    "        for user_id in range(0, train_matrix.shape[0] - batch_size, batch_size):\n",
    "            training_sample = train_matrix[user_id : user_id + batch_size]\n",
    "            v0 = convert_sparse_matrix_to_sparse_tensor(training_sample)\n",
    "\n",
    "            v0 = v0.to_dense()\n",
    "            v0 = v0.sub(1)\n",
    "            \n",
    "            optim.zero_grad()            \n",
    "            vk = rbm(v0)\n",
    "            loss = torch.sqrt(torch.mean((v0[v0 > -1] - vk[v0 > -1])**2))\n",
    "            loss.backward()\n",
    "            optim.step()\n",
    "            train_recon_error +=loss\n",
    "            s += 1\n",
    "            \n",
    "        train_errors.append(train_recon_error / s)\n",
    "\n",
    "        # print('calculating test scores')\n",
    "        rbm.eval()\n",
    "        test_errors.append(score_model(rbm, batch_size, train_matrix, test_matrix))\n",
    "\n",
    "    import matplotlib.pyplot as plt\n",
    "    # Plot the RMSE reconstruction error with respect to increasing number of epochs\n",
    "    plt.plot(torch.Tensor(train_errors, device='cpu'), label=\"train\")\n",
    "    plt.plot(torch.Tensor(test_errors, device='cpu'), label=\"test\")\n",
    "    plt.ylabel('Error')\n",
    "    plt.xlabel('Epoch')\n",
    "    plt.legend()\n",
    "    plt.savefig(f'aussies-{n_hidden}-{batch_size}-{epochs}.jpg')\n",
    "\n",
    "    return rbm\n",
    "\n",
    "# Evaluate the RBM on test set\n",
    "# test_recon_error = score_model(rbm)\n",
    "# print(\"Final error\", test_recon_error)\n"
   ]
  },
  {
   "cell_type": "markdown",
   "metadata": {},
   "source": [
    "rbm"
   ]
  },
  {
   "cell_type": "code",
   "execution_count": 15,
   "metadata": {
    "pycharm": {
     "is_executing": true
    }
   },
   "outputs": [
    {
     "name": "stdout",
     "output_type": "stream",
     "text": [
      "start training\n"
     ]
    },
    {
     "name": "stderr",
     "output_type": "stream",
     "text": [
      "100%|██████████| 200/200 [01:46<00:00,  1.87it/s]\n"
     ]
    },
    {
     "data": {
      "image/png": "[encoded data removed]",
      "text/plain": [
       "<Figure size 432x288 with 1 Axes>"
      ]
     },
     "metadata": {
      "needs_background": "light"
     },
     "output_type": "display_data"
    }
   ],
   "source": [
    "rbm10 = create_rbm(train_matrix, test_matrix, 1000, 10000, 200)"
   ]
  },
  {
   "cell_type": "code",
   "execution_count": 16,
   "metadata": {
    "pycharm": {
     "is_executing": false
    }
   },
   "outputs": [],
   "source": [
    "# torch.save(rbm10.state_dict(), \"./ann-20-50-20-steam400-train0\")"
   ]
  },
  {
   "cell_type": "code",
   "execution_count": 17,
   "metadata": {},
   "outputs": [],
   "source": [
    "def compute_hr(train_matrix, test_matrix, rbm, k=10, batch_size=100):\n",
    "    hitrates = []\n",
    "    recall = []\n",
    "    nDCG = []\n",
    "    # for loop - go through every single user\n",
    "    for id_user in tqdm(range(0, train_matrix.shape[0] - batch_size, batch_size)): # - batch_size, batch_size):\n",
    "        v = train_matrix[id_user:id_user + batch_size]  # training set inputs are used to activate neurons of my RBM\n",
    "        vt = test_matrix[id_user:id_user + batch_size]  # target\n",
    "        if vt.getnnz() == 0:\n",
    "            continue\n",
    "\n",
    "        v = convert_sparse_matrix_to_sparse_tensor(v)\n",
    "        vt = convert_sparse_matrix_to_sparse_tensor(vt)\n",
    "        v = v.to_dense()\n",
    "        vt = vt.to_dense()\n",
    "        v = v.sub(1)\n",
    "        vt = vt.sub(1)\n",
    "\n",
    "        if torch.cuda.is_available():\n",
    "            vt = vt.cuda()\n",
    "            v = v.cuda()\n",
    "\n",
    "        # ground truth\n",
    "        users, movies = (vt > 1).nonzero(as_tuple=True)\n",
    "\n",
    "        indices = torch.stack([users, movies])\n",
    "        shape = (batch_size, train_matrix.shape[1])\n",
    "        target = torch.sparse.LongTensor(indices, torch.add(vt[vt > 1].flatten(), 1), torch.Size(shape))\n",
    "        target_dense = target.to_dense()\n",
    "\n",
    "        target_rating, target_movie = torch.topk(target_dense, k, 1)\n",
    "        # target_movie[target_rating < 3] = -1 # remove all bad movies from top k\n",
    "\n",
    "        values, _ = torch.max(target_rating, dim=1)\n",
    "        users_with_target = (values > 0).nonzero(as_tuple=True)[0].cpu().tolist()\n",
    "\n",
    "\n",
    "        # predicted\n",
    "        # _, h = rbm.sample_h(v)\n",
    "        # recommended, _ = rbm.sample_v(h)\n",
    "        recommended = rbm(v)\n",
    "        recommended[v != -1] = -10\n",
    "        predicted_rating, predicted_movie = torch.topk(recommended, k)\n",
    "\n",
    "        # TODO optimize range s.t. users without target are skipped\n",
    "        for user in users_with_target:\n",
    "\n",
    "            # all recommendations\n",
    "            user_target = target_movie[user][target_rating[user] > 0].cpu().tolist()\n",
    "            user_pred = predicted_movie[user].cpu().tolist()\n",
    "\n",
    "            counter = 0\n",
    "            total = min(k, len(user_target))\n",
    "            for target in user_target:\n",
    "                if target in user_pred:\n",
    "                    counter += 1\n",
    "            # counter = len(recommendations)\n",
    "\n",
    "            recall.append(counter / total)\n",
    "            hitrates.append(min(1, counter))\n",
    "\n",
    "            # nDCG\n",
    "            idcg = np.sum([1 / np.log2(i+2) for i in range(min(k, len(user_target)))])\n",
    "            dcg = 0\n",
    "            for i, r in enumerate(user_pred):\n",
    "                if r in user_target:\n",
    "                    dcg += 1 / np.log2(i+2)\n",
    "\n",
    "            nDCG.append(dcg / idcg) \n",
    "\n",
    "    return hitrates, recall, nDCG"
   ]
  },
  {
   "cell_type": "markdown",
   "metadata": {},
   "source": [
    "hr"
   ]
  },
  {
   "cell_type": "code",
   "execution_count": 18,
   "metadata": {},
   "outputs": [
    {
     "name": "stderr",
     "output_type": "stream",
     "text": [
      "100%|██████████| 4/4 [00:10<00:00,  2.59s/it]\n"
     ]
    }
   ],
   "source": [
    "hr, r, ndcg = compute_hr(train_matrix, test_matrix, rbm10, k=10, batch_size=15000)"
   ]
  },
  {
   "cell_type": "code",
   "execution_count": 19,
   "metadata": {},
   "outputs": [
    {
     "name": "stdout",
     "output_type": "stream",
     "text": [
      "0.44703643959134715 0.21272424730049744 0.13700630832122956\n"
     ]
    }
   ],
   "source": [
    "print(np.average(hr), np.average(r), np.average(ndcg))"
   ]
  },
  {
   "cell_type": "code",
   "execution_count": 20,
   "metadata": {
    "collapsed": false,
    "pycharm": {
     "is_executing": false,
     "name": "#%% load model\n"
    }
   },
   "outputs": [],
   "source": [
    "# rbm = RBM(n_vis, n_hidden)\n",
    "# rbm.load_state_dict(torch.load(\"./network\"))\n",
    "# rbm.eval()"
   ]
  }
 ],
 "metadata": {
  "interpreter": {
   "hash": "ac59ebe37160ed0dfa835113d9b8498d9f09ceb179beaac4002f036b9467c963"
  },
  "kernelspec": {
   "display_name": "PyCharm (ai-project)",
   "language": "python",
   "name": "python3"
  },
  "language_info": {
   "codemirror_mode": {
    "name": "ipython",
    "version": 3
   },
   "file_extension": ".py",
   "mimetype": "text/x-python",
   "name": "python",
   "nbconvert_exporter": "python",
   "pygments_lexer": "ipython3",
   "version": "3.9.7"
  },
  "orig_nbformat": 4,
  "pycharm": {
   "stem_cell": {
    "cell_type": "raw",
    "metadata": {
     "collapsed": false
    },
    "source": []
   }
  }
 },
 "nbformat": 4,
 "nbformat_minor": 2
}
