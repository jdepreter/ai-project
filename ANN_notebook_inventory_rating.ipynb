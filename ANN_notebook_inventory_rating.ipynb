{
 "cells": [
  {
   "cell_type": "markdown",
   "metadata": {},
   "source": [
    " # ANN Definition\n"
   ]
  },
  {
   "cell_type": "code",
   "execution_count": 1,
   "metadata": {
    "pycharm": {
     "is_executing": false
    }
   },
   "outputs": [],
   "source": [
    "# Import PyTorch library\n",
    "import torch\n",
    "import torch.nn as nn\n",
    "import torch.nn.functional as F\n",
    "from torch import nn, flatten, device\n",
    "from tqdm import tqdm, trange\n",
    "from scipy import sparse\n",
    "import json"
   ]
  },
  {
   "cell_type": "code",
   "execution_count": 2,
   "metadata": {},
   "outputs": [],
   "source": [
    "import gc\n",
    "gc.collect()\n",
    "torch.cuda.empty_cache()"
   ]
  },
  {
   "cell_type": "code",
   "execution_count": 3,
   "metadata": {
    "pycharm": {
     "is_executing": false
    }
   },
   "outputs": [],
   "source": [
    "class network(nn.Module):\n",
    "    def __init__(self, input_size, output_size, dropout, l1, l2, l3, activation=F.relu):\n",
    "        super().__init__()\n",
    "        \n",
    "        # use 3 layers and fc layer\n",
    "        self.activation = activation\n",
    "\n",
    "        self.dropout = nn.Dropout(dropout)\n",
    "        self.dropout2 = nn.Dropout(dropout / 2)\n",
    "        if torch.cuda.is_available():\n",
    "            self.device = device(\"cuda\")\n",
    "\n",
    "        self.lin1 = nn.Linear(input_size, l1).to(self.device)\n",
    "        self.lin2 = nn.Linear(l1, l2).to(self.device)\n",
    "        self.lin3 = nn.Linear(l2, l3).to(self.device)\n",
    "        self.fc = nn.Linear(l3, output_size).to(self.device)\n",
    "\n",
    "    def forward(self, x):\n",
    "        if torch.cuda.is_available():\n",
    "            x = x.to(self.device)\n",
    "\n",
    "        x = self.activation(self.lin1(x))\n",
    "        x = self.activation(self.lin2(x))\n",
    "        x = self.activation(self.lin3(x))\n",
    "        x = self.dropout(x)\n",
    "        output = self.fc(x)\n",
    "        return output"
   ]
  },
  {
   "cell_type": "code",
   "execution_count": 4,
   "metadata": {
    "pycharm": {
     "is_executing": false
    }
   },
   "outputs": [],
   "source": [
    "cuda = torch.device('cuda')"
   ]
  },
  {
   "cell_type": "markdown",
   "metadata": {},
   "source": [
    "# General Imports"
   ]
  },
  {
   "cell_type": "code",
   "execution_count": 5,
   "metadata": {
    "pycharm": {
     "is_executing": false
    }
   },
   "outputs": [],
   "source": [
    "import numpy as np\n",
    "import pandas as pd\n",
    "from tqdm import tqdm\n",
    "import os\n",
    "\n",
    "tqdm.pandas() #for progres_apply etc."
   ]
  },
  {
   "cell_type": "markdown",
   "metadata": {},
   "source": [
    "# Reading"
   ]
  },
  {
   "cell_type": "code",
   "execution_count": 6,
   "metadata": {},
   "outputs": [],
   "source": [
    "def load_interactions(path, n_splits=5):\n",
    "    df = pd.read_pickle(os.path.join(os.getcwd(), path))\n",
    "    df[['interactions', 'train', 'val', 'test']] = df[['interactions', 'train', 'val', 'test']].applymap(lambda x: np.array(x, dtype=np.int32))\n",
    "    interactions_dict = {}\n",
    "    for split in trange(n_splits):\n",
    "        for column in ['train', 'val', 'test']:\n",
    "            interactions_dict[split, column] = pd.DataFrame({\n",
    "                'user_id': df['user_id'],\n",
    "                'steam_id': df['steam_id'],\n",
    "                'item_id': df[column].apply(lambda x: x[split, 0]),\n",
    "                'playtime_forever': df[column].apply(lambda x: x[split, 1]),\n",
    "                'playtime_2weeks': df[column].apply(lambda x: x[split, 2])})\n",
    "    return interactions_dict"
   ]
  },
  {
   "cell_type": "code",
   "execution_count": 7,
   "metadata": {},
   "outputs": [
    {
     "name": "stderr",
     "output_type": "stream",
     "text": [
      "100%|██████████| 5/5 [00:00<00:00,  8.28it/s]\n"
     ]
    },
    {
     "data": {
      "text/html": [
       "<div>\n",
       "<style scoped>\n",
       "    .dataframe tbody tr th:only-of-type {\n",
       "        vertical-align: middle;\n",
       "    }\n",
       "\n",
       "    .dataframe tbody tr th {\n",
       "        vertical-align: top;\n",
       "    }\n",
       "\n",
       "    .dataframe thead th {\n",
       "        text-align: right;\n",
       "    }\n",
       "</style>\n",
       "<table border=\"1\" class=\"dataframe\">\n",
       "  <thead>\n",
       "    <tr style=\"text-align: right;\">\n",
       "      <th></th>\n",
       "      <th>publisher</th>\n",
       "      <th>genres</th>\n",
       "      <th>app_name</th>\n",
       "      <th>title</th>\n",
       "      <th>url</th>\n",
       "      <th>release_date</th>\n",
       "      <th>tags</th>\n",
       "      <th>discount_price</th>\n",
       "      <th>reviews_url</th>\n",
       "      <th>specs</th>\n",
       "      <th>price</th>\n",
       "      <th>early_access</th>\n",
       "      <th>id</th>\n",
       "      <th>developer</th>\n",
       "      <th>sentiment</th>\n",
       "      <th>metascore</th>\n",
       "      <th>users_count</th>\n",
       "    </tr>\n",
       "  </thead>\n",
       "  <tbody>\n",
       "    <tr>\n",
       "      <th>0</th>\n",
       "      <td>Rockstar Games</td>\n",
       "      <td>[Action]</td>\n",
       "      <td>Grand Theft Auto: Episodes from Liberty City</td>\n",
       "      <td>Grand Theft Auto: Episodes from Liberty City</td>\n",
       "      <td>http://store.steampowered.com/app/12220/Grand_...</td>\n",
       "      <td>2010-04-12</td>\n",
       "      <td>[Open World, Action, Third Person, Multiplayer...</td>\n",
       "      <td>NaN</td>\n",
       "      <td>http://steamcommunity.com/app/12220/reviews/?b...</td>\n",
       "      <td>[Single-player, Multi-player]</td>\n",
       "      <td>19.99</td>\n",
       "      <td>False</td>\n",
       "      <td>12220</td>\n",
       "      <td>Rockstar North / Toronto</td>\n",
       "      <td>Mostly Positive</td>\n",
       "      <td>NaN</td>\n",
       "      <td>7597</td>\n",
       "    </tr>\n",
       "    <tr>\n",
       "      <th>1</th>\n",
       "      <td>Valve</td>\n",
       "      <td>[Action]</td>\n",
       "      <td>Half-Life</td>\n",
       "      <td>Half-Life</td>\n",
       "      <td>http://store.steampowered.com/app/70/HalfLife/</td>\n",
       "      <td>1998-11-08</td>\n",
       "      <td>[FPS, Classic, Action, Sci-fi, Singleplayer, S...</td>\n",
       "      <td>NaN</td>\n",
       "      <td>http://steamcommunity.com/app/70/reviews/?brow...</td>\n",
       "      <td>[Single-player, Multi-player, Valve Anti-Cheat...</td>\n",
       "      <td>9.99</td>\n",
       "      <td>False</td>\n",
       "      <td>70</td>\n",
       "      <td>Valve</td>\n",
       "      <td>Overwhelmingly Positive</td>\n",
       "      <td>96</td>\n",
       "      <td>7575</td>\n",
       "    </tr>\n",
       "    <tr>\n",
       "      <th>2</th>\n",
       "      <td>Trion Worlds, Inc.</td>\n",
       "      <td>[Action, Free to Play, Massively Multiplayer, ...</td>\n",
       "      <td>Defiance</td>\n",
       "      <td>Defiance</td>\n",
       "      <td>http://store.steampowered.com/app/224600/Defia...</td>\n",
       "      <td>2014-06-04</td>\n",
       "      <td>[Free to Play, Action, Open World, Massively M...</td>\n",
       "      <td>NaN</td>\n",
       "      <td>http://steamcommunity.com/app/224600/reviews/?...</td>\n",
       "      <td>[Multi-player, MMO, Co-op, Steam Trading Cards...</td>\n",
       "      <td>Free to Play</td>\n",
       "      <td>False</td>\n",
       "      <td>224600</td>\n",
       "      <td>Trion Worlds, Inc.</td>\n",
       "      <td>Mostly Positive</td>\n",
       "      <td>64</td>\n",
       "      <td>7539</td>\n",
       "    </tr>\n",
       "    <tr>\n",
       "      <th>3</th>\n",
       "      <td>Bohemia Interactive</td>\n",
       "      <td>[Action, Simulation, Strategy]</td>\n",
       "      <td>Arma 3</td>\n",
       "      <td>Arma 3</td>\n",
       "      <td>http://store.steampowered.com/app/107410/Arma_3/</td>\n",
       "      <td>2013-09-12</td>\n",
       "      <td>[Simulation, Military, Multiplayer, Realistic,...</td>\n",
       "      <td>NaN</td>\n",
       "      <td>http://steamcommunity.com/app/107410/reviews/?...</td>\n",
       "      <td>[Single-player, Multi-player, Online Multi-Pla...</td>\n",
       "      <td>39.99</td>\n",
       "      <td>False</td>\n",
       "      <td>107410</td>\n",
       "      <td>Bohemia Interactive</td>\n",
       "      <td>Very Positive</td>\n",
       "      <td>74</td>\n",
       "      <td>7527</td>\n",
       "    </tr>\n",
       "    <tr>\n",
       "      <th>4</th>\n",
       "      <td>Unknown Worlds Entertainment</td>\n",
       "      <td>[Action, Indie, Strategy]</td>\n",
       "      <td>Natural Selection 2</td>\n",
       "      <td>Natural Selection 2</td>\n",
       "      <td>http://store.steampowered.com/app/4920/Natural...</td>\n",
       "      <td>2012-10-30</td>\n",
       "      <td>[Multiplayer, Strategy, FPS, Team-Based, Actio...</td>\n",
       "      <td>NaN</td>\n",
       "      <td>http://steamcommunity.com/app/4920/reviews/?br...</td>\n",
       "      <td>[Multi-player, Online Multi-Player, Steam Achi...</td>\n",
       "      <td>9.99</td>\n",
       "      <td>False</td>\n",
       "      <td>4920</td>\n",
       "      <td>Unknown Worlds Entertainment</td>\n",
       "      <td>Very Positive</td>\n",
       "      <td>80</td>\n",
       "      <td>7502</td>\n",
       "    </tr>\n",
       "  </tbody>\n",
       "</table>\n",
       "</div>"
      ],
      "text/plain": [
       "                      publisher  \\\n",
       "0                Rockstar Games   \n",
       "1                         Valve   \n",
       "2            Trion Worlds, Inc.   \n",
       "3           Bohemia Interactive   \n",
       "4  Unknown Worlds Entertainment   \n",
       "\n",
       "                                              genres  \\\n",
       "0                                           [Action]   \n",
       "1                                           [Action]   \n",
       "2  [Action, Free to Play, Massively Multiplayer, ...   \n",
       "3                     [Action, Simulation, Strategy]   \n",
       "4                          [Action, Indie, Strategy]   \n",
       "\n",
       "                                       app_name  \\\n",
       "0  Grand Theft Auto: Episodes from Liberty City   \n",
       "1                                     Half-Life   \n",
       "2                                      Defiance   \n",
       "3                                        Arma 3   \n",
       "4                           Natural Selection 2   \n",
       "\n",
       "                                          title  \\\n",
       "0  Grand Theft Auto: Episodes from Liberty City   \n",
       "1                                     Half-Life   \n",
       "2                                      Defiance   \n",
       "3                                        Arma 3   \n",
       "4                           Natural Selection 2   \n",
       "\n",
       "                                                 url release_date  \\\n",
       "0  http://store.steampowered.com/app/12220/Grand_...   2010-04-12   \n",
       "1     http://store.steampowered.com/app/70/HalfLife/   1998-11-08   \n",
       "2  http://store.steampowered.com/app/224600/Defia...   2014-06-04   \n",
       "3   http://store.steampowered.com/app/107410/Arma_3/   2013-09-12   \n",
       "4  http://store.steampowered.com/app/4920/Natural...   2012-10-30   \n",
       "\n",
       "                                                tags  discount_price  \\\n",
       "0  [Open World, Action, Third Person, Multiplayer...             NaN   \n",
       "1  [FPS, Classic, Action, Sci-fi, Singleplayer, S...             NaN   \n",
       "2  [Free to Play, Action, Open World, Massively M...             NaN   \n",
       "3  [Simulation, Military, Multiplayer, Realistic,...             NaN   \n",
       "4  [Multiplayer, Strategy, FPS, Team-Based, Actio...             NaN   \n",
       "\n",
       "                                         reviews_url  \\\n",
       "0  http://steamcommunity.com/app/12220/reviews/?b...   \n",
       "1  http://steamcommunity.com/app/70/reviews/?brow...   \n",
       "2  http://steamcommunity.com/app/224600/reviews/?...   \n",
       "3  http://steamcommunity.com/app/107410/reviews/?...   \n",
       "4  http://steamcommunity.com/app/4920/reviews/?br...   \n",
       "\n",
       "                                               specs         price  \\\n",
       "0                      [Single-player, Multi-player]         19.99   \n",
       "1  [Single-player, Multi-player, Valve Anti-Cheat...          9.99   \n",
       "2  [Multi-player, MMO, Co-op, Steam Trading Cards...  Free to Play   \n",
       "3  [Single-player, Multi-player, Online Multi-Pla...         39.99   \n",
       "4  [Multi-player, Online Multi-Player, Steam Achi...          9.99   \n",
       "\n",
       "   early_access      id                     developer  \\\n",
       "0         False   12220      Rockstar North / Toronto   \n",
       "1         False      70                         Valve   \n",
       "2         False  224600            Trion Worlds, Inc.   \n",
       "3         False  107410           Bohemia Interactive   \n",
       "4         False    4920  Unknown Worlds Entertainment   \n",
       "\n",
       "                 sentiment metascore  users_count  \n",
       "0          Mostly Positive       NaN         7597  \n",
       "1  Overwhelmingly Positive        96         7575  \n",
       "2          Mostly Positive        64         7539  \n",
       "3            Very Positive        74         7527  \n",
       "4            Very Positive        80         7502  "
      ]
     },
     "execution_count": 7,
     "metadata": {},
     "output_type": "execute_result"
    }
   ],
   "source": [
    "interactions = load_interactions(\"./data-cleaned/interactions_splits.pkl.gz\")\n",
    "interactions[0, 'train'].head()\n",
    "games = pd.read_pickle(os.path.join(os.getcwd(), \"./data-cleaned/games.pkl.gz\"))\n",
    "games.head()"
   ]
  },
  {
   "cell_type": "code",
   "execution_count": 8,
   "metadata": {},
   "outputs": [
    {
     "data": {
      "text/html": [
       "<div>\n",
       "<style scoped>\n",
       "    .dataframe tbody tr th:only-of-type {\n",
       "        vertical-align: middle;\n",
       "    }\n",
       "\n",
       "    .dataframe tbody tr th {\n",
       "        vertical-align: top;\n",
       "    }\n",
       "\n",
       "    .dataframe thead th {\n",
       "        text-align: right;\n",
       "    }\n",
       "</style>\n",
       "<table border=\"1\" class=\"dataframe\">\n",
       "  <thead>\n",
       "    <tr style=\"text-align: right;\">\n",
       "      <th></th>\n",
       "      <th>category</th>\n",
       "      <th>count</th>\n",
       "    </tr>\n",
       "  </thead>\n",
       "  <tbody>\n",
       "    <tr>\n",
       "      <th>0</th>\n",
       "      <td>Single-player</td>\n",
       "      <td>6749</td>\n",
       "    </tr>\n",
       "    <tr>\n",
       "      <th>1</th>\n",
       "      <td>Indie</td>\n",
       "      <td>5020</td>\n",
       "    </tr>\n",
       "    <tr>\n",
       "      <th>2</th>\n",
       "      <td>Steam Achievements</td>\n",
       "      <td>4072</td>\n",
       "    </tr>\n",
       "    <tr>\n",
       "      <th>3</th>\n",
       "      <td>Steam Trading Cards</td>\n",
       "      <td>3641</td>\n",
       "    </tr>\n",
       "    <tr>\n",
       "      <th>4</th>\n",
       "      <td>Action</td>\n",
       "      <td>3525</td>\n",
       "    </tr>\n",
       "  </tbody>\n",
       "</table>\n",
       "</div>"
      ],
      "text/plain": [
       "              category  count\n",
       "0        Single-player   6749\n",
       "1                Indie   5020\n",
       "2   Steam Achievements   4072\n",
       "3  Steam Trading Cards   3641\n",
       "4               Action   3525"
      ]
     },
     "execution_count": 8,
     "metadata": {},
     "output_type": "execute_result"
    }
   ],
   "source": [
    "categories = pd.read_pickle(os.path.join(os.getcwd(), \"./data-cleaned/categories.pkl.gz\"))\n",
    "categories.head()"
   ]
  },
  {
   "cell_type": "code",
   "execution_count": 9,
   "metadata": {},
   "outputs": [],
   "source": [
    "train0 = interactions[0, 'train']\n",
    "test0 = interactions[0, 'test']\n",
    "train1 = interactions[1, 'train']\n",
    "test1 = interactions[1, 'test']\n",
    "train2 = interactions[2, 'train']\n",
    "test2 = interactions[2, 'test']"
   ]
  },
  {
   "cell_type": "code",
   "execution_count": 10,
   "metadata": {
    "pycharm": {
     "is_executing": false
    }
   },
   "outputs": [
    {
     "data": {
      "text/plain": [
       "count    54190.000000\n",
       "mean        25.977265\n",
       "std         42.254444\n",
       "min          1.000000\n",
       "25%          5.000000\n",
       "50%         13.000000\n",
       "75%         30.000000\n",
       "max        674.000000\n",
       "Name: item_id, dtype: float64"
      ]
     },
     "execution_count": 10,
     "metadata": {},
     "output_type": "execute_result"
    }
   ],
   "source": [
    "train0[\"item_id\"].map(len).describe()"
   ]
  },
  {
   "cell_type": "code",
   "execution_count": 11,
   "metadata": {
    "pycharm": {
     "is_executing": false
    }
   },
   "outputs": [
    {
     "data": {
      "text/plain": [
       "user_id                                                 EucHellscythe\n",
       "steam_id                                            76561198072757340\n",
       "item_id             [991, 214, 4594, 1262, 30, 3449, 959, 964, 436...\n",
       "playtime_forever    [0, 0, 0, 0, 0, 0, 0, 0, 0, 0, 0, 0, 0, 0, 0, ...\n",
       "playtime_2weeks     [0, 0, 0, 0, 0, 0, 0, 0, 0, 0, 0, 0, 0, 0, 0, ...\n",
       "Name: 100, dtype: object"
      ]
     },
     "execution_count": 11,
     "metadata": {},
     "output_type": "execute_result"
    }
   ],
   "source": [
    "train0.iloc[100,:]"
   ]
  },
  {
   "cell_type": "code",
   "execution_count": 12,
   "metadata": {},
   "outputs": [],
   "source": [
    "for train in [train0, train1, train2]:\n",
    "    train[\"total_playtime\"] = train[\"playtime_forever\"].apply(lambda x: sum(x))\n",
    "    train[\"total_playtime_2weeks\"] = train[\"playtime_2weeks\"].apply(lambda x: sum(x))\n",
    "    train[\"total_items\"] = train[\"item_id\"].apply(lambda x: len(x))"
   ]
  },
  {
   "cell_type": "code",
   "execution_count": 13,
   "metadata": {},
   "outputs": [
    {
     "data": {
      "text/html": [
       "<div>\n",
       "<style scoped>\n",
       "    .dataframe tbody tr th:only-of-type {\n",
       "        vertical-align: middle;\n",
       "    }\n",
       "\n",
       "    .dataframe tbody tr th {\n",
       "        vertical-align: top;\n",
       "    }\n",
       "\n",
       "    .dataframe thead th {\n",
       "        text-align: right;\n",
       "    }\n",
       "</style>\n",
       "<table border=\"1\" class=\"dataframe\">\n",
       "  <thead>\n",
       "    <tr style=\"text-align: right;\">\n",
       "      <th></th>\n",
       "      <th>total_playtime</th>\n",
       "      <th>total_playtime_2weeks</th>\n",
       "      <th>total_items</th>\n",
       "    </tr>\n",
       "  </thead>\n",
       "  <tbody>\n",
       "    <tr>\n",
       "      <th>count</th>\n",
       "      <td>54190.000000</td>\n",
       "      <td>54190.000000</td>\n",
       "      <td>54190.000000</td>\n",
       "    </tr>\n",
       "    <tr>\n",
       "      <th>mean</th>\n",
       "      <td>11501.441225</td>\n",
       "      <td>138.226296</td>\n",
       "      <td>25.977265</td>\n",
       "    </tr>\n",
       "    <tr>\n",
       "      <th>std</th>\n",
       "      <td>20851.541763</td>\n",
       "      <td>624.444600</td>\n",
       "      <td>42.254444</td>\n",
       "    </tr>\n",
       "    <tr>\n",
       "      <th>min</th>\n",
       "      <td>0.000000</td>\n",
       "      <td>0.000000</td>\n",
       "      <td>1.000000</td>\n",
       "    </tr>\n",
       "    <tr>\n",
       "      <th>25%</th>\n",
       "      <td>1037.250000</td>\n",
       "      <td>0.000000</td>\n",
       "      <td>5.000000</td>\n",
       "    </tr>\n",
       "    <tr>\n",
       "      <th>50%</th>\n",
       "      <td>4389.000000</td>\n",
       "      <td>0.000000</td>\n",
       "      <td>13.000000</td>\n",
       "    </tr>\n",
       "    <tr>\n",
       "      <th>75%</th>\n",
       "      <td>13355.750000</td>\n",
       "      <td>11.000000</td>\n",
       "      <td>30.000000</td>\n",
       "    </tr>\n",
       "    <tr>\n",
       "      <th>max</th>\n",
       "      <td>647435.000000</td>\n",
       "      <td>42770.000000</td>\n",
       "      <td>674.000000</td>\n",
       "    </tr>\n",
       "  </tbody>\n",
       "</table>\n",
       "</div>"
      ],
      "text/plain": [
       "       total_playtime  total_playtime_2weeks   total_items\n",
       "count    54190.000000           54190.000000  54190.000000\n",
       "mean     11501.441225             138.226296     25.977265\n",
       "std      20851.541763             624.444600     42.254444\n",
       "min          0.000000               0.000000      1.000000\n",
       "25%       1037.250000               0.000000      5.000000\n",
       "50%       4389.000000               0.000000     13.000000\n",
       "75%      13355.750000              11.000000     30.000000\n",
       "max     647435.000000           42770.000000    674.000000"
      ]
     },
     "execution_count": 13,
     "metadata": {},
     "output_type": "execute_result"
    }
   ],
   "source": [
    "train0[[\"total_playtime\", \"total_playtime_2weeks\", \"total_items\"]].describe()"
   ]
  },
  {
   "cell_type": "code",
   "execution_count": 14,
   "metadata": {},
   "outputs": [
    {
     "name": "stdout",
     "output_type": "stream",
     "text": [
      "(10000, 3)\n"
     ]
    },
    {
     "data": {
      "text/plain": [
       "array([[151376,    159,    674],\n",
       "       [344084,   4820,    674],\n",
       "       [ 25932,    181,    660],\n",
       "       ...,\n",
       "       [ 10639,     35,     38],\n",
       "       [  2188,      0,     38],\n",
       "       [ 20127,      0,     38]], dtype=int64)"
      ]
     },
     "execution_count": 14,
     "metadata": {},
     "output_type": "execute_result"
    }
   ],
   "source": [
    "print(train0.iloc[0:10000, -3:].values.shape)\n",
    "train0.iloc[0:10000, -3:].values"
   ]
  },
  {
   "cell_type": "markdown",
   "metadata": {},
   "source": [
    "## Score Function"
   ]
  },
  {
   "cell_type": "code",
   "execution_count": 15,
   "metadata": {
    "pycharm": {
     "is_executing": false
    }
   },
   "outputs": [],
   "source": [
    "def to_simple_rating(playtime):\n",
    "    if playtime < 120:\n",
    "        # less than 2 hrs\n",
    "        return 1\n",
    "    elif playtime < 240:\n",
    "        # less than 4 hrs\n",
    "        return 2\n",
    "    elif playtime < 600:\n",
    "        # less than 10 hrs\n",
    "        return 3\n",
    "    elif playtime < 24*60:\n",
    "        # less than 24 hrs\n",
    "        return 4\n",
    "    else:\n",
    "        return 5\n",
    "\n",
    "def to_simple_rating2(playtime):\n",
    "    if playtime < 10:\n",
    "        # less than 2 hrs\n",
    "        return 1\n",
    "    elif playtime < 60:\n",
    "        # less than 4 hrs\n",
    "        return 2\n",
    "    elif playtime < 240:\n",
    "        # less than 10 hrs\n",
    "        return 3\n",
    "    elif playtime < 600:\n",
    "        # less than 24 hrs\n",
    "        return 4\n",
    "    else:\n",
    "        return 5\n",
    "        \n",
    "def rating(playtime):\n",
    "    if playtime < 1:\n",
    "        return 1\n",
    "    else:\n",
    "        return 2\n",
    "\n",
    "# works very badly\n",
    "def to_user_rating(playtime, max_playtime):\n",
    "    if max_playtime == 0:\n",
    "        return 1\n",
    "    return round(playtime / max_playtime * 4) + 1\n",
    "   \n",
    "def log_playtime(playtime):\n",
    "    return np.log2(playtime)"
   ]
  },
  {
   "cell_type": "markdown",
   "metadata": {},
   "source": [
    "## Sparse Matrix"
   ]
  },
  {
   "cell_type": "code",
   "execution_count": 16,
   "metadata": {},
   "outputs": [],
   "source": [
    "\n",
    "#Create scipy csr matrix\n",
    "def get_sparse_matrix(df):\n",
    "    shape = (df.shape[0], games.shape[0])\n",
    "    \n",
    "    user_ids = []\n",
    "    item_ids = []\n",
    "    values = []\n",
    "    for idx, row in df.iterrows():\n",
    "        items = row['item_id']\n",
    "        user = idx\n",
    "        score = row[\"playtime_forever\"] + 2* row[\"playtime_2weeks\"]\n",
    "        \n",
    "        # recommended = row['recommended']\n",
    "        user_ids.extend([user] * len(items))\n",
    "        item_ids.extend(items)\n",
    "        # values.extend([to_simple_rating(score[i]) for i in range(len(items))])\n",
    "        values.extend([to_simple_rating(score[i]) for i in range(len(items))])\n",
    "    # create csr matrix\n",
    "    # values = np.ones(len(user_ids))\n",
    "    matrix = sparse.csr_matrix((values, (user_ids, item_ids)), shape=shape, dtype=np.int32)\n",
    "    return matrix"
   ]
  },
  {
   "cell_type": "markdown",
   "metadata": {},
   "source": [
    "# Evaluation"
   ]
  },
  {
   "cell_type": "code",
   "execution_count": 17,
   "metadata": {},
   "outputs": [],
   "source": [
    "def compute_hr(train_df, train_matrix, test_matrix, rbm, k=10, batch_size=100, rating_cutoff=-1):\n",
    "    hitrates = []\n",
    "    recall = []\n",
    "    nDCG = []\n",
    "    # for loop - go through every single user\n",
    "    for id_user in range(0, train_matrix.shape[0] - batch_size, batch_size): # - batch_size, batch_size):\n",
    "        vt = test_matrix[id_user:id_user + batch_size]  # target\n",
    "        if vt.getnnz() == 0:\n",
    "            continue\n",
    "\n",
    "        vt = convert_sparse_matrix_to_sparse_tensor(vt)\n",
    "        vt = vt.to_dense()\n",
    "        vt = vt.sub(1)\n",
    "        if torch.cuda.is_available():\n",
    "            vt = vt.cuda()\n",
    "\n",
    "        # ground truth\n",
    "        # sort games by their rating in each user vector\n",
    "        target_recommended = torch.argsort(vt, 1, descending=True)\n",
    "\n",
    "        # predicted\n",
    "        v = train_matrix[id_user:id_user + batch_size]  # training set inputs are used to activate neurons of my RBM\n",
    "        v = convert_to_user_tensor(v, train_df[id_user:id_user + batch_size])\n",
    "        ratings = v[:,:-3]\n",
    "        recommended = rbm(v)\n",
    "        recommended[ratings != -1] = -10    # do not recommend games already in the users library\n",
    "        predicted_rating, predicted_movie = torch.topk(recommended, k)\n",
    "\n",
    "        # TODO optimize range s.t. users without target are skipped\n",
    "        for user in range(batch_size):\n",
    "\n",
    "            # all recommendations\n",
    "            # truth: games that are in inventory thus > -1\n",
    "            user_ratings = torch.index_select(vt[user], 0, target_recommended[user])    # get ratings for sorted tensor\n",
    "            user_target = target_recommended[user][user_ratings > rating_cutoff].cpu().tolist()   # get games with min rating\n",
    "\n",
    "            user_pred = predicted_movie[user].cpu().tolist()\n",
    "\n",
    "            counter = 0\n",
    "            total = min(k, len(user_target))\n",
    "            for target in user_target:\n",
    "                if target in user_pred:\n",
    "                    counter += 1\n",
    "            # counter = len(recommendations)\n",
    "\n",
    "            recall.append(counter / total)\n",
    "            hitrates.append(min(1, counter))\n",
    "\n",
    "            # nDCG\n",
    "            idcg = np.sum([1 / np.log2(i+2) for i in range(min(k, len(user_target)))])\n",
    "            dcg = 0\n",
    "            for i, r in enumerate(user_pred):\n",
    "                if r in user_target:\n",
    "                    dcg += 1 / np.log2(i+2)\n",
    "\n",
    "            nDCG.append(dcg / idcg) \n",
    "\n",
    "    return hitrates, recall, nDCG"
   ]
  },
  {
   "cell_type": "markdown",
   "metadata": {},
   "source": [
    "# Train model"
   ]
  },
  {
   "cell_type": "code",
   "execution_count": 18,
   "metadata": {
    "pycharm": {
     "is_executing": false
    }
   },
   "outputs": [],
   "source": [
    "def params_to_str(params):\n",
    "    return \"-\".join([s.__name__ if callable(s) else str(s) for s in params] )\n",
    "\n",
    "def score_model(rbm, batch_size, train_df, train_matrix, test_matrix):\n",
    "    test_recon_error = 0  # RMSE reconstruction error initialized to 0 at the beginning of training\n",
    "    s = 0  # a counter (float type) \n",
    "    # for loop - go through every single user\n",
    "    for id_user in range(0, train_matrix.shape[0] - batch_size, batch_size):\n",
    "        v = train_matrix[id_user:id_user + batch_size]  # training set inputs are used to activate neurons of my RBM\n",
    "        v = convert_to_user_tensor(v, train_df[id_user:id_user + batch_size])\n",
    "\n",
    "        vt = test_matrix[id_user:id_user + batch_size]  # target\n",
    "        vt = convert_sparse_matrix_to_sparse_tensor(vt)\n",
    "        vt = vt.to_dense()\n",
    "        vt = vt.sub(1)\n",
    "        if torch.cuda.is_available():\n",
    "            vt = vt.cuda()\n",
    "\n",
    "        if len(vt[vt > -1]) > 0:\n",
    "            vk = rbm(v)\n",
    "            # Update test RMSE reconstruction error\n",
    "            loss = torch.sqrt(torch.mean((vt[vt > -1] - vk[vt > -1])**2))\n",
    "            loss.backward()\n",
    "            test_recon_error += loss\n",
    "            s += 1\n",
    "\n",
    "    return test_recon_error / s \n",
    "\n",
    "\n",
    "# https://stackoverflow.com/questions/40896157/scipy-sparse-csr-matrix-to-tensorflow-sparsetensor-mini-batch-gradient-descent\n",
    "def convert_sparse_matrix_to_sparse_tensor(X, k=5):\n",
    "    coo = X.tocoo()\n",
    "\n",
    "    values = coo.data\n",
    "    indices = np.vstack((coo.row, coo.col))\n",
    "\n",
    "    i = torch.LongTensor(indices)\n",
    "    v = torch.FloatTensor(values)\n",
    "    # print(values)\n",
    "    # print(\"values\", v)\n",
    "    shape = coo.shape\n",
    "    tensor = torch.sparse.FloatTensor(i, v, torch.Size(shape)) \n",
    "    if torch.cuda.is_available():\n",
    "        tensor = tensor.cuda()\n",
    "\n",
    "    return tensor \n",
    "\n",
    "def convert_to_user_tensor(X: sparse.csr_matrix, users: pd.DataFrame):\n",
    "    coo = X.tocoo()\n",
    "\n",
    "    values = coo.data\n",
    "    indices = np.vstack((coo.row, coo.col))\n",
    "\n",
    "    i = torch.LongTensor(indices)\n",
    "    v = torch.FloatTensor(values)\n",
    "    shape = coo.shape\n",
    "    tensor = torch.sparse.FloatTensor(i, v, torch.Size(shape)) \n",
    "    if torch.cuda.is_available():\n",
    "        tensor = tensor.cuda()\n",
    "\n",
    "    tensor = tensor.to_dense()\n",
    "    tensor = tensor.sub(1)\n",
    "\n",
    "    users_tensor = torch.Tensor(users.values)\n",
    "    if torch.cuda.is_available():\n",
    "        users_tensor = users_tensor.cuda()\n",
    "    if len(users_tensor.shape) == 1:\n",
    "        users_tensor = users_tensor.unsqueeze(0)\n",
    "    tensor = torch.cat([tensor, users_tensor], dim=1)\n",
    "    return tensor \n",
    "\n",
    "    \n",
    "def create_rbm(train_df: pd.DataFrame, train_matrix, test_matrix, batch_size, epochs, params, model=None, k=5, hrmod=20, lr=0.02, stop=False):\n",
    "    n_vis = train_matrix.shape[1] + train_df.shape[1]\n",
    "    train_errors = []\n",
    "    test_errors = []\n",
    "    if model is None:\n",
    "        model = network(n_vis, train_matrix.shape[1], *params)\n",
    "    optim = torch.optim.SGD(model.parameters(), lr=lr, momentum=0.9)\n",
    "\n",
    "    metrics = {\n",
    "        \"hr\": [],\n",
    "        \"r\": [],\n",
    "        \"ndcg\": []\n",
    "    }\n",
    "\n",
    "    print(\"start training\")\n",
    "    for epoch in trange(epochs):\n",
    "        model.train()\n",
    "        train_recon_error = 0  # RMSE reconstruction error initialized to 0 at the beginning of training\n",
    "        s = 0\n",
    "        \n",
    "        for user_id in range(0, train_matrix.shape[0] - batch_size, batch_size):\n",
    "            training_sample = train_matrix[user_id : user_id + batch_size]\n",
    "            v0 = convert_to_user_tensor(training_sample, train_df[user_id: user_id + batch_size])\n",
    "            \n",
    "            optim.zero_grad()            \n",
    "            vk = model(v0)\n",
    "            ratings = v0[:,:-train_df.shape[1]]\n",
    "            loss = torch.sqrt(torch.mean((ratings[ratings > -1] - vk[ratings > -1])**2))\n",
    "            loss.backward()\n",
    "            optim.step()\n",
    "            train_recon_error +=loss\n",
    "            s += 1\n",
    "            \n",
    "        train_errors.append(train_recon_error / s)\n",
    "\n",
    "        model.eval()\n",
    "        test_errors.append(score_model(model, batch_size, train_df, train_matrix, test_matrix))\n",
    "\n",
    "        if epoch % hrmod == hrmod - 1:\n",
    "            hr, r, ndcg = compute_hr(train_df, train_matrix, test_matrix, model, batch_size=batch_size)\n",
    "            metrics[\"hr\"].append(np.average(hr))\n",
    "            metrics[\"r\"].append(np.average(r))\n",
    "            metrics[\"ndcg\"].append(np.average(ndcg))\n",
    "            if stop and len(metrics[\"hr\"]) > 2:\n",
    "                hr1 = metrics[\"hr\"][-3]\n",
    "                hr2 = metrics[\"hr\"][-2]\n",
    "                hrnow = metrics[\"hr\"][-1]\n",
    "                if hrnow < hr1 and hrnow < hr2:\n",
    "                    print(\"Hr decreasing => stopping training\")\n",
    "                    break\n",
    "\n",
    "\n",
    "    import matplotlib.pyplot as plt\n",
    "    # Plot the RMSE reconstruction error with respect to increasing number of epochs\n",
    "    plt.plot(np.arange(1, len(train_errors), 1), torch.Tensor(train_errors[1:], device='cpu'), label=\"train\")\n",
    "    plt.plot(np.arange(1, len(train_errors), 1), torch.Tensor(test_errors[1:], device='cpu'), label=\"test\")\n",
    "    plt.ylabel('Error')\n",
    "    plt.xlabel('Epoch')\n",
    "    plt.legend()\n",
    "\n",
    "\n",
    "    plt.savefig(f'ann-{params_to_str(params)}-{batch_size}-{epochs}.jpg')\n",
    "    plt.show()\n",
    "    plt.clf()\n",
    "\n",
    "    return model, metrics\n",
    "\n",
    "# Evaluate the RBM on test set\n",
    "# test_recon_error = score_model(rbm)\n",
    "# print(\"Final error\", test_recon_error)\n"
   ]
  },
  {
   "cell_type": "markdown",
   "metadata": {},
   "source": [
    "rbm"
   ]
  },
  {
   "cell_type": "code",
   "execution_count": 19,
   "metadata": {
    "pycharm": {
     "is_executing": true
    }
   },
   "outputs": [],
   "source": [
    "# rbm10 = create_rbm(train_matrix, test_matrix, 1000, 10000, 200)"
   ]
  },
  {
   "cell_type": "code",
   "execution_count": 20,
   "metadata": {
    "pycharm": {
     "is_executing": false
    }
   },
   "outputs": [],
   "source": [
    "# torch.save(rbm10.state_dict(), \"./ann-20-50-20-steam400-train0\")"
   ]
  },
  {
   "cell_type": "markdown",
   "metadata": {},
   "source": [
    "hr"
   ]
  },
  {
   "cell_type": "code",
   "execution_count": 21,
   "metadata": {},
   "outputs": [],
   "source": [
    "# hr, r, ndcg = compute_hr(train_matrix, test_matrix, rbm10, k=10, batch_size=15000)"
   ]
  },
  {
   "cell_type": "code",
   "execution_count": 22,
   "metadata": {},
   "outputs": [],
   "source": [
    "# print(np.average(hr), np.average(r), np.average(ndcg))"
   ]
  },
  {
   "cell_type": "code",
   "execution_count": 23,
   "metadata": {
    "collapsed": false,
    "pycharm": {
     "is_executing": false,
     "name": "#%% load model\n"
    }
   },
   "outputs": [],
   "source": [
    "# rbm = RBM(n_vis, n_hidden)\n",
    "# rbm.load_state_dict(torch.load(\"./network\"))\n",
    "# rbm.eval()"
   ]
  },
  {
   "cell_type": "markdown",
   "metadata": {},
   "source": [
    "# Hyperparam Tuning"
   ]
  },
  {
   "cell_type": "code",
   "execution_count": 24,
   "metadata": {},
   "outputs": [],
   "source": [
    "train_matrix = get_sparse_matrix(train0)\n",
    "test_matrix = get_sparse_matrix(test0)"
   ]
  },
  {
   "cell_type": "code",
   "execution_count": 57,
   "metadata": {},
   "outputs": [
    {
     "ename": "TypeError",
     "evalue": "create_rbm() missing 1 required positional argument: 'params'",
     "output_type": "error",
     "traceback": [
      "\u001b[1;31m---------------------------------------------------------------------------\u001b[0m",
      "\u001b[1;31mTypeError\u001b[0m                                 Traceback (most recent call last)",
      "\u001b[1;32m~\\AppData\\Local\\Temp/ipykernel_22356/1018117163.py\u001b[0m in \u001b[0;36m<module>\u001b[1;34m\u001b[0m\n\u001b[0;32m     14\u001b[0m         \u001b[1;32mfor\u001b[0m \u001b[0ml3\u001b[0m \u001b[1;32min\u001b[0m \u001b[0ml3s\u001b[0m\u001b[1;33m:\u001b[0m\u001b[1;33m\u001b[0m\u001b[1;33m\u001b[0m\u001b[0m\n\u001b[0;32m     15\u001b[0m             \u001b[1;32mfor\u001b[0m \u001b[0mdropout\u001b[0m \u001b[1;32min\u001b[0m \u001b[0mdropouts\u001b[0m\u001b[1;33m:\u001b[0m\u001b[1;33m\u001b[0m\u001b[1;33m\u001b[0m\u001b[0m\n\u001b[1;32m---> 16\u001b[1;33m                 \u001b[0mmodel\u001b[0m\u001b[1;33m,\u001b[0m \u001b[0mmetrics\u001b[0m \u001b[1;33m=\u001b[0m \u001b[0mcreate_rbm\u001b[0m\u001b[1;33m(\u001b[0m\u001b[0mtrain_matrix\u001b[0m\u001b[1;33m,\u001b[0m \u001b[0mtest_matrix\u001b[0m\u001b[1;33m,\u001b[0m \u001b[1;36m10000\u001b[0m\u001b[1;33m,\u001b[0m \u001b[0mepochs\u001b[0m\u001b[1;33m,\u001b[0m \u001b[1;33m(\u001b[0m\u001b[0mdropout\u001b[0m\u001b[1;33m,\u001b[0m \u001b[0ml1\u001b[0m\u001b[1;33m,\u001b[0m \u001b[0ml2\u001b[0m\u001b[1;33m,\u001b[0m \u001b[0ml3\u001b[0m\u001b[1;33m,\u001b[0m \u001b[0mactivation\u001b[0m\u001b[1;33m)\u001b[0m\u001b[1;33m,\u001b[0m \u001b[0mhrmod\u001b[0m\u001b[1;33m=\u001b[0m\u001b[1;36m20\u001b[0m\u001b[1;33m)\u001b[0m\u001b[1;33m\u001b[0m\u001b[1;33m\u001b[0m\u001b[0m\n\u001b[0m\u001b[0;32m     17\u001b[0m \u001b[1;33m\u001b[0m\u001b[0m\n\u001b[0;32m     18\u001b[0m                 \u001b[0mtorch\u001b[0m\u001b[1;33m.\u001b[0m\u001b[0msave\u001b[0m\u001b[1;33m(\u001b[0m\u001b[0mmodel\u001b[0m\u001b[1;33m.\u001b[0m\u001b[0mstate_dict\u001b[0m\u001b[1;33m(\u001b[0m\u001b[1;33m)\u001b[0m\u001b[1;33m,\u001b[0m \u001b[1;34mf\"./ann-rating-{l1}-{l2}-{l3}-{dropout}-steam{epochs}-train0\"\u001b[0m\u001b[1;33m)\u001b[0m\u001b[1;33m\u001b[0m\u001b[1;33m\u001b[0m\u001b[0m\n",
      "\u001b[1;31mTypeError\u001b[0m: create_rbm() missing 1 required positional argument: 'params'"
     ]
    }
   ],
   "source": [
    "l1s = np.arange(16, 33, 16)\n",
    "l2s = np.arange(24, 65, 8)\n",
    "l3s = np.arange(24, 129, 16)\n",
    "# l1s = [48]\n",
    "# l2s = [32, 48]\n",
    "# dropouts = [0.1, 0.2, 0.3]\n",
    "dropouts = [0.1]\n",
    "\n",
    "epochs = 100\n",
    "activation = torch.tanh\n",
    "\n",
    "for l1 in l1s:\n",
    "    for l2 in l2s:\n",
    "        for l3 in l3s:\n",
    "            for dropout in dropouts:\n",
    "                model, metrics = create_rbm(train_matrix, test_matrix, 10000, epochs, (dropout, l1, l2, l3, activation), hrmod=20)\n",
    "                \n",
    "                torch.save(model.state_dict(), f\"./ann-rating-{l1}-{l2}-{l3}-{dropout}-steam{epochs}-train0\")\n",
    "                with open(f\"metrics-rating-{l1}-{l2}-{l3}-{dropout}.json\", \"w\") as f:\n",
    "                    f.write(json.dumps(metrics))"
   ]
  },
  {
   "cell_type": "code",
   "execution_count": 34,
   "metadata": {},
   "outputs": [
    {
     "name": "stdout",
     "output_type": "stream",
     "text": [
      "start training\n"
     ]
    },
    {
     "name": "stderr",
     "output_type": "stream",
     "text": [
      " 50%|████▉     | 399/800 [05:13<05:14,  1.27it/s]"
     ]
    },
    {
     "name": "stdout",
     "output_type": "stream",
     "text": [
      "Hr decreasing => stopping training\n"
     ]
    },
    {
     "name": "stderr",
     "output_type": "stream",
     "text": [
      "\n"
     ]
    },
    {
     "data": {
      "image/png": "[encoded data removed]",
      "text/plain": [
       "<Figure size 432x288 with 1 Axes>"
      ]
     },
     "metadata": {
      "needs_background": "light"
     },
     "output_type": "display_data"
    },
    {
     "data": {
      "text/plain": [
       "<Figure size 432x288 with 0 Axes>"
      ]
     },
     "metadata": {},
     "output_type": "display_data"
    }
   ],
   "source": [
    "from datetime import datetime\n",
    "nowstring = datetime.now().strftime('%H-%M-%S')\n",
    "dropout, l1, l2, l3, activation, lr = 0.2, 128, 64, 16, F.relu, 0.01\n",
    "epochs = 800\n",
    "user_df = train0[[\"total_playtime\", \"total_playtime_2weeks\", \"total_items\"]]\n",
    "model, metrics = create_rbm(user_df, train_matrix, test_matrix, 10000, epochs, (dropout, l1, l2, l3, activation), hrmod=50, lr=lr, stop=True)\n",
    "\n",
    "torch.save(model.state_dict(), f\"./ann-totals-1-{l1}-{l2}-{l3}-{dropout}-steam{epochs}-train0-{nowstring}\")\n",
    "with open(f\"metrics-{activation.__name__}-totals-1-{epochs}-{l1}-{l2}-{l3}-{dropout}-lr{lr}-{nowstring}.json\", \"w\") as f:\n",
    "    f.write(json.dumps(metrics))"
   ]
  },
  {
   "cell_type": "code",
   "execution_count": 27,
   "metadata": {},
   "outputs": [
    {
     "data": {
      "text/plain": [
       "{'hr': [0.02092, 0.02184, 0.05784, 0.07898, 0.10908, 0.13518, 0.1385, 0.14902, 0.17202, 0.17518, 0.17642, 0.17554, 0.16718], 'r': [0.0053179523809523815, 0.005455738095238096, 0.015239912698412697, 0.02092242857142857, 0.027974396825396826, 0.035938142857142856, 0.03684548412698412, 0.03952526984126984, 0.04602168253968254, 0.04685523015873016, 0.04698396825396825, 0.04672749206349206, 0.04464774603174603], 'ndcg': [0.003014347970197977, 0.0039156740634525514, 0.010858190529148475, 0.018583935004358322, 0.023416993533887372, 0.02747981290640434, 0.02871717675759566, 0.030487069005512932, 0.033653672359557366, 0.03377645054226801, 0.034044765153482315, 0.03396490038177297, 0.03296249616614434]}"
      ]
     },
     "execution_count": 27,
     "metadata": {},
     "output_type": "execute_result"
    }
   ],
   "source": []
  },
  {
   "cell_type": "code",
   "execution_count": 27,
   "metadata": {},
   "outputs": [],
   "source": [
    "compute_hr(user_df, train_matrix, test_matrix, model, batch_size=10000)"
   ]
  },
  {
   "cell_type": "code",
   "execution_count": 44,
   "metadata": {},
   "outputs": [
    {
     "name": "stdout",
     "output_type": "stream",
     "text": [
      "0.20951273915365523\n",
      "0.11312144295792312\n",
      "0.06839786776709574\n"
     ]
    }
   ],
   "source": [
    "h, r, n = compute_hr(train0.iloc[:,-3:], train_matrix, test_matrix, model, batch_size=2000, rating_cutoff=1)\n",
    "print(np.average(h))\n",
    "print(np.average(r))\n",
    "print(np.average(n))"
   ]
  },
  {
   "cell_type": "code",
   "execution_count": 27,
   "metadata": {},
   "outputs": [
    {
     "name": "stdout",
     "output_type": "stream",
     "text": [
      "{'hr': [0.1266, 0.16632, 0.17904, 0.17428, 0.1739],\n",
      " 'ndcg': [0.02502139818524457,\n",
      "          0.03166694717147871,\n",
      "          0.03542391021837664,\n",
      "          0.034812449886339074,\n",
      "          0.03482520598587783],\n",
      " 'r': [0.033360992063492065,\n",
      "       0.045283396825396824,\n",
      "       0.04962761111111111,\n",
      "       0.04837514285714285,\n",
      "       0.04804781746031746]}\n"
     ]
    }
   ],
   "source": [
    "from pprint import pprint\n",
    "pprint(metrics)"
   ]
  },
  {
   "cell_type": "markdown",
   "metadata": {},
   "source": [
    "# Recommend for set users"
   ]
  },
  {
   "cell_type": "code",
   "execution_count": 27,
   "metadata": {},
   "outputs": [],
   "source": [
    "def recommend(model: network, train_df, train_matrix, test_matrix, userid, k=10):\n",
    "    vt = test_matrix[userid]  # target\n",
    "    vt = convert_sparse_matrix_to_sparse_tensor(vt)\n",
    "    vt = vt.to_dense()\n",
    "    vt = vt.sub(1)\n",
    "    if torch.cuda.is_available():\n",
    "        vt = vt.cuda()\n",
    "\n",
    "    # ground truth\n",
    "    users, movies = (vt > -1).nonzero(as_tuple=True)\n",
    "\n",
    "    indices = torch.stack([users, movies])\n",
    "    shape = (1, train_matrix.shape[1])\n",
    "    target = torch.sparse.LongTensor(indices, torch.add(vt[vt > -1].flatten(), 1), torch.Size(shape))\n",
    "    target_dense = target.to_dense()\n",
    "\n",
    "    target_rating, target_movie = torch.topk(target_dense, k, 1)\n",
    "    # target_movie[target_rating < 3] = -1 # remove all bad movies from top k\n",
    "\n",
    "    # values, _ = torch.max(target_rating, dim=1)\n",
    "    # users_with_target = (values > 0).nonzero(as_tuple=True)[0].cpu().tolist()\n",
    "\n",
    "\n",
    "    # predicted\n",
    "    v = train_matrix[userid]  # training set inputs are used to activate neurons of my RBM\n",
    "    v = convert_to_user_tensor(v, train_df.iloc[userid, ])\n",
    "    ratings = v[:,:-3]\n",
    "    recommended = model(v)\n",
    "    recommended[ratings != -1] = -10\n",
    "    predicted_rating, predicted_movie = torch.topk(recommended, k)\n",
    "\n",
    "\n",
    "    # all recommendations\n",
    "    user_target = target_movie[0][target_rating[0] > 0].cpu().tolist()\n",
    "    user_pred = predicted_movie[0].cpu().tolist()\n",
    "\n",
    "    counter = 0\n",
    "    total = min(k, len(user_target))\n",
    "    for target in user_target:\n",
    "        if target in user_pred:\n",
    "            counter += 1\n",
    "    # counter = len(recommendations)\n",
    "\n",
    "    recall = counter / total\n",
    "\n",
    "    # nDCG\n",
    "    idcg = np.sum([1 / np.log2(i+2) for i in range(min(k, len(user_target)))])\n",
    "    dcg = 0\n",
    "    for i, r in enumerate(user_pred):\n",
    "        if r in user_target:\n",
    "            dcg += 1 / np.log2(i+2)\n",
    "\n",
    "    ndcg = dcg / idcg\n",
    "    return user_pred, user_target, recall, ndcg"
   ]
  },
  {
   "cell_type": "code",
   "execution_count": 60,
   "metadata": {},
   "outputs": [
    {
     "name": "stdout",
     "output_type": "stream",
     "text": [
      "([3, 14, 39, 5, 17, 11, 82, 20, 62, 35], [432, 60], 0.0, 0.0)\n",
      "([3, 14, 39, 5, 17, 11, 82, 20, 62, 35], [84, 25], 0.0, 0.0)\n",
      "([3, 14, 39, 5, 11, 82, 20, 62, 35, 41], [329], 0.0, 0.0)\n"
     ]
    }
   ],
   "source": [
    "print(recommend(model, train0.iloc[:,-3:], train_matrix, test_matrix, 30000))\n",
    "print(recommend(model, train0.iloc[:,-3:], train_matrix, test_matrix, 30001))\n",
    "print(recommend(model, train0.iloc[:,-3:], train_matrix, test_matrix, 42069))"
   ]
  },
  {
   "cell_type": "code",
   "execution_count": 44,
   "metadata": {},
   "outputs": [
    {
     "name": "stdout",
     "output_type": "stream",
     "text": [
      "['Black Rose', 'Shadow Warrior', 'Tropico 4', 'Cry of Fear', 'Resident Evil Revelations / Biohazard Revelations', 'Riders of Icarus', 'Eternal Senia', 'Resident Evil 6 / Biohazard 6', 'FINAL FANTASY X/X-2 HD Remaster', 'Dying Light', 'DARK SOULS™ II: Scholar of the First Sin']\n",
      "['Resident Evil Revelations 2 / Biohazard Revelations 2', 'Fractured Space']\n",
      "['Arma 3', 'Mount &amp; Blade: Warband', 'The Binding of Isaac: Rebirth', 'Borderlands: The Pre-Sequel', 'Dungeon Defenders', 'Kerbal Space Program', 'Dishonored', 'Left 4 Dead', 'The Forest', 'The Walking Dead']\n",
      "\n",
      "['Double Action: Boogaloo', 'EVGA Precision XOC', 'World of Soccer online', 'Brick-Force', 'BlackShot: Mercenary Warfare FPS', 'Block N Load', 'Survarium', 'Codename CURE', 'sZone-Online', 'BLOCKADE 3D', 'WARMODE']\n",
      "['GunZ 2: The Second Duel', 'Dungeon Defenders II']\n",
      "['Arma 3', 'Mount &amp; Blade: Warband', 'The Binding of Isaac: Rebirth', 'Borderlands: The Pre-Sequel', 'Dungeon Defenders', 'Kerbal Space Program', 'Dishonored', 'Left 4 Dead', 'The Forest', 'The Walking Dead']\n",
      "\n",
      "['Dungeon Defenders', 'Cry of Fear', 'The Forest', 'Dead Realm', 'Damned']\n",
      "['Space Hack']\n",
      "['Arma 3', 'Mount &amp; Blade: Warband', 'The Binding of Isaac: Rebirth', 'Borderlands: The Pre-Sequel', 'Kerbal Space Program', 'Dishonored', 'Left 4 Dead', 'The Walking Dead', 'Neverwinter', 'Total War: SHOGUN 2']\n",
      "\n"
     ]
    }
   ],
   "source": [
    "for user in [30000, 30001, 42069]:\n",
    "    inventory = train0.loc[user][\"item_id\"]\n",
    "    recommended, target, r, ndcg = recommend(model, train0.iloc[:,-3:], train_matrix, test_matrix, user)\n",
    "    print(games.loc[inventory][\"title\"].tolist())\n",
    "    print(games.loc[target][\"title\"].tolist())\n",
    "    print(games.loc[recommended][\"title\"].tolist())\n",
    "    print()\n"
   ]
  },
  {
   "cell_type": "code",
   "execution_count": 47,
   "metadata": {},
   "outputs": [
    {
     "name": "stdout",
     "output_type": "stream",
     "text": [
      "0.09859519408502773\n",
      "0.03190819470117067\n",
      "0.027869848559032552\n"
     ]
    }
   ],
   "source": [
    "h, r, n = compute_hr(train0.iloc[:,-3:], train_matrix, test_matrix, model, k=5)\n",
    "print(np.average(h))\n",
    "print(np.average(r))\n",
    "print(np.average(n))"
   ]
  },
  {
   "cell_type": "code",
   "execution_count": 46,
   "metadata": {},
   "outputs": [
    {
     "name": "stdout",
     "output_type": "stream",
     "text": [
      "0.27049907578558224\n",
      "0.0843493876164727\n",
      "0.04674087290171155\n"
     ]
    }
   ],
   "source": [
    "h, r, n = compute_hr(train0.iloc[:,-3:], train_matrix, test_matrix, model, k=20)\n",
    "print(np.average(h))\n",
    "print(np.average(r))\n",
    "print(np.average(n))"
   ]
  }
 ],
 "metadata": {
  "interpreter": {
   "hash": "ac59ebe37160ed0dfa835113d9b8498d9f09ceb179beaac4002f036b9467c963"
  },
  "kernelspec": {
   "display_name": "PyCharm (ai-project)",
   "language": "python",
   "name": "python3"
  },
  "language_info": {
   "codemirror_mode": {
    "name": "ipython",
    "version": 3
   },
   "file_extension": ".py",
   "mimetype": "text/x-python",
   "name": "python",
   "nbconvert_exporter": "python",
   "pygments_lexer": "ipython3",
   "version": "3.9.7"
  },
  "orig_nbformat": 4,
  "pycharm": {
   "stem_cell": {
    "cell_type": "raw",
    "metadata": {
     "collapsed": false
    },
    "source": []
   }
  }
 },
 "nbformat": 4,
 "nbformat_minor": 2
}
