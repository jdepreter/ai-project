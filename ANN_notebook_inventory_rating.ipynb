{
 "cells": [
  {
   "cell_type": "markdown",
   "metadata": {},
   "source": [
    "# Artificial neural network"
   ]
  },
  {
   "cell_type": "code",
   "execution_count": 1,
   "metadata": {
    "pycharm": {
     "is_executing": false
    }
   },
   "outputs": [],
   "source": [
    "# Import PyTorch library\n",
    "import torch\n",
    "import torch.nn as nn\n",
    "import torch.nn.functional as F\n",
    "from torch import nn, flatten, device\n",
    "from tqdm import tqdm, trange\n",
    "from scipy import sparse\n",
    "import json"
   ]
  },
  {
   "cell_type": "code",
   "execution_count": 2,
   "metadata": {},
   "outputs": [],
   "source": [
    "import gc\n",
    "gc.collect()\n",
    "torch.cuda.empty_cache()"
   ]
  },
  {
   "cell_type": "markdown",
   "source": [
    "## model definition"
   ],
   "metadata": {
    "collapsed": false
   }
  },
  {
   "cell_type": "code",
   "execution_count": 31,
   "metadata": {
    "pycharm": {
     "is_executing": false
    }
   },
   "outputs": [],
   "source": [
    "# https://github.com/khanhnamle1994/MetaRec/blob/b5e36cb579a88b32cdfb728f35f645d76b24ad95/Boltzmann-Machines-Experiments/RBM-CF-PyTorch/rbm.py#L23\n",
    "# Create the Restricted Boltzmann Machine architecture\n",
    "class network(nn.Module):\n",
    "    def __init__(self, input_size, output_size, dropout, l1, l2, l3, activation=F.relu):\n",
    "        super().__init__()\n",
    "        \n",
    "        # use 3 layers and fc layer\n",
    "        self.activation = activation\n",
    "\n",
    "        self.dropout = nn.Dropout(dropout)\n",
    "        if torch.cuda.is_available():\n",
    "            self.device = device(\"cuda\")\n",
    "\n",
    "        self.lin1 = nn.Linear(input_size, l1).to(self.device)\n",
    "        self.lin2 = nn.Linear(l1, l2).to(self.device)\n",
    "        self.lin3 = nn.Linear(l2, l3).to(self.device)\n",
    "        self.fc = nn.Linear(l3, output_size).to(self.device)\n",
    "\n",
    "    def forward(self, x):\n",
    "        if torch.cuda.is_available():\n",
    "            x = x.to(self.device)\n",
    "\n",
    "        x = self.activation(self.lin1(x))\n",
    "        x = self.activation(self.lin2(x))\n",
    "        x = self.activation(self.lin3(x))\n",
    "\n",
    "        x = self.dropout(x)\n",
    "        output = self.fc(x)\n",
    "        return output"
   ]
  },
  {
   "cell_type": "code",
   "execution_count": 4,
   "metadata": {
    "pycharm": {
     "is_executing": false
    }
   },
   "outputs": [],
   "source": [
    "cuda = torch.device('cuda')"
   ]
  },
  {
   "cell_type": "markdown",
   "metadata": {},
   "source": [
    "## General Imports"
   ]
  },
  {
   "cell_type": "code",
   "execution_count": 5,
   "metadata": {
    "pycharm": {
     "is_executing": false
    }
   },
   "outputs": [],
   "source": [
    "import numpy as np\n",
    "import pandas as pd\n",
    "from tqdm import tqdm\n",
    "import os\n",
    "\n",
    "tqdm.pandas() #for progres_apply etc."
   ]
  },
  {
   "cell_type": "markdown",
   "metadata": {},
   "source": [
    " \n",
    "## Reading in data"
   ]
  },
  {
   "cell_type": "code",
   "execution_count": 6,
   "metadata": {},
   "outputs": [],
   "source": [
    "def load_interactions(path, n_splits=5):\n",
    "    \"\"\"\n",
    "    load in the interactions_splits.pkl.gz file with our data for the various users\n",
    "    :param path: path location of the data\n",
    "    :param n_splits: split in n_split splits\n",
    "    :return: interactions\n",
    "    \"\"\"\n",
    "    df = pd.read_pickle(os.path.join(os.getcwd(), path))\n",
    "    df[['interactions', 'train', 'val', 'test']] = df[['interactions', 'train', 'val', 'test']].applymap(lambda x: np.array(x, dtype=np.int32))\n",
    "    interactions_dict = {}\n",
    "    for split in trange(n_splits):\n",
    "        for column in ['train', 'val', 'test']:\n",
    "            interactions_dict[split, column] = pd.DataFrame({\n",
    "                'user_id': df['user_id'],\n",
    "                'steam_id': df['steam_id'],\n",
    "                'item_id': df[column].apply(lambda x: x[split, 0]),\n",
    "                'playtime_forever': df[column].apply(lambda x: x[split, 1]),\n",
    "                'playtime_2weeks': df[column].apply(lambda x: x[split, 2])})\n",
    "    return interactions_dict"
   ]
  },
  {
   "cell_type": "code",
   "execution_count": 7,
   "metadata": {},
   "outputs": [
    {
     "name": "stderr",
     "output_type": "stream",
     "text": [
      "100%|██████████| 5/5 [00:00<00:00,  8.06it/s]\n"
     ]
    },
    {
     "data": {
      "text/html": [
       "<div>\n",
       "<style scoped>\n",
       "    .dataframe tbody tr th:only-of-type {\n",
       "        vertical-align: middle;\n",
       "    }\n",
       "\n",
       "    .dataframe tbody tr th {\n",
       "        vertical-align: top;\n",
       "    }\n",
       "\n",
       "    .dataframe thead th {\n",
       "        text-align: right;\n",
       "    }\n",
       "</style>\n",
       "<table border=\"1\" class=\"dataframe\">\n",
       "  <thead>\n",
       "    <tr style=\"text-align: right;\">\n",
       "      <th></th>\n",
       "      <th>publisher</th>\n",
       "      <th>genres</th>\n",
       "      <th>app_name</th>\n",
       "      <th>title</th>\n",
       "      <th>url</th>\n",
       "      <th>release_date</th>\n",
       "      <th>tags</th>\n",
       "      <th>discount_price</th>\n",
       "      <th>reviews_url</th>\n",
       "      <th>specs</th>\n",
       "      <th>price</th>\n",
       "      <th>early_access</th>\n",
       "      <th>id</th>\n",
       "      <th>developer</th>\n",
       "      <th>sentiment</th>\n",
       "      <th>metascore</th>\n",
       "      <th>users_count</th>\n",
       "    </tr>\n",
       "  </thead>\n",
       "  <tbody>\n",
       "    <tr>\n",
       "      <th>0</th>\n",
       "      <td>Rockstar Games</td>\n",
       "      <td>[Action]</td>\n",
       "      <td>Grand Theft Auto: Episodes from Liberty City</td>\n",
       "      <td>Grand Theft Auto: Episodes from Liberty City</td>\n",
       "      <td>http://store.steampowered.com/app/12220/Grand_...</td>\n",
       "      <td>2010-04-12</td>\n",
       "      <td>[Open World, Action, Third Person, Multiplayer...</td>\n",
       "      <td>NaN</td>\n",
       "      <td>http://steamcommunity.com/app/12220/reviews/?b...</td>\n",
       "      <td>[Single-player, Multi-player]</td>\n",
       "      <td>19.99</td>\n",
       "      <td>False</td>\n",
       "      <td>12220</td>\n",
       "      <td>Rockstar North / Toronto</td>\n",
       "      <td>Mostly Positive</td>\n",
       "      <td>NaN</td>\n",
       "      <td>7597</td>\n",
       "    </tr>\n",
       "    <tr>\n",
       "      <th>1</th>\n",
       "      <td>Valve</td>\n",
       "      <td>[Action]</td>\n",
       "      <td>Half-Life</td>\n",
       "      <td>Half-Life</td>\n",
       "      <td>http://store.steampowered.com/app/70/HalfLife/</td>\n",
       "      <td>1998-11-08</td>\n",
       "      <td>[FPS, Classic, Action, Sci-fi, Singleplayer, S...</td>\n",
       "      <td>NaN</td>\n",
       "      <td>http://steamcommunity.com/app/70/reviews/?brow...</td>\n",
       "      <td>[Single-player, Multi-player, Valve Anti-Cheat...</td>\n",
       "      <td>9.99</td>\n",
       "      <td>False</td>\n",
       "      <td>70</td>\n",
       "      <td>Valve</td>\n",
       "      <td>Overwhelmingly Positive</td>\n",
       "      <td>96</td>\n",
       "      <td>7575</td>\n",
       "    </tr>\n",
       "    <tr>\n",
       "      <th>2</th>\n",
       "      <td>Trion Worlds, Inc.</td>\n",
       "      <td>[Action, Free to Play, Massively Multiplayer, ...</td>\n",
       "      <td>Defiance</td>\n",
       "      <td>Defiance</td>\n",
       "      <td>http://store.steampowered.com/app/224600/Defia...</td>\n",
       "      <td>2014-06-04</td>\n",
       "      <td>[Free to Play, Action, Open World, Massively M...</td>\n",
       "      <td>NaN</td>\n",
       "      <td>http://steamcommunity.com/app/224600/reviews/?...</td>\n",
       "      <td>[Multi-player, MMO, Co-op, Steam Trading Cards...</td>\n",
       "      <td>Free to Play</td>\n",
       "      <td>False</td>\n",
       "      <td>224600</td>\n",
       "      <td>Trion Worlds, Inc.</td>\n",
       "      <td>Mostly Positive</td>\n",
       "      <td>64</td>\n",
       "      <td>7539</td>\n",
       "    </tr>\n",
       "    <tr>\n",
       "      <th>3</th>\n",
       "      <td>Bohemia Interactive</td>\n",
       "      <td>[Action, Simulation, Strategy]</td>\n",
       "      <td>Arma 3</td>\n",
       "      <td>Arma 3</td>\n",
       "      <td>http://store.steampowered.com/app/107410/Arma_3/</td>\n",
       "      <td>2013-09-12</td>\n",
       "      <td>[Simulation, Military, Multiplayer, Realistic,...</td>\n",
       "      <td>NaN</td>\n",
       "      <td>http://steamcommunity.com/app/107410/reviews/?...</td>\n",
       "      <td>[Single-player, Multi-player, Online Multi-Pla...</td>\n",
       "      <td>39.99</td>\n",
       "      <td>False</td>\n",
       "      <td>107410</td>\n",
       "      <td>Bohemia Interactive</td>\n",
       "      <td>Very Positive</td>\n",
       "      <td>74</td>\n",
       "      <td>7527</td>\n",
       "    </tr>\n",
       "    <tr>\n",
       "      <th>4</th>\n",
       "      <td>Unknown Worlds Entertainment</td>\n",
       "      <td>[Action, Indie, Strategy]</td>\n",
       "      <td>Natural Selection 2</td>\n",
       "      <td>Natural Selection 2</td>\n",
       "      <td>http://store.steampowered.com/app/4920/Natural...</td>\n",
       "      <td>2012-10-30</td>\n",
       "      <td>[Multiplayer, Strategy, FPS, Team-Based, Actio...</td>\n",
       "      <td>NaN</td>\n",
       "      <td>http://steamcommunity.com/app/4920/reviews/?br...</td>\n",
       "      <td>[Multi-player, Online Multi-Player, Steam Achi...</td>\n",
       "      <td>9.99</td>\n",
       "      <td>False</td>\n",
       "      <td>4920</td>\n",
       "      <td>Unknown Worlds Entertainment</td>\n",
       "      <td>Very Positive</td>\n",
       "      <td>80</td>\n",
       "      <td>7502</td>\n",
       "    </tr>\n",
       "  </tbody>\n",
       "</table>\n",
       "</div>"
      ],
      "text/plain": [
       "                      publisher  \\\n",
       "0                Rockstar Games   \n",
       "1                         Valve   \n",
       "2            Trion Worlds, Inc.   \n",
       "3           Bohemia Interactive   \n",
       "4  Unknown Worlds Entertainment   \n",
       "\n",
       "                                              genres  \\\n",
       "0                                           [Action]   \n",
       "1                                           [Action]   \n",
       "2  [Action, Free to Play, Massively Multiplayer, ...   \n",
       "3                     [Action, Simulation, Strategy]   \n",
       "4                          [Action, Indie, Strategy]   \n",
       "\n",
       "                                       app_name  \\\n",
       "0  Grand Theft Auto: Episodes from Liberty City   \n",
       "1                                     Half-Life   \n",
       "2                                      Defiance   \n",
       "3                                        Arma 3   \n",
       "4                           Natural Selection 2   \n",
       "\n",
       "                                          title  \\\n",
       "0  Grand Theft Auto: Episodes from Liberty City   \n",
       "1                                     Half-Life   \n",
       "2                                      Defiance   \n",
       "3                                        Arma 3   \n",
       "4                           Natural Selection 2   \n",
       "\n",
       "                                                 url release_date  \\\n",
       "0  http://store.steampowered.com/app/12220/Grand_...   2010-04-12   \n",
       "1     http://store.steampowered.com/app/70/HalfLife/   1998-11-08   \n",
       "2  http://store.steampowered.com/app/224600/Defia...   2014-06-04   \n",
       "3   http://store.steampowered.com/app/107410/Arma_3/   2013-09-12   \n",
       "4  http://store.steampowered.com/app/4920/Natural...   2012-10-30   \n",
       "\n",
       "                                                tags  discount_price  \\\n",
       "0  [Open World, Action, Third Person, Multiplayer...             NaN   \n",
       "1  [FPS, Classic, Action, Sci-fi, Singleplayer, S...             NaN   \n",
       "2  [Free to Play, Action, Open World, Massively M...             NaN   \n",
       "3  [Simulation, Military, Multiplayer, Realistic,...             NaN   \n",
       "4  [Multiplayer, Strategy, FPS, Team-Based, Actio...             NaN   \n",
       "\n",
       "                                         reviews_url  \\\n",
       "0  http://steamcommunity.com/app/12220/reviews/?b...   \n",
       "1  http://steamcommunity.com/app/70/reviews/?brow...   \n",
       "2  http://steamcommunity.com/app/224600/reviews/?...   \n",
       "3  http://steamcommunity.com/app/107410/reviews/?...   \n",
       "4  http://steamcommunity.com/app/4920/reviews/?br...   \n",
       "\n",
       "                                               specs         price  \\\n",
       "0                      [Single-player, Multi-player]         19.99   \n",
       "1  [Single-player, Multi-player, Valve Anti-Cheat...          9.99   \n",
       "2  [Multi-player, MMO, Co-op, Steam Trading Cards...  Free to Play   \n",
       "3  [Single-player, Multi-player, Online Multi-Pla...         39.99   \n",
       "4  [Multi-player, Online Multi-Player, Steam Achi...          9.99   \n",
       "\n",
       "   early_access      id                     developer  \\\n",
       "0         False   12220      Rockstar North / Toronto   \n",
       "1         False      70                         Valve   \n",
       "2         False  224600            Trion Worlds, Inc.   \n",
       "3         False  107410           Bohemia Interactive   \n",
       "4         False    4920  Unknown Worlds Entertainment   \n",
       "\n",
       "                 sentiment metascore  users_count  \n",
       "0          Mostly Positive       NaN         7597  \n",
       "1  Overwhelmingly Positive        96         7575  \n",
       "2          Mostly Positive        64         7539  \n",
       "3            Very Positive        74         7527  \n",
       "4            Very Positive        80         7502  "
      ]
     },
     "execution_count": 7,
     "metadata": {},
     "output_type": "execute_result"
    }
   ],
   "source": [
    "interactions = load_interactions(\"./data-cleaned/interactions_splits.pkl.gz\")\n",
    "interactions[0, 'train'].head()\n",
    "games = pd.read_pickle(os.path.join(os.getcwd(), \"./data-cleaned/games.pkl.gz\"))\n",
    "games.head()"
   ]
  },
  {
   "cell_type": "code",
   "execution_count": 8,
   "metadata": {},
   "outputs": [],
   "source": [
    "train0 = interactions[0, 'train']\n",
    "test0 = interactions[0, 'test']"
   ]
  },
  {
   "cell_type": "code",
   "execution_count": 9,
   "metadata": {
    "pycharm": {
     "is_executing": false
    }
   },
   "outputs": [
    {
     "data": {
      "text/plain": [
       "count    54190.000000\n",
       "mean        25.977265\n",
       "std         42.254444\n",
       "min          1.000000\n",
       "25%          5.000000\n",
       "50%         13.000000\n",
       "75%         30.000000\n",
       "max        674.000000\n",
       "Name: item_id, dtype: float64"
      ]
     },
     "execution_count": 9,
     "metadata": {},
     "output_type": "execute_result"
    }
   ],
   "source": [
    "train0[\"item_id\"].map(len).describe()"
   ]
  },
  {
   "cell_type": "code",
   "execution_count": 10,
   "metadata": {
    "pycharm": {
     "is_executing": false
    }
   },
   "outputs": [
    {
     "data": {
      "text/plain": [
       "user_id                                                 EucHellscythe\n",
       "steam_id                                            76561198072757340\n",
       "item_id             [991, 214, 4594, 1262, 30, 3449, 959, 964, 436...\n",
       "playtime_forever    [0, 0, 0, 0, 0, 0, 0, 0, 0, 0, 0, 0, 0, 0, 0, ...\n",
       "playtime_2weeks     [0, 0, 0, 0, 0, 0, 0, 0, 0, 0, 0, 0, 0, 0, 0, ...\n",
       "Name: 100, dtype: object"
      ]
     },
     "execution_count": 10,
     "metadata": {},
     "output_type": "execute_result"
    }
   ],
   "source": [
    "train0.iloc[100,:]"
   ]
  },
  {
   "cell_type": "markdown",
   "metadata": {},
   "source": [
    "## Sparse Matrix\n"
   ]
  },
  {
   "cell_type": "code",
   "execution_count": 11,
   "metadata": {
    "pycharm": {
     "is_executing": false
    }
   },
   "outputs": [],
   "source": [
    "def score_playtime(playtime):\n",
    "    \"\"\"\n",
    "    give a game a rating score between 0 and 4 \n",
    "    :param playtime: the playtime to give a score by\n",
    "    :return: 0,1,2,3 or 4 based on playtime\n",
    "    \"\"\"\n",
    "    if playtime < 120:\n",
    "        # less than 2 hrs\n",
    "        return 1\n",
    "    elif playtime < 240:\n",
    "        # less than 4 hrs\n",
    "        return 2\n",
    "    elif playtime < 600:\n",
    "        # less than 10 hrs\n",
    "        return 3\n",
    "    elif playtime < 24*60:\n",
    "        # less than 24 hrs\n",
    "        return 4\n",
    "    else:\n",
    "        return 5"
   ]
  },
  {
   "cell_type": "markdown",
   "source": [
    "### Method to create Sparse Matrix"
   ],
   "metadata": {
    "collapsed": false
   }
  },
  {
   "cell_type": "code",
   "execution_count": 12,
   "metadata": {},
   "outputs": [],
   "source": [
    "\n",
    "\n",
    "#Create scipy csr matrix\n",
    "def get_sparse_matrix(df):\n",
    "    \"\"\"\n",
    "    generate a sparse matrix of user-game pairs based on our dataframe\n",
    "    :param df: the dataframe to base the sparse matrix upon\n",
    "    :return: a sparse matrix of user-game pairs with a score based on playtime\n",
    "    \"\"\"\n",
    "    shape = (df.shape[0], games.shape[0])\n",
    "    \n",
    "    user_ids = []\n",
    "    item_ids = []\n",
    "    values = []\n",
    "    for idx, row in df.iterrows():\n",
    "        items = row['item_id']\n",
    "        user = idx\n",
    "        score = row[\"playtime_forever\"] + 2* row[\"playtime_2weeks\"]\n",
    "        \n",
    "        # recommended = row['recommended']\n",
    "        user_ids.extend([user] * len(items))\n",
    "        item_ids.extend(items)\n",
    "        values.extend([score_playtime(score[i]) for i in range(len(items))])\n",
    "    # create csr matrix\n",
    "    # values = np.ones(len(user_ids))\n",
    "    matrix = sparse.csr_matrix((values, (user_ids, item_ids)), shape=shape, dtype=np.int32)\n",
    "    return matrix"
   ]
  },
  {
   "cell_type": "code",
   "execution_count": 13,
   "metadata": {
    "pycharm": {
     "is_executing": false
    }
   },
   "outputs": [],
   "source": [
    "# test_matrix = get_sparse_matrix(test0)\n",
    "# train_matrix = get_sparse_matrix(train0)\n",
    "# train_matrix\n"
   ]
  },
  {
   "cell_type": "markdown",
   "metadata": {},
   "source": [
    "# Evaluation"
   ]
  },
  {
   "cell_type": "markdown",
   "source": [
    "## HR / Recall / NDCG Function Definitions"
   ],
   "metadata": {
    "collapsed": false
   }
  },
  {
   "cell_type": "markdown",
   "source": [
    "### Vanilla Recommendations"
   ],
   "metadata": {
    "collapsed": false
   }
  },
  {
   "cell_type": "code",
   "execution_count": 14,
   "metadata": {},
   "outputs": [],
   "source": [
    "def compute_hr(train_matrix, test_matrix, rbm, k=10, batch_size=100):\n",
    "    \"\"\"\n",
    "    compute the various metrics of our model, hr, recall and ndcg\n",
    "    :param train_matrix: the input wich our user already has\n",
    "    :param test_matrix: the games we are trying to recommend to each user\n",
    "    :param rbm: our model used to make recommendations (should here be an ANN)\n",
    "    :param k: the amount of recommendations we are going to give\n",
    "    :param batch_size: the batchsize used to work faster\n",
    "    :return: hitrates, recall, nDCG as an array, use np.average to get value\n",
    "    \"\"\"\n",
    "    hitrates = []\n",
    "    recall = []\n",
    "    nDCG = []\n",
    "    # for loop - go through every single user\n",
    "    for id_user in range(0, train_matrix.shape[0] - batch_size, batch_size): # - batch_size, batch_size):\n",
    "        v = train_matrix[id_user:id_user + batch_size]  # training set inputs are used to activate neurons of my RBM\n",
    "        vt = test_matrix[id_user:id_user + batch_size]  # target\n",
    "        if vt.getnnz() == 0:\n",
    "            continue\n",
    "\n",
    "        v = convert_sparse_matrix_to_sparse_tensor(v)\n",
    "        vt = convert_sparse_matrix_to_sparse_tensor(vt)\n",
    "        v = v.to_dense()\n",
    "        vt = vt.to_dense()\n",
    "        v = v.sub(1)\n",
    "        vt = vt.sub(1)\n",
    "\n",
    "        if torch.cuda.is_available():\n",
    "            vt = vt.cuda()\n",
    "            v = v.cuda()\n",
    "\n",
    "        # ground truth\n",
    "        users, movies = (vt > 1).nonzero(as_tuple=True)\n",
    "\n",
    "        indices = torch.stack([users, movies])\n",
    "        shape = (batch_size, train_matrix.shape[1])\n",
    "        target = torch.sparse.LongTensor(indices, torch.add(vt[vt > 1].flatten(), 1), torch.Size(shape))\n",
    "        target_dense = target.to_dense()\n",
    "\n",
    "        target_rating, target_movie = torch.topk(target_dense, k, 1)\n",
    "        # target_movie[target_rating < 3] = -1 # remove all bad movies from top k\n",
    "\n",
    "        values, _ = torch.max(target_rating, dim=1)\n",
    "        users_with_target = (values > 0).nonzero(as_tuple=True)[0].cpu().tolist()\n",
    "\n",
    "\n",
    "        # predicted\n",
    "        # _, h = rbm.sample_h(v)\n",
    "        # recommended, _ = rbm.sample_v(h)\n",
    "        recommended = rbm(v)\n",
    "        recommended[v != -1] = -10\n",
    "        predicted_rating, predicted_movie = torch.topk(recommended, k)\n",
    "\n",
    "        # TODO optimize range s.t. users without target are skipped\n",
    "        for user in users_with_target:\n",
    "\n",
    "            # all recommendations\n",
    "            user_target = target_movie[user][target_rating[user] > 0].cpu().tolist()\n",
    "            user_pred = predicted_movie[user].cpu().tolist()\n",
    "\n",
    "            counter = 0\n",
    "            total = min(k, len(user_target))\n",
    "            for target in user_target:\n",
    "                if target in user_pred:\n",
    "                    counter += 1\n",
    "            # counter = len(recommendations)\n",
    "\n",
    "            recall.append(counter / total)\n",
    "            hitrates.append(min(1, counter))\n",
    "\n",
    "            # nDCG\n",
    "            idcg = np.sum([1 / np.log2(i+2) for i in range(min(k, len(user_target)))])\n",
    "            dcg = 0\n",
    "            for i, r in enumerate(user_pred):\n",
    "                if r in user_target:\n",
    "                    dcg += 1 / np.log2(i+2)\n",
    "\n",
    "            nDCG.append(dcg / idcg) \n",
    "\n",
    "    return hitrates, recall, nDCG"
   ]
  },
  {
   "cell_type": "markdown",
   "metadata": {},
   "source": [
    "# Train model"
   ]
  },
  {
   "cell_type": "code",
   "execution_count": 36,
   "metadata": {
    "pycharm": {
     "is_executing": false
    }
   },
   "outputs": [],
   "source": [
    "def params_to_str(params):\n",
    "    \"\"\"\n",
    "    turn a models parameters to a string to paste somewhere\n",
    "    :param params: the list of parameters\n",
    "    :return: a string\n",
    "    \"\"\"\n",
    "    return \"-\".join([s.__name__ if callable(s) else str(s) for s in params] )\n",
    "\n",
    "def score_model(rbm, batch_size, train_matrix, test_matrix):\n",
    "    \"\"\"\n",
    "    calculate an error for the output of our rbm for the unseen (and untrained upon) test-values\n",
    "    :param rbm: the model for which we test values\n",
    "    :param batch_size: the batchsize used for training/testing\n",
    "    :param train_matrix: the original input with which we try to get our test-values\n",
    "    :param test_matrix: the values we try for our model to acquire based on train_matrix\n",
    "    :return: the RMSE for our test-values\n",
    "    \"\"\"\n",
    "    test_recon_error = 0  # RMSE reconstruction error initialized to 0 at the beginning of training\n",
    "    s = 0  # a counter (float type) \n",
    "    # for loop - go through every single user\n",
    "    for id_user in range(0, train_matrix.shape[0] - batch_size, batch_size):\n",
    "        v = train_matrix[id_user:id_user + batch_size]  # training set inputs are used to activate neurons of my RBM\n",
    "        vt = test_matrix[id_user:id_user + batch_size]  # target\n",
    "        v = convert_sparse_matrix_to_sparse_tensor(v)\n",
    "        vt = convert_sparse_matrix_to_sparse_tensor(vt)\n",
    "\n",
    "        v = v.to_dense()\n",
    "        vt = vt.to_dense()\n",
    "        v = v.sub(1)\n",
    "        vt = vt.sub(1)\n",
    "        \n",
    "        if torch.cuda.is_available():\n",
    "            v = v.cuda()\n",
    "            vt = vt.cuda()\n",
    "\n",
    "        if len(vt[vt > -1]) > 0:\n",
    "            vk = rbm(v)\n",
    "            \n",
    "            # Update test RMSE reconstruction error\n",
    "            loss = torch.sqrt(torch.mean((vt[vt > -1] - vk[vt > -1])**2))\n",
    "            loss.backward()\n",
    "            test_recon_error += loss\n",
    "            s += 1\n",
    "\n",
    "    return test_recon_error / s \n",
    "\n",
    "\n",
    "# https://stackoverflow.com/questions/40896157/scipy-sparse-csr-matrix-to-tensorflow-sparsetensor-mini-batch-gradient-descent\n",
    "def convert_sparse_matrix_to_sparse_tensor(X, k=5):\n",
    "    \"\"\"\n",
    "    turn the Sparse scipy matrix into a sparse pytorch tensor\n",
    "    :param X: the Sparse scipy matrix\n",
    "    :param k: the amount of possible ratings we have given to our user-game pairs\n",
    "    :return: a sparse 3-D pytorch tensor of dimensions game-user-rating\n",
    "    \"\"\"\n",
    "    coo = X.tocoo()\n",
    "\n",
    "    values = coo.data\n",
    "    indices = np.vstack((coo.row, coo.col))\n",
    "\n",
    "    i = torch.LongTensor(indices)\n",
    "    v = torch.FloatTensor(values)\n",
    "    # print(values)\n",
    "    # print(\"values\", v)\n",
    "    shape = coo.shape\n",
    "    tensor = torch.sparse.FloatTensor(i, v, torch.Size(shape)) \n",
    "    if torch.cuda.is_available():\n",
    "        tensor = tensor.cuda()\n",
    "\n",
    "    return tensor \n",
    "    \n",
    "def create_rbm(train_matrix, test_matrix, batch_size, epochs, params, model=None, k=5, hrmod=20):\n",
    "    \"\"\"\n",
    "    generate and train an ANN on train_matrix as input (use name to be backward compatible)\n",
    "    :param train_matrix: the input upon which our model is trained\n",
    "    :param test_matrix: the input upon which our model is validated\n",
    "    :param batch_size: the batchsize we use\n",
    "    :param epochs: the amount of epochs we will be running\n",
    "    :param model: an optional variable that if not None trains a pre-generated model further instead of generating a new one\n",
    "    :param k: the amount of possible ratings we have given to our user-game pairs\n",
    "    :return: a trained RBM\n",
    "    \"\"\"\n",
    "    n_vis = train_matrix.shape[1]\n",
    "    train_errors = []\n",
    "    test_errors = []\n",
    "    if model is None:\n",
    "        model = network(n_vis, n_vis, *params)\n",
    "    optim = torch.optim.SGD(model.parameters(), lr=0.02, momentum=0.9)\n",
    "\n",
    "    metrics = {\n",
    "        \"hr\": [],\n",
    "        \"r\": [],\n",
    "        \"ndcg\": []\n",
    "    }\n",
    "\n",
    "    print(\"start training\")\n",
    "    for epoch in trange(epochs):\n",
    "        model.train()\n",
    "        train_recon_error = 0  # RMSE reconstruction error initialized to 0 at the beginning of training\n",
    "        s = 0\n",
    "        \n",
    "        for user_id in range(0, train_matrix.shape[0] - batch_size, batch_size):\n",
    "            training_sample = train_matrix[user_id : user_id + batch_size]\n",
    "            v0 = convert_sparse_matrix_to_sparse_tensor(training_sample)\n",
    "\n",
    "            v0 = v0.to_dense()\n",
    "            v0 = v0.sub(1)\n",
    "            \n",
    "            optim.zero_grad()            \n",
    "            vk = model(v0)\n",
    "            loss = torch.sqrt(torch.mean((v0[v0 > -1] - vk[v0 > -1])**2))\n",
    "            loss.backward()\n",
    "            optim.step()\n",
    "            train_recon_error +=loss\n",
    "            s += 1\n",
    "            \n",
    "        train_errors.append(train_recon_error / s)\n",
    "\n",
    "        model.eval()\n",
    "        test_errors.append(score_model(model, batch_size, train_matrix, test_matrix))\n",
    "\n",
    "        if epoch % hrmod == hrmod - 1:\n",
    "            hr, r, ndcg = compute_hr(train_matrix, test_matrix, model, batch_size=batch_size)\n",
    "            metrics[\"hr\"].append(np.average(hr))\n",
    "            metrics[\"r\"].append(np.average(r))\n",
    "            metrics[\"ndcg\"].append(np.average(ndcg))\n",
    "\n",
    "\n",
    "    import matplotlib.pyplot as plt\n",
    "    # Plot the RMSE reconstruction error with respect to increasing number of epochs\n",
    "    plt.plot(torch.Tensor(train_errors, device='cpu'), label=\"train\")\n",
    "    plt.plot(torch.Tensor(test_errors, device='cpu'), label=\"test\")\n",
    "    plt.ylabel('Error')\n",
    "    plt.xlabel('Epoch')\n",
    "    plt.legend()\n",
    "\n",
    "\n",
    "    plt.savefig(f'ann-{params_to_str(params)}-{batch_size}-{epochs}.jpg')\n",
    "    plt.show()\n",
    "    plt.clf()\n",
    "\n",
    "    return model, metrics\n"
   ]
  },
  {
   "cell_type": "markdown",
   "metadata": {},
   "source": [
    "# Hyperparam Tuning\n",
    "\n",
    "test various combinations of layer inputs dropout activationfunctions and scoring functions to see which performs best"
   ]
  },
  {
   "cell_type": "code",
   "execution_count": 21,
   "metadata": {},
   "outputs": [],
   "source": [
    "train_matrix = get_sparse_matrix(train0)\n",
    "test_matrix = get_sparse_matrix(test0)"
   ]
  },
  {
   "cell_type": "code",
   "execution_count": null,
   "metadata": {},
   "outputs": [],
   "source": [
    "l1s = np.arange(4, 32, 4)\n",
    "l2s = np.arange(8, 65, 8)\n",
    "l3s = np.arange(16, 129, 16)\n",
    "# l1s = [48]\n",
    "# l2s = [32, 48]\n",
    "# dropouts = [0.1, 0.2, 0.3]\n",
    "dropouts = [0.1]\n",
    "\n",
    "epochs = 100\n",
    "activation = torch.tanh\n",
    "\n",
    "for l1 in l1s:\n",
    "    for l2 in l2s:\n",
    "        for l3 in l3s:\n",
    "            for dropout in dropouts:\n",
    "                model, metrics = create_rbm(train_matrix, test_matrix, 10000, epochs, (dropout, l1, l2, l3, activation), hrmod=20)\n",
    "                \n",
    "                torch.save(model.state_dict(), f\"./ann-rating-{l1}-{l2}-{l3}-{dropout}-steam{epochs}-train0\")\n",
    "                with open(f\"metrics-rating-{l1}-{l2}-{l3}-{dropout}.json\", \"w\") as f:\n",
    "                    f.write(json.dumps(metrics))"
   ]
  }
 ],
 "metadata": {
  "interpreter": {
   "hash": "ac59ebe37160ed0dfa835113d9b8498d9f09ceb179beaac4002f036b9467c963"
  },
  "kernelspec": {
   "display_name": "PyCharm (ai-project)",
   "language": "python",
   "name": "python3"
  },
  "language_info": {
   "codemirror_mode": {
    "name": "ipython",
    "version": 3
   },
   "file_extension": ".py",
   "mimetype": "text/x-python",
   "name": "python",
   "nbconvert_exporter": "python",
   "pygments_lexer": "ipython3",
   "version": "3.9.7"
  },
  "orig_nbformat": 4,
  "pycharm": {
   "stem_cell": {
    "cell_type": "raw",
    "source": [],
    "metadata": {
     "collapsed": false
    }
   }
  }
 },
 "nbformat": 4,
 "nbformat_minor": 2
}